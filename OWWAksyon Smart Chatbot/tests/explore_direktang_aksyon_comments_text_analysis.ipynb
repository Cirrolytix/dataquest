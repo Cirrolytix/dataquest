{
 "cells": [
  {
   "cell_type": "code",
   "execution_count": 1,
   "id": "851cc907",
   "metadata": {
    "ExecuteTime": {
     "end_time": "2022-09-27T14:46:36.850354Z",
     "start_time": "2022-09-27T14:46:36.848577Z"
    }
   },
   "outputs": [],
   "source": [
    "import sys\n",
    "sys.path.append(\"..\")"
   ]
  },
  {
   "cell_type": "code",
   "execution_count": 2,
   "id": "57d621a6",
   "metadata": {
    "ExecuteTime": {
     "end_time": "2022-09-27T14:46:37.829409Z",
     "start_time": "2022-09-27T14:46:36.851647Z"
    },
    "scrolled": true
   },
   "outputs": [],
   "source": [
    "import numpy as np\n",
    "import pandas as pd\n",
    "\n",
    "import matplotlib.pyplot as plt\n",
    "import seaborn as sns\n",
    "\n",
    "from re import sub\n",
    "from pprint import pprint\n",
    "from sklearn.feature_extraction.text import TfidfVectorizer\n",
    "\n",
    "from nltk.corpus import stopwords\n",
    "from nltk import ngrams\n",
    "\n",
    "from src.utils.clean_comments import CommentCleaner\n",
    "import os"
   ]
  },
  {
   "cell_type": "code",
   "execution_count": 3,
   "id": "fa59aca0",
   "metadata": {
    "ExecuteTime": {
     "end_time": "2022-09-27T14:46:37.884473Z",
     "start_time": "2022-09-27T14:46:37.830174Z"
    }
   },
   "outputs": [],
   "source": [
    "file_dir = '../data/comments/'\n",
    "df_list = []\n",
    "for fn in [tf for tf in os.listdir(file_dir) if ('.csv' in tf) & (~tf.endswith('_.csv'))]:\n",
    "    df = pd.read_csv(file_dir+fn)\n",
    "    df['date_aired'] = pd.to_datetime(fn.split('_')[-1].split('.')[0]).strftime('%Y-%m-%d')\n",
    "    df_list.append(df[['date_aired','sender_name','text']])"
   ]
  },
  {
   "cell_type": "code",
   "execution_count": 4,
   "id": "66a4a0f6",
   "metadata": {
    "ExecuteTime": {
     "end_time": "2022-09-27T14:46:38.018960Z",
     "start_time": "2022-09-27T14:46:37.885667Z"
    }
   },
   "outputs": [
    {
     "data": {
      "text/html": [
       "<div>\n",
       "<style scoped>\n",
       "    .dataframe tbody tr th:only-of-type {\n",
       "        vertical-align: middle;\n",
       "    }\n",
       "\n",
       "    .dataframe tbody tr th {\n",
       "        vertical-align: top;\n",
       "    }\n",
       "\n",
       "    .dataframe thead th {\n",
       "        text-align: right;\n",
       "    }\n",
       "</style>\n",
       "<table border=\"1\" class=\"dataframe\">\n",
       "  <thead>\n",
       "    <tr style=\"text-align: right;\">\n",
       "      <th></th>\n",
       "      <th>comment_id</th>\n",
       "      <th>date_aired</th>\n",
       "      <th>sender_name</th>\n",
       "      <th>text</th>\n",
       "    </tr>\n",
       "  </thead>\n",
       "  <tbody>\n",
       "    <tr>\n",
       "      <th>0</th>\n",
       "      <td>202207070061</td>\n",
       "      <td>2022-07-07</td>\n",
       "      <td>John Godfrey</td>\n",
       "      <td>Palala lamang po sa mga ofws sa ksa wag mameke...</td>\n",
       "    </tr>\n",
       "    <tr>\n",
       "      <th>1</th>\n",
       "      <td>202207070062</td>\n",
       "      <td>2022-07-07</td>\n",
       "      <td>Rowena Ascrate</td>\n",
       "      <td>Hello,watching po from uae</td>\n",
       "    </tr>\n",
       "    <tr>\n",
       "      <th>2</th>\n",
       "      <td>202207070063</td>\n",
       "      <td>2022-07-07</td>\n",
       "      <td>Zhai Vhie Gimoro Francisco</td>\n",
       "      <td>Help nyo po aq sir arnel</td>\n",
       "    </tr>\n",
       "    <tr>\n",
       "      <th>3</th>\n",
       "      <td>202207070064</td>\n",
       "      <td>2022-07-07</td>\n",
       "      <td>Cbbc Fort Bonifacio SharjahOutreach</td>\n",
       "      <td>Good evening po Sirs and Mam</td>\n",
       "    </tr>\n",
       "    <tr>\n",
       "      <th>4</th>\n",
       "      <td>202207070065</td>\n",
       "      <td>2022-07-07</td>\n",
       "      <td>Agripina Esmajer</td>\n",
       "      <td>Hi Sir Arnel good evening Po!watching from San...</td>\n",
       "    </tr>\n",
       "    <tr>\n",
       "      <th>...</th>\n",
       "      <td>...</td>\n",
       "      <td>...</td>\n",
       "      <td>...</td>\n",
       "      <td>...</td>\n",
       "    </tr>\n",
       "    <tr>\n",
       "      <th>26214</th>\n",
       "      <td>202207211605</td>\n",
       "      <td>2022-07-21</td>\n",
       "      <td>Sarupac Jessa</td>\n",
       "      <td>Magandang araw po saan po pwede lumapit kung m...</td>\n",
       "    </tr>\n",
       "    <tr>\n",
       "      <th>26215</th>\n",
       "      <td>202207211606</td>\n",
       "      <td>2022-07-21</td>\n",
       "      <td>Sarupac Jessa</td>\n",
       "      <td>Magandang araw po saan po pwede lumapit kung m...</td>\n",
       "    </tr>\n",
       "    <tr>\n",
       "      <th>26216</th>\n",
       "      <td>202207211607</td>\n",
       "      <td>2022-07-21</td>\n",
       "      <td>Muslimah Balik Islam</td>\n",
       "      <td>From U.A.E pano po mag aply s owwa scholarship</td>\n",
       "    </tr>\n",
       "    <tr>\n",
       "      <th>26217</th>\n",
       "      <td>202207211608</td>\n",
       "      <td>2022-07-21</td>\n",
       "      <td>Lina Gabis</td>\n",
       "      <td>Sir tanong lang nagrenew kasi kami ng mga kasa...</td>\n",
       "    </tr>\n",
       "    <tr>\n",
       "      <th>26218</th>\n",
       "      <td>202207211609</td>\n",
       "      <td>2022-07-21</td>\n",
       "      <td>Muslimah Balik Islam</td>\n",
       "      <td>From U.a.e po pano po mag aply sa owwa scholar...</td>\n",
       "    </tr>\n",
       "  </tbody>\n",
       "</table>\n",
       "<p>26219 rows × 4 columns</p>\n",
       "</div>"
      ],
      "text/plain": [
       "         comment_id  date_aired                          sender_name  \\\n",
       "0      202207070061  2022-07-07                         John Godfrey   \n",
       "1      202207070062  2022-07-07                       Rowena Ascrate   \n",
       "2      202207070063  2022-07-07           Zhai Vhie Gimoro Francisco   \n",
       "3      202207070064  2022-07-07  Cbbc Fort Bonifacio SharjahOutreach   \n",
       "4      202207070065  2022-07-07                     Agripina Esmajer   \n",
       "...             ...         ...                                  ...   \n",
       "26214  202207211605  2022-07-21                        Sarupac Jessa   \n",
       "26215  202207211606  2022-07-21                        Sarupac Jessa   \n",
       "26216  202207211607  2022-07-21                 Muslimah Balik Islam   \n",
       "26217  202207211608  2022-07-21                           Lina Gabis   \n",
       "26218  202207211609  2022-07-21                 Muslimah Balik Islam   \n",
       "\n",
       "                                                    text  \n",
       "0      Palala lamang po sa mga ofws sa ksa wag mameke...  \n",
       "1                             Hello,watching po from uae  \n",
       "2                               Help nyo po aq sir arnel  \n",
       "3                           Good evening po Sirs and Mam  \n",
       "4      Hi Sir Arnel good evening Po!watching from San...  \n",
       "...                                                  ...  \n",
       "26214  Magandang araw po saan po pwede lumapit kung m...  \n",
       "26215  Magandang araw po saan po pwede lumapit kung m...  \n",
       "26216     From U.A.E pano po mag aply s owwa scholarship  \n",
       "26217  Sir tanong lang nagrenew kasi kami ng mga kasa...  \n",
       "26218  From U.a.e po pano po mag aply sa owwa scholar...  \n",
       "\n",
       "[26219 rows x 4 columns]"
      ]
     },
     "execution_count": 4,
     "metadata": {},
     "output_type": "execute_result"
    }
   ],
   "source": [
    "all_df = pd.concat(df_list).reset_index().rename(columns={'index':'comment_id'})\n",
    "all_df['comment_id'] = all_df['comment_id']+61\n",
    "all_df['comment_id']= all_df.apply(lambda x: \\\n",
    "                                   x['date_aired'].replace('-','')+str(x['comment_id']).rjust(4, '0'), axis=1)\n",
    "all_df"
   ]
  },
  {
   "cell_type": "code",
   "execution_count": 5,
   "id": "db1de843",
   "metadata": {
    "ExecuteTime": {
     "end_time": "2022-09-27T14:46:38.024118Z",
     "start_time": "2022-09-27T14:46:38.019664Z"
    }
   },
   "outputs": [],
   "source": [
    "# drop null rows\n",
    "all_df = all_df[~all_df['text'].isna()].reset_index(drop=True)"
   ]
  },
  {
   "cell_type": "markdown",
   "id": "5af38b0f",
   "metadata": {},
   "source": [
    "### Clean comments"
   ]
  },
  {
   "cell_type": "code",
   "execution_count": 6,
   "id": "69ab81a2",
   "metadata": {
    "ExecuteTime": {
     "end_time": "2022-09-27T14:46:38.029738Z",
     "start_time": "2022-09-27T14:46:38.024758Z"
    }
   },
   "outputs": [
    {
     "data": {
      "text/plain": [
       "31"
      ]
     },
     "execution_count": 6,
     "metadata": {},
     "output_type": "execute_result"
    }
   ],
   "source": [
    "cleaner = CommentCleaner()\n",
    "len(cleaner.get_padwords())"
   ]
  },
  {
   "cell_type": "code",
   "execution_count": 7,
   "id": "1e696a99",
   "metadata": {
    "ExecuteTime": {
     "end_time": "2022-09-27T14:46:38.034163Z",
     "start_time": "2022-09-27T14:46:38.030660Z"
    }
   },
   "outputs": [
    {
     "name": "stdout",
     "output_type": "stream",
     "text": [
      "pa aksyunan naman po yung dole akap region tapos na po yung pangako nila na first week ng september ano na po next na reason nila\n",
      "aksyunan dole akap region tapos pangako first week september next reason\n"
     ]
    }
   ],
   "source": [
    "test_comment = 'pa aksyunan naman po yung dole akap region tapos na po yung pangako nila na first week ng september ano na po next na reason nila'\n",
    "print(test_comment)\n",
    "print(cleaner.clean_comment(test_comment))"
   ]
  },
  {
   "cell_type": "code",
   "execution_count": 8,
   "id": "0b663031",
   "metadata": {
    "ExecuteTime": {
     "end_time": "2022-09-27T14:47:03.568314Z",
     "start_time": "2022-09-27T14:46:38.035145Z"
    }
   },
   "outputs": [],
   "source": [
    "all_df['clean_text'] = all_df['text'].apply(lambda x: cleaner.clean_comment(x))\n",
    "all_df['clean_text_word_count'] = all_df['clean_text'].apply(lambda x: len(x.split(' ')))"
   ]
  },
  {
   "cell_type": "code",
   "execution_count": 9,
   "id": "00a06cee",
   "metadata": {
    "ExecuteTime": {
     "end_time": "2022-09-27T14:47:03.586653Z",
     "start_time": "2022-09-27T14:47:03.569044Z"
    }
   },
   "outputs": [],
   "source": [
    "all_df['text_word_count'] = all_df['text'].apply(lambda x: len(x.split(' ')))"
   ]
  },
  {
   "cell_type": "code",
   "execution_count": 10,
   "id": "4ed606bf",
   "metadata": {
    "ExecuteTime": {
     "end_time": "2022-09-27T14:47:03.595817Z",
     "start_time": "2022-09-27T14:47:03.588809Z"
    }
   },
   "outputs": [
    {
     "data": {
      "text/html": [
       "<div>\n",
       "<style scoped>\n",
       "    .dataframe tbody tr th:only-of-type {\n",
       "        vertical-align: middle;\n",
       "    }\n",
       "\n",
       "    .dataframe tbody tr th {\n",
       "        vertical-align: top;\n",
       "    }\n",
       "\n",
       "    .dataframe thead th {\n",
       "        text-align: right;\n",
       "    }\n",
       "</style>\n",
       "<table border=\"1\" class=\"dataframe\">\n",
       "  <thead>\n",
       "    <tr style=\"text-align: right;\">\n",
       "      <th></th>\n",
       "      <th>text</th>\n",
       "      <th>clean_text</th>\n",
       "    </tr>\n",
       "  </thead>\n",
       "  <tbody>\n",
       "    <tr>\n",
       "      <th>700</th>\n",
       "      <td>Sana manoticed ung comment qpo</td>\n",
       "      <td>manoticed comment</td>\n",
       "    </tr>\n",
       "    <tr>\n",
       "      <th>701</th>\n",
       "      <td>Kuwait sir sana makasali ng anak ko sa Scholar...</td>\n",
       "      <td>kuwait anak scholar nme john mark antony pajente</td>\n",
       "    </tr>\n",
       "    <tr>\n",
       "      <th>702</th>\n",
       "      <td>Dinaman Na susunod Yan 600 dollar\\nsahod oooyyy.</td>\n",
       "      <td>dinaman susunod 600 dollar sahod oooyyy</td>\n",
       "    </tr>\n",
       "    <tr>\n",
       "      <th>703</th>\n",
       "      <td>Sir di ba maalis ang OEC dito sa UAE?pahirap p...</td>\n",
       "      <td>maalis oec uae pahirap samin sobra proseso</td>\n",
       "    </tr>\n",
       "    <tr>\n",
       "      <th>704</th>\n",
       "      <td>Sir paano po ma claim ang rebates nasa mindana...</td>\n",
       "      <td>claim rebates mindanao</td>\n",
       "    </tr>\n",
       "    <tr>\n",
       "      <th>705</th>\n",
       "      <td>Bagal ng bigay ng owwa balik pinas kainis dami...</td>\n",
       "      <td>bagal bigay owwa balik pinas kainis requirment</td>\n",
       "    </tr>\n",
       "    <tr>\n",
       "      <th>706</th>\n",
       "      <td>Nku nag punta si sir arnel dto sa oman hanggan...</td>\n",
       "      <td>punta oman muscat wala</td>\n",
       "    </tr>\n",
       "    <tr>\n",
       "      <th>707</th>\n",
       "      <td>Nag filr nko nang balik pinas pangkabuhayan te...</td>\n",
       "      <td>filr nko balik pinas pangkabuhayan tel wala</td>\n",
       "    </tr>\n",
       "    <tr>\n",
       "      <th>708</th>\n",
       "      <td>Hello sir arnel good bless po</td>\n",
       "      <td></td>\n",
       "    </tr>\n",
       "    <tr>\n",
       "      <th>709</th>\n",
       "      <td>Sir arnel paano po kami maka alis s amo namin po</td>\n",
       "      <td>alis amo</td>\n",
       "    </tr>\n",
       "    <tr>\n",
       "      <th>710</th>\n",
       "      <td>Sir sana poaaksyunan n po ung dole akap assist...</td>\n",
       "      <td>poaaksyunan dole akap assistance region 1year ...</td>\n",
       "    </tr>\n",
       "    <tr>\n",
       "      <th>711</th>\n",
       "      <td>Hibsir from hongkong</td>\n",
       "      <td>hongkong</td>\n",
       "    </tr>\n",
       "    <tr>\n",
       "      <th>712</th>\n",
       "      <td>Finish contract po ako 6 yrs balik</td>\n",
       "      <td>finish contract yrs balik</td>\n",
       "    </tr>\n",
       "    <tr>\n",
       "      <th>713</th>\n",
       "      <td>Balik pinas pangkinabuhayan...ano na january p...</td>\n",
       "      <td>balik pinas pangkinabuhayan january aply repat...</td>\n",
       "    </tr>\n",
       "    <tr>\n",
       "      <th>714</th>\n",
       "      <td>Sir arnel may assistance po ba na mkukuha ang ...</td>\n",
       "      <td>assistance mkukuha ofw owwa region cagayan valley</td>\n",
       "    </tr>\n",
       "    <tr>\n",
       "      <th>715</th>\n",
       "      <td>Good evening po s lahat..</td>\n",
       "      <td></td>\n",
       "    </tr>\n",
       "    <tr>\n",
       "      <th>716</th>\n",
       "      <td>Sir ako po nakakuha po ng balik pinas hanap bu...</td>\n",
       "      <td>nakakuha balik pinas hanap buhay filing anak s...</td>\n",
       "    </tr>\n",
       "    <tr>\n",
       "      <th>717</th>\n",
       "      <td>Sir mam magandang gabi poh sir arnel patulong ...</td>\n",
       "      <td>patulong asawa saudi nio awa nio nah</td>\n",
       "    </tr>\n",
       "    <tr>\n",
       "      <th>718</th>\n",
       "      <td>Mg 2nd yr college napo sya ds Open</td>\n",
       "      <td>2nd college open</td>\n",
       "    </tr>\n",
       "    <tr>\n",
       "      <th>719</th>\n",
       "      <td>Salamat sa pais scholar para sa anak ko</td>\n",
       "      <td>pais scholar anak</td>\n",
       "    </tr>\n",
       "    <tr>\n",
       "      <th>720</th>\n",
       "      <td>Sir sana wala nlang yang OEc pahirap talaga</td>\n",
       "      <td>wala oec pahirap</td>\n",
       "    </tr>\n",
       "    <tr>\n",
       "      <th>721</th>\n",
       "      <td>may 10k na po ba kami? august last year pa po ...</td>\n",
       "      <td>10k august last year umuwi</td>\n",
       "    </tr>\n",
       "    <tr>\n",
       "      <th>722</th>\n",
       "      <td>Sir pag hnd bako napaalis ng agency paponta ta...</td>\n",
       "      <td>hnd bako napaalis agency taiwan tapus kukunin ...</td>\n",
       "    </tr>\n",
       "    <tr>\n",
       "      <th>723</th>\n",
       "      <td>TANONG KO LQNG MGA SIR PWEDE NABA MAGTUNGO SA ...</td>\n",
       "      <td>tanong lqng naba magtungo ofw hospital pamilya...</td>\n",
       "    </tr>\n",
       "    <tr>\n",
       "      <th>724</th>\n",
       "      <td>Hello Sir Arnel pwede Po ba kau maka usap pers...</td>\n",
       "      <td>usap personal thru phone</td>\n",
       "    </tr>\n",
       "    <tr>\n",
       "      <th>725</th>\n",
       "      <td>Good evening sir arnel</td>\n",
       "      <td></td>\n",
       "    </tr>\n",
       "    <tr>\n",
       "      <th>726</th>\n",
       "      <td>How to apply for scholarships?</td>\n",
       "      <td>apply scholarships</td>\n",
       "    </tr>\n",
       "    <tr>\n",
       "      <th>727</th>\n",
       "      <td>Proud owwa member for 13 yrs active member OFW...</td>\n",
       "      <td>proud owwa member yrs active member ofw riyadh...</td>\n",
       "    </tr>\n",
       "    <tr>\n",
       "      <th>728</th>\n",
       "      <td>Watching here in kuwait</td>\n",
       "      <td>kuwait</td>\n",
       "    </tr>\n",
       "    <tr>\n",
       "      <th>729</th>\n",
       "      <td>Me makukuha po ba yung mga kadama na nakatapos...</td>\n",
       "      <td>makukuha nakatapos kontrata</td>\n",
       "    </tr>\n",
       "    <tr>\n",
       "      <th>730</th>\n",
       "      <td>Nanay ko po ofw member din po ng owwa scholars...</td>\n",
       "      <td>nanay ofw member owwa scholarship apply schola...</td>\n",
       "    </tr>\n",
       "    <tr>\n",
       "      <th>731</th>\n",
       "      <td>Sir kyln po repatriation nyo sa kuwait</td>\n",
       "      <td>kyln repatriation kuwait</td>\n",
       "    </tr>\n",
       "    <tr>\n",
       "      <th>732</th>\n",
       "      <td>Balik pinas kabuhayan january payon tel naw wa...</td>\n",
       "      <td>balik pinas kabuhayan january payon tel naw wa...</td>\n",
       "    </tr>\n",
       "    <tr>\n",
       "      <th>733</th>\n",
       "      <td>Dapat lahat mabasa ninyo lahat ng nag masage dto</td>\n",
       "      <td>mabasa ninyo masage</td>\n",
       "    </tr>\n",
       "    <tr>\n",
       "      <th>734</th>\n",
       "      <td>Tanong ko lang po about sa dole - akap.. appro...</td>\n",
       "      <td>tanong dole akap approve namn application bat ...</td>\n",
       "    </tr>\n",
       "    <tr>\n",
       "      <th>735</th>\n",
       "      <td>E xit po ako 7years myron ba ako makuha</td>\n",
       "      <td>xit 7years myron makuha</td>\n",
       "    </tr>\n",
       "    <tr>\n",
       "      <th>736</th>\n",
       "      <td>Tulongan nyo po sana kami kahit peach pinpqbay...</td>\n",
       "      <td>tulongan peach pinpqbayad kiwi</td>\n",
       "    </tr>\n",
       "    <tr>\n",
       "      <th>737</th>\n",
       "      <td>Sir Arnel, paki explain po yung about sa manda...</td>\n",
       "      <td>explain mandatory insurance oec</td>\n",
       "    </tr>\n",
       "    <tr>\n",
       "      <th>738</th>\n",
       "      <td>Good evening mam and sir</td>\n",
       "      <td></td>\n",
       "    </tr>\n",
       "    <tr>\n",
       "      <th>739</th>\n",
       "      <td>yung agency po hinold po yung passport ko, nee...</td>\n",
       "      <td>agency hinold passport need palit tao hindi ka...</td>\n",
       "    </tr>\n",
       "    <tr>\n",
       "      <th>740</th>\n",
       "      <td>Sir arnel may tanong lang po. Anong mga basiha...</td>\n",
       "      <td>tanong basihan bigyan umuuwi pinas 10k nabigya...</td>\n",
       "    </tr>\n",
       "    <tr>\n",
       "      <th>741</th>\n",
       "      <td>Tangalin sana yung commission base ng agent</td>\n",
       "      <td>commission base agent</td>\n",
       "    </tr>\n",
       "    <tr>\n",
       "      <th>742</th>\n",
       "      <td>Sir magkano na aang sahod ng new hired papunta...</td>\n",
       "      <td>aang sahod new hired papuntang middle east</td>\n",
       "    </tr>\n",
       "    <tr>\n",
       "      <th>743</th>\n",
       "      <td>Hi po sir arnel ignacio watching from fujairah...</td>\n",
       "      <td>fujairah shout asingan pangasinan</td>\n",
       "    </tr>\n",
       "    <tr>\n",
       "      <th>744</th>\n",
       "      <td>Sir ngfile po q nung ng exit ako may mkukuha p...</td>\n",
       "      <td>ngfile exit mkukuha ngbibigay owwa everytime a...</td>\n",
       "    </tr>\n",
       "    <tr>\n",
       "      <th>745</th>\n",
       "      <td>Case need for help.</td>\n",
       "      <td>case need</td>\n",
       "    </tr>\n",
       "    <tr>\n",
       "      <th>746</th>\n",
       "      <td>kelan po may 3rd tranche para sa ofw yung sa e...</td>\n",
       "      <td>kelan 3rd tranche ofw educational</td>\n",
       "    </tr>\n",
       "    <tr>\n",
       "      <th>747</th>\n",
       "      <td>Sir /madam. Pwede ipatanggal nalang Yong OEC N...</td>\n",
       "      <td>oec</td>\n",
       "    </tr>\n",
       "    <tr>\n",
       "      <th>748</th>\n",
       "      <td>Pag exit ba myron ba akong.makuha sa.owwa</td>\n",
       "      <td>exit myron makuha owwa</td>\n",
       "    </tr>\n",
       "    <tr>\n",
       "      <th>749</th>\n",
       "      <td>Hello po open na po ba papunta sa saudia Arabia?</td>\n",
       "      <td>open papunta saudia arabia</td>\n",
       "    </tr>\n",
       "  </tbody>\n",
       "</table>\n",
       "</div>"
      ],
      "text/plain": [
       "                                                  text  \\\n",
       "700                     Sana manoticed ung comment qpo   \n",
       "701  Kuwait sir sana makasali ng anak ko sa Scholar...   \n",
       "702   Dinaman Na susunod Yan 600 dollar\\nsahod oooyyy.   \n",
       "703  Sir di ba maalis ang OEC dito sa UAE?pahirap p...   \n",
       "704  Sir paano po ma claim ang rebates nasa mindana...   \n",
       "705  Bagal ng bigay ng owwa balik pinas kainis dami...   \n",
       "706  Nku nag punta si sir arnel dto sa oman hanggan...   \n",
       "707  Nag filr nko nang balik pinas pangkabuhayan te...   \n",
       "708                      Hello sir arnel good bless po   \n",
       "709   Sir arnel paano po kami maka alis s amo namin po   \n",
       "710  Sir sana poaaksyunan n po ung dole akap assist...   \n",
       "711                               Hibsir from hongkong   \n",
       "712                 Finish contract po ako 6 yrs balik   \n",
       "713  Balik pinas pangkinabuhayan...ano na january p...   \n",
       "714  Sir arnel may assistance po ba na mkukuha ang ...   \n",
       "715                          Good evening po s lahat..   \n",
       "716  Sir ako po nakakuha po ng balik pinas hanap bu...   \n",
       "717  Sir mam magandang gabi poh sir arnel patulong ...   \n",
       "718                 Mg 2nd yr college napo sya ds Open   \n",
       "719            Salamat sa pais scholar para sa anak ko   \n",
       "720        Sir sana wala nlang yang OEc pahirap talaga   \n",
       "721  may 10k na po ba kami? august last year pa po ...   \n",
       "722  Sir pag hnd bako napaalis ng agency paponta ta...   \n",
       "723  TANONG KO LQNG MGA SIR PWEDE NABA MAGTUNGO SA ...   \n",
       "724  Hello Sir Arnel pwede Po ba kau maka usap pers...   \n",
       "725                             Good evening sir arnel   \n",
       "726                     How to apply for scholarships?   \n",
       "727  Proud owwa member for 13 yrs active member OFW...   \n",
       "728                            Watching here in kuwait   \n",
       "729  Me makukuha po ba yung mga kadama na nakatapos...   \n",
       "730  Nanay ko po ofw member din po ng owwa scholars...   \n",
       "731             Sir kyln po repatriation nyo sa kuwait   \n",
       "732  Balik pinas kabuhayan january payon tel naw wa...   \n",
       "733   Dapat lahat mabasa ninyo lahat ng nag masage dto   \n",
       "734  Tanong ko lang po about sa dole - akap.. appro...   \n",
       "735            E xit po ako 7years myron ba ako makuha   \n",
       "736  Tulongan nyo po sana kami kahit peach pinpqbay...   \n",
       "737  Sir Arnel, paki explain po yung about sa manda...   \n",
       "738                           Good evening mam and sir   \n",
       "739  yung agency po hinold po yung passport ko, nee...   \n",
       "740  Sir arnel may tanong lang po. Anong mga basiha...   \n",
       "741        Tangalin sana yung commission base ng agent   \n",
       "742  Sir magkano na aang sahod ng new hired papunta...   \n",
       "743  Hi po sir arnel ignacio watching from fujairah...   \n",
       "744  Sir ngfile po q nung ng exit ako may mkukuha p...   \n",
       "745                                Case need for help.   \n",
       "746  kelan po may 3rd tranche para sa ofw yung sa e...   \n",
       "747  Sir /madam. Pwede ipatanggal nalang Yong OEC N...   \n",
       "748          Pag exit ba myron ba akong.makuha sa.owwa   \n",
       "749   Hello po open na po ba papunta sa saudia Arabia?   \n",
       "\n",
       "                                            clean_text  \n",
       "700                                  manoticed comment  \n",
       "701   kuwait anak scholar nme john mark antony pajente  \n",
       "702            dinaman susunod 600 dollar sahod oooyyy  \n",
       "703         maalis oec uae pahirap samin sobra proseso  \n",
       "704                             claim rebates mindanao  \n",
       "705     bagal bigay owwa balik pinas kainis requirment  \n",
       "706                             punta oman muscat wala  \n",
       "707        filr nko balik pinas pangkabuhayan tel wala  \n",
       "708                                                     \n",
       "709                                           alis amo  \n",
       "710  poaaksyunan dole akap assistance region 1year ...  \n",
       "711                                           hongkong  \n",
       "712                          finish contract yrs balik  \n",
       "713  balik pinas pangkinabuhayan january aply repat...  \n",
       "714  assistance mkukuha ofw owwa region cagayan valley  \n",
       "715                                                     \n",
       "716  nakakuha balik pinas hanap buhay filing anak s...  \n",
       "717               patulong asawa saudi nio awa nio nah  \n",
       "718                                   2nd college open  \n",
       "719                                  pais scholar anak  \n",
       "720                                   wala oec pahirap  \n",
       "721                         10k august last year umuwi  \n",
       "722  hnd bako napaalis agency taiwan tapus kukunin ...  \n",
       "723  tanong lqng naba magtungo ofw hospital pamilya...  \n",
       "724                           usap personal thru phone  \n",
       "725                                                     \n",
       "726                                 apply scholarships  \n",
       "727  proud owwa member yrs active member ofw riyadh...  \n",
       "728                                             kuwait  \n",
       "729                        makukuha nakatapos kontrata  \n",
       "730  nanay ofw member owwa scholarship apply schola...  \n",
       "731                           kyln repatriation kuwait  \n",
       "732  balik pinas kabuhayan january payon tel naw wa...  \n",
       "733                                mabasa ninyo masage  \n",
       "734  tanong dole akap approve namn application bat ...  \n",
       "735                            xit 7years myron makuha  \n",
       "736                     tulongan peach pinpqbayad kiwi  \n",
       "737                    explain mandatory insurance oec  \n",
       "738                                                     \n",
       "739  agency hinold passport need palit tao hindi ka...  \n",
       "740  tanong basihan bigyan umuuwi pinas 10k nabigya...  \n",
       "741                              commission base agent  \n",
       "742         aang sahod new hired papuntang middle east  \n",
       "743                  fujairah shout asingan pangasinan  \n",
       "744  ngfile exit mkukuha ngbibigay owwa everytime a...  \n",
       "745                                          case need  \n",
       "746                  kelan 3rd tranche ofw educational  \n",
       "747                                                oec  \n",
       "748                             exit myron makuha owwa  \n",
       "749                         open papunta saudia arabia  "
      ]
     },
     "execution_count": 10,
     "metadata": {},
     "output_type": "execute_result"
    }
   ],
   "source": [
    "all_df[['text','clean_text']].iloc[700:750]"
   ]
  },
  {
   "cell_type": "code",
   "execution_count": 12,
   "id": "45ceeb9f",
   "metadata": {
    "ExecuteTime": {
     "end_time": "2022-09-27T14:47:03.612109Z",
     "start_time": "2022-09-27T14:47:03.610455Z"
    }
   },
   "outputs": [],
   "source": [
    "# tl_stopwords = pd.read_csv('../data/tl_stopwords.csv', header=None)\n",
    "# tl_stopwords['n'] = tl_stopwords[0].apply(len)\n",
    "# tl_stopwords.sort_values(by='n')\n",
    "#tl_stopwords[0].to_csv('../data/tl_stopwords_.csv', index=False)"
   ]
  },
  {
   "cell_type": "code",
   "execution_count": 13,
   "id": "2949e5e7",
   "metadata": {
    "ExecuteTime": {
     "end_time": "2022-09-27T14:47:03.615756Z",
     "start_time": "2022-09-27T14:47:03.612895Z"
    }
   },
   "outputs": [
    {
     "data": {
      "text/plain": [
       "7093"
      ]
     },
     "execution_count": 13,
     "metadata": {},
     "output_type": "execute_result"
    }
   ],
   "source": [
    "len(all_df[all_df['text_word_count']<=5])"
   ]
  },
  {
   "cell_type": "code",
   "execution_count": 14,
   "id": "fcde7bb8",
   "metadata": {
    "ExecuteTime": {
     "end_time": "2022-09-27T14:47:03.621682Z",
     "start_time": "2022-09-27T14:47:03.616512Z"
    }
   },
   "outputs": [
    {
     "data": {
      "text/html": [
       "<div>\n",
       "<style scoped>\n",
       "    .dataframe tbody tr th:only-of-type {\n",
       "        vertical-align: middle;\n",
       "    }\n",
       "\n",
       "    .dataframe tbody tr th {\n",
       "        vertical-align: top;\n",
       "    }\n",
       "\n",
       "    .dataframe thead th {\n",
       "        text-align: right;\n",
       "    }\n",
       "</style>\n",
       "<table border=\"1\" class=\"dataframe\">\n",
       "  <thead>\n",
       "    <tr style=\"text-align: right;\">\n",
       "      <th></th>\n",
       "      <th>comment_id</th>\n",
       "      <th>date_aired</th>\n",
       "      <th>sender_name</th>\n",
       "      <th>text</th>\n",
       "      <th>clean_text</th>\n",
       "      <th>clean_text_word_count</th>\n",
       "      <th>text_word_count</th>\n",
       "    </tr>\n",
       "  </thead>\n",
       "  <tbody>\n",
       "    <tr>\n",
       "      <th>1</th>\n",
       "      <td>202207070062</td>\n",
       "      <td>2022-07-07</td>\n",
       "      <td>Rowena Ascrate</td>\n",
       "      <td>Hello,watching po from uae</td>\n",
       "      <td>uae</td>\n",
       "      <td>1</td>\n",
       "      <td>4</td>\n",
       "    </tr>\n",
       "    <tr>\n",
       "      <th>15</th>\n",
       "      <td>202207070076</td>\n",
       "      <td>2022-07-07</td>\n",
       "      <td>Rechelle Nadao</td>\n",
       "      <td>Watching from saudi riyadh po</td>\n",
       "      <td>saudi riyadh</td>\n",
       "      <td>2</td>\n",
       "      <td>5</td>\n",
       "    </tr>\n",
       "    <tr>\n",
       "      <th>16</th>\n",
       "      <td>202207070077</td>\n",
       "      <td>2022-07-07</td>\n",
       "      <td>Gen Evieve</td>\n",
       "      <td>Watching from Kuwait po</td>\n",
       "      <td>kuwait</td>\n",
       "      <td>1</td>\n",
       "      <td>4</td>\n",
       "    </tr>\n",
       "    <tr>\n",
       "      <th>17</th>\n",
       "      <td>202207070078</td>\n",
       "      <td>2022-07-07</td>\n",
       "      <td>Alda P. Pecate</td>\n",
       "      <td>Hello po watching from Bahrain</td>\n",
       "      <td>bahrain</td>\n",
       "      <td>1</td>\n",
       "      <td>5</td>\n",
       "    </tr>\n",
       "    <tr>\n",
       "      <th>22</th>\n",
       "      <td>202207070083</td>\n",
       "      <td>2022-07-07</td>\n",
       "      <td>Wilma Olayres</td>\n",
       "      <td>God bless everyone po</td>\n",
       "      <td>everyone</td>\n",
       "      <td>1</td>\n",
       "      <td>4</td>\n",
       "    </tr>\n",
       "    <tr>\n",
       "      <th>...</th>\n",
       "      <td>...</td>\n",
       "      <td>...</td>\n",
       "      <td>...</td>\n",
       "      <td>...</td>\n",
       "      <td>...</td>\n",
       "      <td>...</td>\n",
       "      <td>...</td>\n",
       "    </tr>\n",
       "    <tr>\n",
       "      <th>26112</th>\n",
       "      <td>202207211597</td>\n",
       "      <td>2022-07-21</td>\n",
       "      <td>Waka Waka Leizel</td>\n",
       "      <td>Waching from the promised land</td>\n",
       "      <td>promised land</td>\n",
       "      <td>2</td>\n",
       "      <td>5</td>\n",
       "    </tr>\n",
       "    <tr>\n",
       "      <th>26113</th>\n",
       "      <td>202207211598</td>\n",
       "      <td>2022-07-21</td>\n",
       "      <td>Waka Waka Leizel</td>\n",
       "      <td>Watchinh from the promised land</td>\n",
       "      <td>promised land</td>\n",
       "      <td>2</td>\n",
       "      <td>5</td>\n",
       "    </tr>\n",
       "    <tr>\n",
       "      <th>26114</th>\n",
       "      <td>202207211599</td>\n",
       "      <td>2022-07-21</td>\n",
       "      <td>Ann Lerin</td>\n",
       "      <td>Anna bella lerin</td>\n",
       "      <td>anna bella lerin</td>\n",
       "      <td>3</td>\n",
       "      <td>3</td>\n",
       "    </tr>\n",
       "    <tr>\n",
       "      <th>26115</th>\n",
       "      <td>202207211600</td>\n",
       "      <td>2022-07-21</td>\n",
       "      <td>Jarred Vidal De Guzman</td>\n",
       "      <td>OWWA Membership Question.</td>\n",
       "      <td>owwa membership question</td>\n",
       "      <td>3</td>\n",
       "      <td>3</td>\n",
       "    </tr>\n",
       "    <tr>\n",
       "      <th>26116</th>\n",
       "      <td>202207211601</td>\n",
       "      <td>2022-07-21</td>\n",
       "      <td>Marites Intia Romantique</td>\n",
       "      <td>Watching from macao</td>\n",
       "      <td></td>\n",
       "      <td>1</td>\n",
       "      <td>3</td>\n",
       "    </tr>\n",
       "  </tbody>\n",
       "</table>\n",
       "<p>7093 rows × 7 columns</p>\n",
       "</div>"
      ],
      "text/plain": [
       "         comment_id  date_aired               sender_name  \\\n",
       "1      202207070062  2022-07-07            Rowena Ascrate   \n",
       "15     202207070076  2022-07-07            Rechelle Nadao   \n",
       "16     202207070077  2022-07-07                Gen Evieve   \n",
       "17     202207070078  2022-07-07            Alda P. Pecate   \n",
       "22     202207070083  2022-07-07             Wilma Olayres   \n",
       "...             ...         ...                       ...   \n",
       "26112  202207211597  2022-07-21          Waka Waka Leizel   \n",
       "26113  202207211598  2022-07-21          Waka Waka Leizel   \n",
       "26114  202207211599  2022-07-21                 Ann Lerin   \n",
       "26115  202207211600  2022-07-21    Jarred Vidal De Guzman   \n",
       "26116  202207211601  2022-07-21  Marites Intia Romantique   \n",
       "\n",
       "                                  text                clean_text  \\\n",
       "1           Hello,watching po from uae                       uae   \n",
       "15       Watching from saudi riyadh po              saudi riyadh   \n",
       "16             Watching from Kuwait po                    kuwait   \n",
       "17      Hello po watching from Bahrain                   bahrain   \n",
       "22               God bless everyone po                  everyone   \n",
       "...                                ...                       ...   \n",
       "26112   Waching from the promised land             promised land   \n",
       "26113  Watchinh from the promised land             promised land   \n",
       "26114                 Anna bella lerin          anna bella lerin   \n",
       "26115        OWWA Membership Question.  owwa membership question   \n",
       "26116              Watching from macao                             \n",
       "\n",
       "       clean_text_word_count  text_word_count  \n",
       "1                          1                4  \n",
       "15                         2                5  \n",
       "16                         1                4  \n",
       "17                         1                5  \n",
       "22                         1                4  \n",
       "...                      ...              ...  \n",
       "26112                      2                5  \n",
       "26113                      2                5  \n",
       "26114                      3                3  \n",
       "26115                      3                3  \n",
       "26116                      1                3  \n",
       "\n",
       "[7093 rows x 7 columns]"
      ]
     },
     "execution_count": 14,
     "metadata": {},
     "output_type": "execute_result"
    }
   ],
   "source": [
    "all_df[all_df['text_word_count']<=5]"
   ]
  },
  {
   "cell_type": "code",
   "execution_count": 15,
   "id": "0e53f55f",
   "metadata": {
    "ExecuteTime": {
     "end_time": "2022-09-27T14:47:03.624130Z",
     "start_time": "2022-09-27T14:47:03.622723Z"
    }
   },
   "outputs": [],
   "source": [
    "# text = 'Watching from saudi riyadh po'\n",
    "# text = cleaner.sanitize_text(text)\n",
    "# text = cleaner.remove_stopwords(text)\n",
    "# text = cleaner.remove_padwords(text)\n",
    "# text"
   ]
  },
  {
   "cell_type": "code",
   "execution_count": 16,
   "id": "18ad8c9f",
   "metadata": {
    "ExecuteTime": {
     "end_time": "2022-09-27T14:47:03.626711Z",
     "start_time": "2022-09-27T14:47:03.625068Z"
    }
   },
   "outputs": [],
   "source": [
    "#cleaner.remove_padwords(\"ma'am patulong po\")"
   ]
  },
  {
   "cell_type": "code",
   "execution_count": 17,
   "id": "c5e57165",
   "metadata": {
    "ExecuteTime": {
     "end_time": "2022-09-27T14:47:03.629764Z",
     "start_time": "2022-09-27T14:47:03.627774Z"
    }
   },
   "outputs": [
    {
     "data": {
      "text/plain": [
       "100"
      ]
     },
     "execution_count": 17,
     "metadata": {},
     "output_type": "execute_result"
    }
   ],
   "source": [
    "cleaner.compute_fuzz_score(\"thank\",\"thank\")"
   ]
  },
  {
   "cell_type": "code",
   "execution_count": 19,
   "id": "3319b4c5",
   "metadata": {
    "ExecuteTime": {
     "end_time": "2022-09-27T14:47:03.635905Z",
     "start_time": "2022-09-27T14:47:03.633923Z"
    }
   },
   "outputs": [
    {
     "data": {
      "text/plain": [
       "26125"
      ]
     },
     "execution_count": 19,
     "metadata": {},
     "output_type": "execute_result"
    }
   ],
   "source": [
    "len(all_df)"
   ]
  },
  {
   "cell_type": "code",
   "execution_count": 20,
   "id": "59988d9f",
   "metadata": {
    "ExecuteTime": {
     "end_time": "2022-09-27T14:47:03.640711Z",
     "start_time": "2022-09-27T14:47:03.636536Z"
    }
   },
   "outputs": [
    {
     "data": {
      "text/plain": [
       "19032"
      ]
     },
     "execution_count": 20,
     "metadata": {},
     "output_type": "execute_result"
    }
   ],
   "source": [
    "# remove comments fewer than 6 words\n",
    "all_df = all_df[all_df['text_word_count'] >= 6].reset_index(drop=True)\n",
    "len(all_df)"
   ]
  },
  {
   "cell_type": "code",
   "execution_count": 21,
   "id": "6de1e528",
   "metadata": {
    "ExecuteTime": {
     "end_time": "2022-09-27T14:47:03.646099Z",
     "start_time": "2022-09-27T14:47:03.641700Z"
    }
   },
   "outputs": [
    {
     "data": {
      "text/plain": [
       "17536"
      ]
     },
     "execution_count": 21,
     "metadata": {},
     "output_type": "execute_result"
    }
   ],
   "source": [
    "# remove comments empty text after cleaning\n",
    "all_df = all_df[all_df['clean_text_word_count'] >= 2].reset_index(drop=True)\n",
    "len(all_df)"
   ]
  },
  {
   "cell_type": "code",
   "execution_count": 22,
   "id": "cea62523",
   "metadata": {
    "ExecuteTime": {
     "end_time": "2022-09-27T14:47:03.653720Z",
     "start_time": "2022-09-27T14:47:03.646887Z"
    }
   },
   "outputs": [
    {
     "data": {
      "text/html": [
       "<div>\n",
       "<style scoped>\n",
       "    .dataframe tbody tr th:only-of-type {\n",
       "        vertical-align: middle;\n",
       "    }\n",
       "\n",
       "    .dataframe tbody tr th {\n",
       "        vertical-align: top;\n",
       "    }\n",
       "\n",
       "    .dataframe thead th {\n",
       "        text-align: right;\n",
       "    }\n",
       "</style>\n",
       "<table border=\"1\" class=\"dataframe\">\n",
       "  <thead>\n",
       "    <tr style=\"text-align: right;\">\n",
       "      <th></th>\n",
       "      <th>comment_id</th>\n",
       "      <th>date_aired</th>\n",
       "      <th>sender_name</th>\n",
       "      <th>text</th>\n",
       "      <th>clean_text</th>\n",
       "      <th>clean_text_word_count</th>\n",
       "      <th>text_word_count</th>\n",
       "    </tr>\n",
       "  </thead>\n",
       "  <tbody>\n",
       "    <tr>\n",
       "      <th>5</th>\n",
       "      <td>202207070069</td>\n",
       "      <td>2022-07-07</td>\n",
       "      <td>Nene Ike</td>\n",
       "      <td>Hello po watching from Cyprus Europe God bless...</td>\n",
       "      <td>cyprus europe</td>\n",
       "      <td>2</td>\n",
       "      <td>12</td>\n",
       "    </tr>\n",
       "    <tr>\n",
       "      <th>8</th>\n",
       "      <td>202207070080</td>\n",
       "      <td>2022-07-07</td>\n",
       "      <td>Arabella Constantino</td>\n",
       "      <td>Hi po sir arnel ignacio..watching from Riyadh ...</td>\n",
       "      <td>riyadh saudi</td>\n",
       "      <td>2</td>\n",
       "      <td>8</td>\n",
       "    </tr>\n",
       "    <tr>\n",
       "      <th>9</th>\n",
       "      <td>202207070081</td>\n",
       "      <td>2022-07-07</td>\n",
       "      <td>Rinbel Vale</td>\n",
       "      <td>Good evening po sir arnell, I'm watching from ...</td>\n",
       "      <td>riyadh saudi</td>\n",
       "      <td>2</td>\n",
       "      <td>10</td>\n",
       "    </tr>\n",
       "    <tr>\n",
       "      <th>14</th>\n",
       "      <td>202207070087</td>\n",
       "      <td>2022-07-07</td>\n",
       "      <td>Maricel Adriano Malana</td>\n",
       "      <td>Hello po good day,watching from qatar</td>\n",
       "      <td>day qatar</td>\n",
       "      <td>2</td>\n",
       "      <td>6</td>\n",
       "    </tr>\n",
       "    <tr>\n",
       "      <th>16</th>\n",
       "      <td>202207070090</td>\n",
       "      <td>2022-07-07</td>\n",
       "      <td>Beth Sobremonte</td>\n",
       "      <td>Hello po gud eve..to all staff</td>\n",
       "      <td>eve staff</td>\n",
       "      <td>2</td>\n",
       "      <td>6</td>\n",
       "    </tr>\n",
       "    <tr>\n",
       "      <th>...</th>\n",
       "      <td>...</td>\n",
       "      <td>...</td>\n",
       "      <td>...</td>\n",
       "      <td>...</td>\n",
       "      <td>...</td>\n",
       "      <td>...</td>\n",
       "      <td>...</td>\n",
       "    </tr>\n",
       "    <tr>\n",
       "      <th>17472</th>\n",
       "      <td>202207211464</td>\n",
       "      <td>2022-07-21</td>\n",
       "      <td>Annah Lyne</td>\n",
       "      <td>Gud eve po watching from hongkong</td>\n",
       "      <td>eve hongkong</td>\n",
       "      <td>2</td>\n",
       "      <td>6</td>\n",
       "    </tr>\n",
       "    <tr>\n",
       "      <th>17509</th>\n",
       "      <td>202207211536</td>\n",
       "      <td>2022-07-21</td>\n",
       "      <td>Junie Frasco Canete</td>\n",
       "      <td>Hello sir/mam watching from abha ksa</td>\n",
       "      <td>abha ksa</td>\n",
       "      <td>2</td>\n",
       "      <td>6</td>\n",
       "    </tr>\n",
       "    <tr>\n",
       "      <th>17510</th>\n",
       "      <td>202207211562</td>\n",
       "      <td>2022-07-21</td>\n",
       "      <td>Odnaib Gracekiel</td>\n",
       "      <td>Hi po good eve from Kuwait</td>\n",
       "      <td>eve kuwait</td>\n",
       "      <td>2</td>\n",
       "      <td>6</td>\n",
       "    </tr>\n",
       "    <tr>\n",
       "      <th>17511</th>\n",
       "      <td>202207211566</td>\n",
       "      <td>2022-07-21</td>\n",
       "      <td>Kristy Fajardo</td>\n",
       "      <td>Hello po sir watching ofw from qatar</td>\n",
       "      <td>ofw qatar</td>\n",
       "      <td>2</td>\n",
       "      <td>7</td>\n",
       "    </tr>\n",
       "    <tr>\n",
       "      <th>17512</th>\n",
       "      <td>202207211567</td>\n",
       "      <td>2022-07-21</td>\n",
       "      <td>Mary Grace Casilla</td>\n",
       "      <td>Hello poh watching from doha qatar</td>\n",
       "      <td>doha qatar</td>\n",
       "      <td>2</td>\n",
       "      <td>6</td>\n",
       "    </tr>\n",
       "  </tbody>\n",
       "</table>\n",
       "<p>1529 rows × 7 columns</p>\n",
       "</div>"
      ],
      "text/plain": [
       "         comment_id  date_aired             sender_name  \\\n",
       "5      202207070069  2022-07-07                Nene Ike   \n",
       "8      202207070080  2022-07-07    Arabella Constantino   \n",
       "9      202207070081  2022-07-07             Rinbel Vale   \n",
       "14     202207070087  2022-07-07  Maricel Adriano Malana   \n",
       "16     202207070090  2022-07-07         Beth Sobremonte   \n",
       "...             ...         ...                     ...   \n",
       "17472  202207211464  2022-07-21              Annah Lyne   \n",
       "17509  202207211536  2022-07-21     Junie Frasco Canete   \n",
       "17510  202207211562  2022-07-21        Odnaib Gracekiel   \n",
       "17511  202207211566  2022-07-21          Kristy Fajardo   \n",
       "17512  202207211567  2022-07-21      Mary Grace Casilla   \n",
       "\n",
       "                                                    text     clean_text  \\\n",
       "5      Hello po watching from Cyprus Europe God bless...  cyprus europe   \n",
       "8      Hi po sir arnel ignacio..watching from Riyadh ...   riyadh saudi   \n",
       "9      Good evening po sir arnell, I'm watching from ...   riyadh saudi   \n",
       "14                 Hello po good day,watching from qatar      day qatar   \n",
       "16                        Hello po gud eve..to all staff      eve staff   \n",
       "...                                                  ...            ...   \n",
       "17472                  Gud eve po watching from hongkong   eve hongkong   \n",
       "17509               Hello sir/mam watching from abha ksa       abha ksa   \n",
       "17510                         Hi po good eve from Kuwait     eve kuwait   \n",
       "17511               Hello po sir watching ofw from qatar      ofw qatar   \n",
       "17512                 Hello poh watching from doha qatar     doha qatar   \n",
       "\n",
       "       clean_text_word_count  text_word_count  \n",
       "5                          2               12  \n",
       "8                          2                8  \n",
       "9                          2               10  \n",
       "14                         2                6  \n",
       "16                         2                6  \n",
       "...                      ...              ...  \n",
       "17472                      2                6  \n",
       "17509                      2                6  \n",
       "17510                      2                6  \n",
       "17511                      2                7  \n",
       "17512                      2                6  \n",
       "\n",
       "[1529 rows x 7 columns]"
      ]
     },
     "execution_count": 22,
     "metadata": {},
     "output_type": "execute_result"
    }
   ],
   "source": [
    "all_df[all_df['clean_text_word_count'] == 2]"
   ]
  },
  {
   "cell_type": "code",
   "execution_count": 23,
   "id": "ecf0824a",
   "metadata": {
    "ExecuteTime": {
     "end_time": "2022-09-27T14:47:03.658625Z",
     "start_time": "2022-09-27T14:47:03.654603Z"
    }
   },
   "outputs": [
    {
     "data": {
      "text/plain": [
       "count    17536.000000\n",
       "mean         9.062044\n",
       "std          8.038674\n",
       "min          2.000000\n",
       "25%          4.000000\n",
       "50%          7.000000\n",
       "75%         11.000000\n",
       "max        207.000000\n",
       "Name: clean_text_word_count, dtype: float64"
      ]
     },
     "execution_count": 23,
     "metadata": {},
     "output_type": "execute_result"
    }
   ],
   "source": [
    "all_df['clean_text_word_count'].describe()"
   ]
  },
  {
   "cell_type": "markdown",
   "id": "0fee0f24",
   "metadata": {},
   "source": [
    "## Word Cloud"
   ]
  },
  {
   "cell_type": "code",
   "execution_count": 24,
   "id": "37dda443",
   "metadata": {
    "ExecuteTime": {
     "end_time": "2022-09-27T14:47:03.661093Z",
     "start_time": "2022-09-27T14:47:03.659661Z"
    }
   },
   "outputs": [],
   "source": [
    "vectorizer = TfidfVectorizer(min_df=1, max_df=9)"
   ]
  },
  {
   "cell_type": "code",
   "execution_count": 25,
   "id": "6297d612",
   "metadata": {
    "ExecuteTime": {
     "end_time": "2022-09-27T14:47:04.235651Z",
     "start_time": "2022-09-27T14:47:03.661893Z"
    }
   },
   "outputs": [
    {
     "data": {
      "image/png": "[encoded data removed]",
      "text/plain": [
       "<PIL.Image.Image image mode=RGB size=400x200 at 0x14BF28700>"
      ]
     },
     "execution_count": 25,
     "metadata": {},
     "output_type": "execute_result"
    }
   ],
   "source": [
    "# Import the wordcloud library\n",
    "from wordcloud import WordCloud\n",
    "# Join the different processed titles together.\n",
    "long_string = ','.join(list(all_df['clean_text'].values))\n",
    "# Create a WordCloud object\n",
    "wordcloud = WordCloud(background_color=\"white\", max_words=5000, contour_width=3, contour_color='steelblue')\n",
    "# Generate a word cloud\n",
    "wordcloud.generate(long_string)\n",
    "# Visualize the word cloud\n",
    "wordcloud.to_image()"
   ]
  },
  {
   "cell_type": "code",
   "execution_count": 26,
   "id": "a95de007",
   "metadata": {
    "ExecuteTime": {
     "end_time": "2022-09-27T14:47:04.332609Z",
     "start_time": "2022-09-27T14:47:04.236451Z"
    }
   },
   "outputs": [],
   "source": [
    "corpus = []\n",
    "nwords = [1,2,3,4]\n",
    "\n",
    "for n in nwords:\n",
    "    nword_corpus = []\n",
    "    for text in all_df['clean_text'].values:\n",
    "        nword_corpus.extend((ngrams(text.split(), n)))\n",
    "    corpus.append(nword_corpus)"
   ]
  },
  {
   "cell_type": "code",
   "execution_count": 36,
   "id": "1e4efb8b",
   "metadata": {
    "ExecuteTime": {
     "end_time": "2022-09-27T15:22:31.376499Z",
     "start_time": "2022-09-27T15:22:31.274494Z"
    }
   },
   "outputs": [],
   "source": [
    "words_top = pd.DataFrame(pd.Series([str(set(x))[1:-1] for x in corpus[0]]).value_counts()[0:500], columns=['frequency'])\n",
    "words_top.to_csv('../output/top_unigrams.csv')"
   ]
  },
  {
   "cell_type": "code",
   "execution_count": 40,
   "id": "369ea1d6",
   "metadata": {
    "ExecuteTime": {
     "end_time": "2022-09-27T15:26:58.529397Z",
     "start_time": "2022-09-27T15:26:58.417048Z"
    }
   },
   "outputs": [],
   "source": [
    "bigrams_top = pd.DataFrame(pd.Series([str(set(x))[1:-1] for x in corpus[1]]).value_counts()[0:200], columns=['frequency'])\n",
    "bigrams_top.to_csv('../output/top_bigrams.csv')                "
   ]
  },
  {
   "cell_type": "code",
   "execution_count": 41,
   "id": "ea5562de",
   "metadata": {
    "ExecuteTime": {
     "end_time": "2022-09-27T15:26:58.820995Z",
     "start_time": "2022-09-27T15:26:58.706508Z"
    }
   },
   "outputs": [],
   "source": [
    "trigrams_top = pd.DataFrame(pd.Series([str(set(x))[1:-1] for x in corpus[2]]).value_counts()[0:100], columns=['frequency'])\n",
    "trigrams_top.to_csv('../output/top_3grams.csv')"
   ]
  },
  {
   "cell_type": "code",
   "execution_count": 42,
   "id": "bb56060a",
   "metadata": {
    "ExecuteTime": {
     "end_time": "2022-09-27T15:26:59.049542Z",
     "start_time": "2022-09-27T15:26:58.934767Z"
    }
   },
   "outputs": [],
   "source": [
    "quadgrams_top = pd.DataFrame(pd.Series([str(set(x))[1:-1] for x in corpus[3]]).value_counts()[0:100], columns=['frequency'])\n",
    "quadgrams_top.to_csv('../output/top_4grams.csv')           "
   ]
  },
  {
   "cell_type": "markdown",
   "id": "2d287deb",
   "metadata": {},
   "source": [
    "## Topic identification"
   ]
  },
  {
   "cell_type": "code",
   "execution_count": 31,
   "id": "2c8a1090",
   "metadata": {
    "ExecuteTime": {
     "end_time": "2022-09-27T14:47:04.746202Z",
     "start_time": "2022-09-27T14:47:04.736866Z"
    }
   },
   "outputs": [],
   "source": [
    "from sklearn.feature_extraction.text import TfidfVectorizer\n",
    "from sklearn.decomposition import LatentDirichletAllocation\n",
    "from sklearn.decomposition import NMF\n",
    "from sklearn.pipeline import make_pipeline"
   ]
  },
  {
   "cell_type": "code",
   "execution_count": 32,
   "id": "14eaaff1",
   "metadata": {
    "ExecuteTime": {
     "end_time": "2022-09-27T14:47:04.748871Z",
     "start_time": "2022-09-27T14:47:04.746863Z"
    }
   },
   "outputs": [],
   "source": [
    "def get_topic_words(model, feature_names, n_top_words):\n",
    "    data= []\n",
    "    for topic_idx, topic in enumerate(model.components_):\n",
    "        topic_keywords = [feature_names[i]\n",
    "                             for i in topic.argsort()[:-n_top_words - 1:-1]]\n",
    "        data.append([topic_idx+1,topic_keywords])\n",
    "    result_df = pd.DataFrame(data, columns=['ID','Topic Keywords'])\n",
    "    return result_df"
   ]
  },
  {
   "cell_type": "code",
   "execution_count": 33,
   "id": "0574fbd9",
   "metadata": {
    "ExecuteTime": {
     "end_time": "2022-09-27T14:47:06.845230Z",
     "start_time": "2022-09-27T14:47:04.749651Z"
    }
   },
   "outputs": [
    {
     "name": "stderr",
     "output_type": "stream",
     "text": [
      "/opt/anaconda3/lib/python3.9/site-packages/sklearn/decomposition/_nmf.py:289: FutureWarning: The 'init' value, when 'init=None' and n_components is less than n_samples and n_features, will be changed from 'nndsvd' to 'nndsvda' in 1.1 (renaming of 0.26).\n",
      "  warnings.warn(\n",
      "/opt/anaconda3/lib/python3.9/site-packages/sklearn/utils/deprecation.py:87: FutureWarning: Function get_feature_names is deprecated; get_feature_names is deprecated in 1.0 and will be removed in 1.2. Please use get_feature_names_out instead.\n",
      "  warnings.warn(msg, category=FutureWarning)\n"
     ]
    }
   ],
   "source": [
    "tfidf_vectorizer = TfidfVectorizer(stop_words=[], ngram_range=(2,3))\n",
    "nmf = NMF(n_components=10)\n",
    "pipe = make_pipeline(tfidf_vectorizer, nmf)\n",
    "\n",
    "pipe.fit(all_df['clean_text'].values)\n",
    "results_df = get_topic_words(nmf, tfidf_vectorizer.get_feature_names(), n_top_words=5)\n",
    "results_df.to_csv(\"../output/topics_nmf.csv\",index=False)"
   ]
  },
  {
   "cell_type": "code",
   "execution_count": 34,
   "id": "76d60492",
   "metadata": {
    "ExecuteTime": {
     "end_time": "2022-09-27T14:47:12.689531Z",
     "start_time": "2022-09-27T14:47:06.846045Z"
    }
   },
   "outputs": [
    {
     "name": "stderr",
     "output_type": "stream",
     "text": [
      "/opt/anaconda3/lib/python3.9/site-packages/sklearn/utils/deprecation.py:87: FutureWarning: Function get_feature_names is deprecated; get_feature_names is deprecated in 1.0 and will be removed in 1.2. Please use get_feature_names_out instead.\n",
      "  warnings.warn(msg, category=FutureWarning)\n"
     ]
    }
   ],
   "source": [
    "lda = LatentDirichletAllocation(n_components=10)\n",
    "pipe = make_pipeline(tfidf_vectorizer, lda)\n",
    "pipe.fit(all_df['clean_text'].values)\n",
    "\n",
    "results_df = get_topic_words(lda, tfidf_vectorizer.get_feature_names(), n_top_words=5)\n",
    "results_df.to_csv(\"../output/topics_lda.csv\",index=False)"
   ]
  },
  {
   "cell_type": "markdown",
   "id": "d38b1dbd",
   "metadata": {},
   "source": [
    "## Check keywords"
   ]
  },
  {
   "cell_type": "code",
   "execution_count": 43,
   "id": "fff2b9c7",
   "metadata": {
    "ExecuteTime": {
     "end_time": "2022-09-27T15:27:30.310929Z",
     "start_time": "2022-09-27T15:27:30.300177Z"
    }
   },
   "outputs": [
    {
     "data": {
      "text/plain": [
       "array([['Sir pwdeng magtanong sa abudhabi ga po pag nag renyo ng owwa pwde direct na akong.pumunta kc d ako marunong sa online appointment.',\n",
       "        'pwdeng abudhabi renyo owwa direct pumunta online appointment'],\n",
       "       ['Sir pwde po ba ako pumunta sa philippine embassy.. Kahit wlang appointment.. Sir.. Para mag renew NG passport po7mag expired na ngayong Oct 2o 2022',\n",
       "        'pumunta philippine embassy wlang appointment renew passport po7mag expired ngayong oct 2022'],\n",
       "       ['Bakit ang Hirap mag book ng appointment po sa OWwa ??kawawa namna mga ofw pauwi n lng pahirapan pa Pag balik din pahirapan din',\n",
       "        'hirap book appointment owwa kawawa namna ofw pauwi pahirapan balik pahirapan'],\n",
       "       ['Hirap pong magbook ng appointment sa balik manggagawa.. Nag lolog po ung system..',\n",
       "        'hirap magbook appointment balik manggagawa lolog system'],\n",
       "       ['Good morning po dito po ako ngayon pinas sir/Mam ask ko lng po paano po yung di po maka log in sa bagong site ng OEC kasi po dina po nagagamit yung lumang email acct. meron po bang alternative way at pwede po bang walk in di po kasi makapag appointment balik na po kasi ako sa Sept 25 complete po ako ng requirments kasi po transfer po ako ng company at Sept 22 naman po ang aking Asawa sir same company sya salamat po sa inyo sa makaka tulong po Godbless',\n",
       "        'ngayon pinas ask log bagong site oec dina nagagamit email acct bang alternative way bang walk appointment balik sept complete requirments transfer company sept asawa company makaka tulong'],\n",
       "       ['Bkt po kya nglelead s appointment ung oec ko compkete details nmn lahat',\n",
       "        'nglelead appointment oec compkete details'],\n",
       "       ['tanggalin npo OEC at balik manggwa... pbalik2 po kami consulate.. need dw appointment, fully book nmn ng dalwang buwan... umaabsent npo kami s work pra lng punta consulate... valid visa lng cguro spat na..',\n",
       "        'oec balik pbalik2 consulate need appointment fully book dalwang buwan umaabsent work punta consulate valid visa cguro spat'],\n",
       "       ['sir un pg kuha po ng Oec, bkt nman po pinahihirapan kmi, tagal nmin hindi umwi tpos pg kuha ng OEC dami hinihingi.. hindi makakuha ng appointment',\n",
       "        'kuha oec pinahihirapan hindi umwi tpos kuha oec hinihingi hindi makakuha appointment'],\n",
       "       ['sir un oec dpt accrpt po kht wla appointment',\n",
       "        'oec dpt accrpt wla appointment'],\n",
       "       ['Sir gsto ko po sana mag renew ng owwa membership ko pero hirap kumuha ng appointment sir pls pa help sana po thank u ...dubai po',\n",
       "        'gsto renew owwa membership hirap kumuha appointment pls dubai'],\n",
       "       ['Sir hirap po kmi kuha ng OEC sana kht wla appointment accommodate nman,,att mag assist po para maliwanagan kmi',\n",
       "        'hirap kuha oec wla appointment accommodate att assist maliwanagan'],\n",
       "       ['sir un pong pg kuha ng OEC, hirap po mag book ng appointment d2 s Hk',\n",
       "        'kuha oec hirap book appointment'],\n",
       "       ['Gusto ko mag avail ang anak ko sa scholarship nyo since last year pa ang kaso \"no available slot\" palagi ang online appointment nyo. Kailan po ba mag oopen yan? At pwde ba pumunta ng walk-in?',\n",
       "        'gusto avail anak scholarship since last year kaso available slot palagi online appointment kailan oopen pumunta walk'],\n",
       "       ['Ang online appointment nyo ang PROBLEMA, palaging \"no available slot\" pwede ba mag walk-in?',\n",
       "        'online appointment problema palaging available slot walk'],\n",
       "       ['Pa-check po ng mga problema ng mga OFW sa Dubai kung paano i-handle ng office ng POLO-OWWA ang mga needs ng mga OFW. Hirap na hirap na po ang mga tao sa appointment system at sa processes.',\n",
       "        'check problema ofw dubai handle office polo owwa needs ofw hirap hirap tao appointment system processes'],\n",
       "       ['Sir pls help me to renew may owwa scholarship hirap kumuha ng appointment..dubai po',\n",
       "        'pls renew owwa scholarship hirap kumuha appointment dubai'],\n",
       "       ['Mahirap po kumuha ng oec D2 s dubai,may flyt ticket ako ng 22 tas ang schedule ko s verification and oec tas appointment ko 25,,laging fully book ang site at mahirap makakuha ng appointment s polo dubai',\n",
       "        'mahirap kumuha oec dubai flyt ticket schedule verification oec appointment laging fully book site mahirap makakuha appointment polo dubai'],\n",
       "       ['Pasagot naman poh sir bakit hindi kami maka appointment sa owwa at kumuh a nang OEC',\n",
       "        'pasagot hindi appointment owwa kumuh oec'],\n",
       "       ['Sir arnel bakit ang mahal na kumuha sa poea ng oec kahit same employer exemption ka dpt pero 260 pa rin ang bayad dati 2019 20 pesos lng binayaran pagpa print ng oec.sa labas ng poea building dun pinapApunta para pagawa ng oec or appointment.',\n",
       "        'kumuha poea oec employer exemption dpt 260 bayad dati 2019 pesos binayaran pagpa print oec labas poea building dun pinapapunta pagawa oec appointment'],\n",
       "       ['Sir, kailan mag oopen ang online appointment ng OWWA? Palaging \"No available slot\" since last year pa po ako nag ttry mahpa appointment kasi mag aavail ako ng OWWA Scholarship ng anak ko, mag 3rd year college na this coming school year pleaseeee',\n",
       "        'kailan oopen online appointment owwa palaging available slot since last year ttry appointment aavail owwa scholarship anak 3rd year college coming school year pleaseeee'],\n",
       "       ['Sir arnel napakahirap naman po mag online appointment sa owwa dubai.. Maliban po sa sobrang tag init ngayon dito sa uae..',\n",
       "        'napakahirap online appointment owwa dubai maliban sobrang tag init ngayon uae'],\n",
       "       ['OWWA Overseas Workers Welfare Administration ayusin nyo po ang online appointment system nyo, bakit palaging \"no available slot\" until 2023. Pwde ba mag walk-in sa OWWA Manila? Uwi po ako next month, limited time lang po pero hindi makapagpa appointment sa inyo.',\n",
       "        'owwa overseas workers welfare administration ayusin online appointment system palaging available slot 2023 walk owwa manila uwi next month limited time hindi makapagpa appointment'],\n",
       "       ['Ang online appointment nyo dyan sa pinas bakit palaging \"no available slot\" until 2023 last year pa ako nag ttry mahpa appointment.',\n",
       "        'online appointment pinas palaging available slot 2023 last year ttry appointment'],\n",
       "       ['sir help nman po un pg kuha ng OEC dpt kht wla appointment accommodate nman',\n",
       "        'kuha oec dpt wla appointment accommodate'],\n",
       "       ['sir arnel riyadh polo owwa nakpakagulo mahirap mag appoinment tapos daming pumipila sa labas magbayad lang kami ng OWWA membership ilang beses na ho kami pabalik balik di talaga kami pinapasok kasi at saka marami ding mag verify ng contract na di mkapasok dahil wala din appointment. ang hirap tlaga mag appointment',\n",
       "        'riyadh polo owwa nakpakagulo mahirap appoinment tapos daming pumipila labas magbayad owwa membership beses pabalik balik pinapasok saka verify contract mkapasok wala appointment hirap appointment'],\n",
       "       ['Sir, kailan mag oopen ang online appointment nyo sa OWWA? Palaging \"no available slot\" uuwi po ako next month from Dubai pwde po ba ang walk-in? Gusto ko maka avail ang anak ko sa OWWA Scholarship, incoming 3rd year college',\n",
       "        'kailan oopen online appointment owwa palaging available slot uuwi next month dubai walk gusto avail anak owwa scholarship incoming 3rd year college'],\n",
       "       ['Ang online appointment nyo ang PROBLEMA palaging \"no availabel slot\" pwde ba amg walk-in ang OFW?',\n",
       "        'online appointment problema palaging availabel slot amg walk ofw'],\n",
       "       ['Hello po, watching from dubai, ask lng po bkitbakit klngn po ng ma household worker ng apoointment for verification smantalang same employer lng po , sobrang pahirap na po sa lahat ng ofw na gstong umuwi, d mkauwi sa araw ng gsto nlang umuwi...verufification klangan ng appointment, hassle po talaga, sobrang hirap nag tiis tapos hirap pabg umuwihirapan pa sa pag uwi',\n",
       "        'dubai ask bkitbakit klngn household worker apoointment verification smantalang employer sobrang pahirap ofw gstong umuwi mkauwi araw gsto umuwi verufification appointment hassle sobrang hirap tiis tapos hirap pabg umuwihirapan uwi'],\n",
       "       ['Hello OWWA! ang online appointment system nyo ang problema palaging \"no available slot\" last year pa ako nag ttry magpa appointment. Pwde po ba mag walk-in? Babakasyon ako next month, limited lang ang time, gusto ko sana maka avail ng OWWA Scholarship ang anak ko incoming 3rd year 20 y/o palang',\n",
       "        'owwa online appointment system problema palaging available slot last year ttry appointment walk babakasyon next month limited time gusto avail owwa scholarship anak incoming 3rd year'],\n",
       "       ['Goodeve po sir tanung ko lng po kase po nmatay po yung asawa ko ofw po sa sokor tanung ko lng po kung may mkukuha po ako sa owwa nun nmty po cya 2 years n nun ngstart po yung covid .. pupunta po sana po ko nun sa owwa kya lng po buntis po ko nun time n yun tpos po nun ppnta napo n owwa sabe kylangan daw my online appointment ngaun nun ng check ko sa website po wla nman po vacant sana po mtulungan nyo po ako salamat po',\n",
       "        'tanung nmatay asawa ofw sokor tanung mkukuha owwa nun nmty years nun ngstart covid pupunta nun owwa buntis nun time yun tpos nun ppnta owwa sabe kylangan online appointment ngaun nun check website wla vacant mtulungan'],\n",
       "       ['sir arnel dpt po accommodate nnan un pg kuha ng oec kht wla appointment kc po hirsp kmo kuha appointment sal link..from hk',\n",
       "        'dpt accommodate nnan kuha oec wla appointment hirsp kmo kuha appointment sal link'],\n",
       "       ['Ang hirap po mag online appointment sa ofw Hospital.lagi po no slot available',\n",
       "        'hirap online appointment ofw hospital lagi slot available'],\n",
       "       [\"Welfare is attached to OWWA mabigyan naman po sana ang mga naghihirap na ofw naka household visa hinahanapan ng employer's latest income at ni reject ang appointment kawawa po ang domestic helpers, drivers, cook, gardenersbetc under private home n househokd visa di ba pede iparwho nalang sa residence visa holders po.\",\n",
       "        'welfare attached owwa mabigyan naghihirap ofw household visa hinahanapan employer latest income reject appointment kawawa domestic helpers drivers cook gardenersbetc private home househokd visa iparwho residence visa holders'],\n",
       "       ['Hi gud pm sir/madam ask kolng about oec kc nhihirpn po kming mkpg appointment ang blik ko po a qatar on aug 17 ng try po akung pumunt s poea s maynila tpos my isng building ns tbi lng po ng building cl ang ng online kso po my prob po dw yung middle initial ay wl po saakin ky ang nilagay ko _____ totoo b dpt NMA at nailgy ko surname ko ay morino dpt po ay moriño ang sv nila kailngn ko dw pumunt s poea s balik manggagawa pr ip correct kso ang sv ng security quard mghinty po dw after 2 days pr irequire',\n",
       "        'ask kolng oec nhihirpn appointment blik qatar aug try akung pumunt poea maynila tpos isng building tbi building online kso prob middle initial saakin nilagay totoo dpt nma nailgy surname dpt kailngn pumunt poea balik manggagawa correct kso security quard mghinty days irequire'],\n",
       "       ['Sir ang hirap po mag online appointment sa OFW HOSPITAL.',\n",
       "        'hirap online appointment ofw hospital'],\n",
       "       ['Heloo po sir p help nm po dto s Dubai ang hirap mkkuha ng appointment sana wala n yn pra krakauwe n kami',\n",
       "        'dubai hirap mkkuha appointment wala krakauwe'],\n",
       "       ['Maam sir gudpm sana tanggalin na ang appointment system sa mga departamento pahirap sa mga OFW kukuha ng requirement palaging wallang slot.thanks po sa tugon',\n",
       "        'appointment system departamento pahirap ofw kukuha requirement palaging wallang slot tugon'],\n",
       "       ['Aksyunan nyo nman yung mabagal na systema tungkol sa pagkuha ng OEC dito sa dubai khit na may appointment yung pila hanggang airport.',\n",
       "        'aksyunan systema pagkuha oec dubai appointment pila airport'],\n",
       "       ['Sir pwde magtanong dito ba sa uae pwdeng deriktang mag renyo ng owwa jc d ako marunong online appointment',\n",
       "        'uae pwdeng deriktang renyo owwa online appointment'],\n",
       "       ['Hello po single mom po ako sa 7 anak sana maka sali sa scholarship isa sa mga anak ko 6 years na po ako dito sa saudi.nasa mindanao iligan ciry mga anak ko.4 na taon hindi ako umuwi nahirapan ako mag update sa owwa membership po .5 bata inalagaan ko ngayon kaya wala akong mataas na time para sa owwa membership ko o mag pa appointment. Need ko help nyo po.',\n",
       "        'single mom anak sali scholarship isa anak years saudi mindanao iligan ciry anak hindi umuwi nahirapan update owwa membership bata inalagaan ngayon wala mataas time owwa membership appointment need'],\n",
       "       ['paano po mag pa appointment sa ofw hospital pwede po ba makihingi ng contact number',\n",
       "        'appointment ofw hospital makihingi contact number'],\n",
       "       ['paano po mag renew ng contrata po sa riyadh online po ba o appointment po',\n",
       "        'renew contrata riyadh online appointment'],\n",
       "       ['Sir gd day po ,sir ,pwd po ba mag ponta jaan sa polo na walang appointment sir ,mag pa member lng po aq sa owwa sir .',\n",
       "        'day pwd ponta jaan polo walang appointment member owwa'],\n",
       "       ['Paki tulungan nyo po kami dito sa Dubai napakahirap pumila sa contract verification. Sabi need appointment pero wala naman slot.',\n",
       "        'tulungan dubai napakahirap pumila contract verification need appointment wala slot'],\n",
       "       ['magandang hapon po been 6yrs di nag babakasyon i try to pay online my OWWA renewal of membership..ayaw sabi magpa appointment daw ako ang problema wla akong nakitang slots.im in Dubai.',\n",
       "        '6yrs babakasyon try pay online owwa membership ayaw appointment problema wla nakitang slots dubai'],\n",
       "       ['Hello po..... Asked lang po bakit ganon pahirapan ang magpa virify ng kontrata po dto Dubai paano po pag madalian ang uwi poh may ticket na po Hindi rin po bah acceptable po kailan pa din po ng appointment....',\n",
       "        'asked ganon pahirapan virify kontrata dubai madalian uwi ticket hindi bah acceptable kailan appointment'],\n",
       "       ['Gusto ko po mag, bayad ng owwa membership kaso ang hirap po kumuha ng slot appointment dito s dubai pano po gagawin ko slamat po',\n",
       "        'gusto bayad owwa membership kaso hirap kumuha slot appointment dubai gagawin'],\n",
       "       ['Sir... Sana ma pansin niyo po ang kalagayan nang mga ofw na na kapila sa embahada sa Dubai mainit masyado kahit may appointment Naka tambak padin sa Labas at ang appointment sa contract verification d Nila binubuksan',\n",
       "        'pansin niyo kalagayan ofw kapila embahada dubai mainit masyado appointment tambak padin labas appointment contract verification binubuksan'],\n",
       "       ['Hello po. Regarding sa contract verification po, Sana magkaron pa ng slot Para sa mga magta travel this end of June lalo sa mga short vacation lng po(2weeks). Sep na po ung next appointment dito sa Dubai /Abu Dhabi, UAE',\n",
       "        'regarding contract verification magkaron slot travel end june short vacation 2weeks sep next appointment dubai uae'],\n",
       "       ['Di man kmi makakuha appointment sa consulate d2 sa dubai kc wala na slot anu ba yan',\n",
       "        'makakuha appointment consulate dubai wala slot'],\n",
       "       ['Hello po pwd po SA Jan SA pinas mag pa member Ng OWWA visit visa po AKO pumunta dto,aty appointment po AKO nong June 10 pero sarado konang POLO DUBAI Sabi babalik Ng Ng June 13 ang my appointment Ng 9,10 so bumalik AKO Ng 13 HND po AKO pinapasok ang my appointment na 13 Yong pinapasok.flight KO po SA July 7 tanong kng pwd Jan SA pinas mag pa member Ng OWWA salamat SAsagot.',\n",
       "        'pwd pinas member owwa visit visa pumunta aty appointment nong june sarado konang polo dubai babalik june appointment bumalik hnd pinapasok appointment pinapasok flight july tanong pwd pinas member owwa sasagot'],\n",
       "       ['Sir sana ma pansin niyo din ang mga nang yayare sa embassy... Grabi ang pa hirap sa ofw na uuwe D2 mismo sa Dubai... Nag tataka kami Kong bakit ang pila subrang haba... Ilang oras ba Nila bubusisiin ang mga visa namin... Sigurado wala namang fake visa sa Dubai... Sana ma pansin po ninyo.. Pinapapila ang mga tao tapus subrang init... Mga online appointment sa contract verification d binubuksan.... Sana po ma pansin ninyo kahit ito nalang sana unahin ninyo pa hirap po sa amin mga ofw Lalo na sa mga dh',\n",
       "        'pansin niyo yayare embassy hirap ofw uuwe dubai tataka pila subrang haba oras bubusisiin visa sigurado wala fake visa dubai pansin ninyo pinapapila tao tapus subrang init online appointment contract verification binubuksan pansin ninyo unahin ninyo hirap ofw'],\n",
       "       ['October 27 appointment po sa Dubai',\n",
       "        'october appointment dubai'],\n",
       "       ['Sana po no appointment Napo dito SA Dubai for renewal/ membership SA owwa for ofw Kasi hindi po definite ang day off para makapunta SA owwa Dubai salamat',\n",
       "        'appointment dubai membership owwa ofw hindi definite day makapunta owwa dubai'],\n",
       "       ['Baka po pwede ninyo po ako masagot gusto ko po magbayad ng owwa member ko po.kaso busy ako sa trabaho malayo ang polo roma po.ngayon december pauwi po ako inactive po ako dati pwede online bakit ngayon need kopa pumunta sa polo roma kailangan pa ng appointment at malayo po skin.ako ay nagbayad noon 2010 at 2013 ngayon gusto ko po magbayad pwede po ba na yon kapatid ko pagbayarin sa owwa manila po pls lang po pakisagot naman po.salamat kc lagi akong nagmsg walang sagot.samantalang yon kakilala kona pareho kami ng problema hindi na pumunta sa polo roma dahil may online payment na ngayon tinanggal naman po ninyo malayo ako at wala po akong oras kaya iopen ninyo uli yon online procedure po ninyo po.salamat po sa makakaunawa.',\n",
       "        'ninyo masagot gusto magbayad owwa member kaso busy trabaho malayo polo ngayon december pauwi dati online ngayon need kopa pumunta polo appointment malayo skin nagbayad 2010 2013 ngayon gusto magbayad kapatid pagbayarin owwa manila pls pakisagot lagi nagmsg walang sagot samantalang kakilala kona pareho problema hindi pumunta polo online payment ngayon ninyo malayo wala oras iopen ninyo uli online procedure ninyo makakaunawa'],\n",
       "       ['Good evening po.ilan po b scholarship ng bulacan kc po ang Mahal ng pamasahe s owwa patungo San Fernando pag dating dun Puno n daw pero sav sa appointment Meron p bakante',\n",
       "        'scholarship bulacan pamasahe owwa patungo fernando dun puno sav appointment bakante'],\n",
       "       ['tanong ko lng po paano ko po maaply ang ank ko na grade12 pra s scholarship nya po s college..ano pong dpat kung ipasa...nk appointment po ako dto s polo owwa abudhabi pr s renewal ko po ng owwa membership ko po..pahelp nmn po mag isa lng po ako nagwor… See more',\n",
       "        'tanong maaply grade12 scholarship college ipasa appointment polo owwa abudhabi owwa membership pahelp isa nagwor see'],\n",
       "       ['Good evening po.watching from saudi.ask lang po ..sa pag renew Ng owwa at contract kailangan pa Po ba Ng appointment.kc every time na magpa appointment kami walang skedule na available..',\n",
       "        'saudi ask renew owwa contract appointment every time appointment walang skedule available'],\n",
       "       ['Good evening po. Paano po kumuha ng appointment sa OWWA para mag renew expured na po kc. Salamat po.',\n",
       "        'kumuha appointment owwa renew expured'],\n",
       "       ['Ang hirap po mag online appointment sa ofw Hospital.lagi po no slot available',\n",
       "        'hirap online appointment ofw hospital lagi slot available'],\n",
       "       [\"Welfare is attached to OWWA mabigyan naman po sana ang mga naghihirap na ofw naka household visa hinahanapan ng employer's latest income at ni reject ang appointment kawawa po ang domestic helpers, drivers, cook, gardenersbetc under private home n househokd visa di ba pede iparwho nalang sa residence visa holders po.\",\n",
       "        'welfare attached owwa mabigyan naghihirap ofw household visa hinahanapan employer latest income reject appointment kawawa domestic helpers drivers cook gardenersbetc private home househokd visa iparwho residence visa holders'],\n",
       "       ['Hi gud pm sir/madam ask kolng about oec kc nhihirpn po kming mkpg appointment ang blik ko po a qatar on aug 17 ng try po akung pumunt s poea s maynila tpos my isng building ns tbi lng po ng building cl ang ng online kso po my prob po dw yung middle initial ay wl po saakin ky ang nilagay ko _____ totoo b dpt NMA at nailgy ko surname ko ay morino dpt po ay moriño ang sv nila kailngn ko dw pumunt s poea s balik manggagawa pr ip correct kso ang sv ng security quard mghinty po dw after 2 days pr irequire',\n",
       "        'ask kolng oec nhihirpn appointment blik qatar aug try akung pumunt poea maynila tpos isng building tbi building online kso prob middle initial saakin nilagay totoo dpt nma nailgy surname dpt kailngn pumunt poea balik manggagawa correct kso security quard mghinty days irequire'],\n",
       "       ['Sir ang hirap po mag online appointment sa OFW HOSPITAL.',\n",
       "        'hirap online appointment ofw hospital'],\n",
       "       ['Hi poh my slot ba sa August 18 appointment?',\n",
       "        'slot august appointment'],\n",
       "       ['Sir renew po sana ako owwa kaso po hindi po ako maka oline appointment....Puede pa din po walk in sa friday',\n",
       "        'renew owwa kaso hindi oline appointment puede walk friday'],\n",
       "       ['ISA po akong OFW dito sa UAE. At nakikiusap po ako sa iyo na Sana gawing online ang new employment contract verification dito. Kasi napakahirap kumuha nang appointment. Yong kaibigan ko this coming Wednesday appointment niya pero last 3 months ago niya nakuha ang appointment.',\n",
       "        'isa ofw uae nakikiusap iyo gawing online new employment contract verification napakahirap kumuha appointment kaibigan coming wednesday appointment last months ago nakuha appointment'],\n",
       "       ['Hello good afternoon po,,, tanong ko lang po bakit pahirapan kami dito sa hongkong about covid assistance po\\nkahit sa bahay kami nag isolation nag suffer din kami nang lubhang karamdamam po, kahit may pcr test, at isolation report kami kahit sa bahay hindi pa din kami binigyan nang cash assistance dito sa hongkong\\n3 hours kami nag line up sa owwa kasi may appointment sa email tapos wla naman napala bakit ganyan pahirapan kami? If wlang doctors certificate galing doctor wla matanggap? Pro may katibayan naman ako nag positive nang covid po, buti pa hongkong government pinadalhan pa kami nang gamot at mga kits nang covid sa bahay nang amo namin,, at ang Philippines government namin dito wla man lang nagbigay at nag online cash assistance kami wla naman napala\\nbakit ganon po member owwa naman ako.',\n",
       "        'tanong pahirapan hongkong covid assistance bahay isolation suffer lubhang karamdamam pcr test isolation report bahay hindi binigyan cash assistance hongkong hours line owwa appointment email tapos wla napala pahirapan wlang doctors certificate galing doctor wla matanggap katibayan positive covid hongkong government pinadalhan gamot kits covid bahay amo philippines government wla nagbigay online cash assistance wla napala ganon member owwa'],\n",
       "       ['Anong link po ba ang hahanapin sa appointment renewal owwa',\n",
       "        'link hahanapin appointment owwa'],\n",
       "       ['ISA po akong OFW dito sa UAE. At nakikiusap po ako sa iyo na Sana gawing online ang new employment contract verification dito. Kasi napakahirap kumuha nang appointment. Yong kaibigan ko this coming Wednesday appointment niya pero last 3 months ago niya nakuha ang appointment.',\n",
       "        'isa ofw uae nakikiusap iyo gawing online new employment contract verification napakahirap kumuha appointment kaibigan coming wednesday appointment last months ago nakuha appointment'],\n",
       "       ['good morning po.hanggang ngayon po d pa po q naka register s owwa .nag tingin po q s online nila lagi po full Ang schedule Ng appointment nila.gusto q po ma register para po s anak q n nag aaral.gusto q pong ilapit sya s sinasabi nyong tulong para s pag aaral Ng anak q.',\n",
       "        'ngayon register owwa tingin online lagi full schedule appointment gusto register anak aaral gusto ilapit sinasabi tulong aaral anak'],\n",
       "       ['Hello po corncern lng po un tita ko pabalik n dto sa Jeddah next week ..di DW oo cy Maka kuha Ng appointment para sa oec ..pero may mga Ng aalok po ikukuha cy oec..bayad po cy 650 pesos..bkit po my ganyan pag my bayad nkakakuha pero di Maka kuha appointment..para Maka kuha oec',\n",
       "        'corncern tita pabalik jeddah next week kuha appointment oec aalok ikukuha oec bayad 650 pesos bayad nkakakuha kuha appointment kuha oec'],\n",
       "       ['Pls po ..para po s scholar ship Ng anak q..pa check naman po .pa register namn po q s owwa..untii 2013 ofw n po q..Ng bumalik po q 2019 dto .untill now dpa dn po q naka register. .dahil po s full laging appointment nila s online..pls help me po.para maka avail po anak q.now po grade 12 n.pls po',\n",
       "        'pls scholar ship anak check register namn owwa untii 2013 ofw bumalik 2019 untill dpa register full laging appointment online pls avail anak grade pls'],\n",
       "       ['Hehehehe napakahirap humingi ng tulong sa inyo lalo n kaming mga unfinish contract dahil pinaalis ng amo ng biglaan sa kadahilanang nakikinig sya sa mga sbi sabi ng kasama nmin....nkailang punta na ako sa intramuros guwardya lang humaharap at sinabing mag pa appointment muna.nagpa appointment po ako umabot na ng 2025 ang napindot nmin sa computer wala pading available hahhaha.grabe. .....sana mapansin nyo kaming mahihirap',\n",
       "        'hehehehe napakahirap humingi tulong unfinish contract pinaalis amo biglaan kadahilanang nakikinig kasama nkailang punta intramuros guwardya humaharap sinabing appointment muna nagpa appointment 2025 napindot computer wala pading available hahhaha mahihirap'],\n",
       "       ['Hirap din mg online renewal ng owwa at pki check nman ang polo owwa dubai hirap mg appointment kc wlang slot',\n",
       "        'hirap online owwa check polo owwa dubai hirap appointment wlang slot'],\n",
       "       ['Khit may appointment po at oras hindi parin nasunod ang oras nila dhil firt come first serve paunahan!Ang hirap magpa verified nang contract po dito sa UAE walang organize po sila!!',\n",
       "        'appointment oras hindi parin nasunod oras firt come first serve paunahan hirap verified contract uae walang organize'],\n",
       "       ['Sir arnel hindi po kami makakuha ng appoinment para sa balik mangagawa gusto po nila print at magbayad ng 180 para makakuha kami ng appointment',\n",
       "        'hindi makakuha appoinment balik mangagawa gusto print magbayad 180 makakuha appointment'],\n",
       "       ['sec arnell baka po pwede nyong tingnang kung pupuwede alisin na yung contract verification dito sa dubai kasi po napakahirap napakahirap kumuhang appointment.',\n",
       "        'sec tingnang pupuwede alisin contract verification dubai napakahirap napakahirap kumuhang appointment'],\n",
       "       ['napaka hirap ng kumuha ng OEC lalo sa pagkuja ng appointment pleqse lang po paki ayus naman po ang oec procedure',\n",
       "        'hirap kumuha oec pagkuja appointment pleqse ayus oec procedure'],\n",
       "       ['Di rin po kami makapasok ng appointment kasi wala bakante na slot',\n",
       "        'makapasok appointment wala bakante slot'],\n",
       "       ['Shout out s owwa bacoor cavite n hnd alam n ol appointment n sa poea main,pinapunta nila aq don pero sabi sken don ay 1yr ng ol',\n",
       "        'shout owwa bacoor cavite hnd appointment poea main pinapunta sken 1yr'],\n",
       "       ['Sec. Arnell pwede po bang i-check/tingnan ulit kung pwede wag gawin and contract verification dito sa UAE. Sobra po kasing hirap kumuha nang appointment. Di ko maintindihan ang kailangan pang gawin ito meron namn working visa at emirates ID nagpapatunay na employed ka.',\n",
       "        'sec bang check tingnan ulit wag contract verification uae sobra hirap kumuha appointment maintindihan namn visa emirates nagpapatunay employed'],\n",
       "       ['Sir sana tanggalin na yang appointment basis sa Owwa , OEC at Pag ibig. wla na po kasing slot gang October mabuti kasi maayos na nmin papers nmin bago uuwi, mas panatag isip nmin magbbakasyon wla ng intindihin. ibalik sa priority number ayos lang maaga kaming pipila basta ma asekaso lang papers nmin bago uuwi. sana po ma consider',\n",
       "        'appointment basis owwa oec ibig wla slot gang october maayos papers bago uuwi mas panatag isip magbbakasyon wla intindihin ibalik priority number ayos pipila basta asekaso papers bago uuwi consider'],\n",
       "       ['sec arnell baka po pwede nyong tingnang kung pupuwede alisin na yung contract verification dito sa UAE kasi po napakahirap kumuhang appointment. bakit po ba kailangan i-verify pa meron namang employment visa or resident visa, Emirates ID.',\n",
       "        'sec tingnang pupuwede alisin contract verification uae napakahirap kumuhang appointment verify employment visa resident visa emirates'],\n",
       "       ['saan po namin mkikita po yung mga no. sir para maka pag appointment po sir from jubail saudi arabia po',\n",
       "        'mkikita appointment jubail saudi arabia'],\n",
       "       ['Ano po appointment na hingi po ako NG tulong Para sa anak ko nag aaral po ofw po ako member ako NG owwa',\n",
       "        'appointment hingi tulong anak aaral ofw member owwa'],\n",
       "       ['Hi mga sir good evening po..tanong q lang po,anak q 7yrs old at pakunan ko ng passport at kapatid ko ang kasama niya kasi d2 po ako sa UEA sir at Need daw po affidavit of support kaso napakahirap po magpa appointment online ng consulate pwde po ba walk in nalang po sana napakahirap po talaga ang online appointment lalo na po if rush',\n",
       "        'tanong anak 7yrs old pakunan passport kapatid kasama uea need affidavit support kaso napakahirap appointment online consulate walk napakahirap online appointment rush'],\n",
       "       ['Hello po good evening po itatanong ko lng po kung ang pgpapa appointment po ba nang owwa seminar eh inaabot po b nang 3weeks?psenxa n po kc hnd q po alm kung san dpat mgtanong nang tungkol jan kc yung agency q po prang hnd inaasikaso mraming slamat po at kung pwd po b n aq nlng ang mgpa appointment o agency lng ang pwd gumawa',\n",
       "        'itatanong pgpapa appointment owwa seminar 3weeks psenxa hnd alm agency hnd inaasikaso pwd appointment agency pwd'],\n",
       "       ['Pwede po bang wala ng oec dhil mahirap pong kumuha or mag online appointment dto sa uae',\n",
       "        'bang wala oec mahirap kumuha online appointment uae']],\n",
       "      dtype=object)"
      ]
     },
     "execution_count": 43,
     "metadata": {},
     "output_type": "execute_result"
    }
   ],
   "source": [
    "all_df[all_df['text'].str.contains('appointment')][['text','clean_text']].values"
   ]
  },
  {
   "cell_type": "code",
   "execution_count": 45,
   "id": "892404b1",
   "metadata": {
    "ExecuteTime": {
     "end_time": "2022-09-27T15:41:17.229251Z",
     "start_time": "2022-09-27T15:41:17.203547Z"
    }
   },
   "outputs": [
    {
     "data": {
      "text/plain": [
       "array([['Sana po matulungan nyo aq 4 years po aq d nkauw kac dahil po SA pandemic Kaya po d aq nkaactive SA owwa tpos lag nga po aq my sakit SA ibh bnsa dala q po lahat Ng medical certification q thank u po',\n",
       "        'matulungan years nkauw kac pandemic nkaactive owwa tpos lag nga sakit ibh bnsa dala medical certification'],\n",
       "       ['Sir panu po Kung my hawak aqng doctor certification Laban s amo n nanakit',\n",
       "        'hawak doctor certification laban amo nanakit'],\n",
       "       ['Sir my hawak aq na doctor certification anu po gagawin s amoq',\n",
       "        'hawak doctor certification gagawin amoq'],\n",
       "       ['Sir may hawak po aq na doctor certification anu po pwde gawin sa amoq sir',\n",
       "        'hawak doctor certification amoq'],\n",
       "       ['Sir gusto po sana namin maka avail ng balik Pinas trabho kaso po wla po certification letter sa company ng mister ko na nagppatunay na hindi po sya nkabalik sa work nya dahil sa covid..paano po pwede gawin sir salamat po.kc parang malabo makakuha kasi dito na sya sa Pinas.salamat po',\n",
       "        'gusto avail balik pinas trabho kaso wla certification letter company mister nagppatunay hindi nkabalik work covid malabo makakuha pinas'],\n",
       "       ['Paano poh bah Maka kuha ng dole assistance if wla poh medical certification kasi nga nagkasakit ako doon',\n",
       "        'bah kuha dole assistance wla medical certification nga nagkasakit doon'],\n",
       "       ['Sana po mapansin nyo po aq sir kc until now meron parin Yung takot n iniwan nang amoq sken Sana po mapayuhan nyo aq Kung paanu pagbayaran mga amoq s ginawa sken my hawak po aqng doctor certification',\n",
       "        'parin takot iniwan amoq sken mapayuhan pagbayaran amoq ginawa sken hawak doctor certification'],\n",
       "       ['Sir gusto po sana namin maka avail ng balik Pinas trabho kaso po wla po certification letter sa company ng mister ko na nagppatunay na hindi po sya nkabalik sa work nya dahil sa covid..paano po pwede gawin sir salamat po.kc parang malabo makakuha kasi dito na sya sa Pinas.salamat po',\n",
       "        'gusto avail balik pinas trabho kaso wla certification letter company mister nagppatunay hindi nkabalik work covid malabo makakuha pinas'],\n",
       "       ['Sir could you please modify the requirements in the authentication of our certifications and documents with the DFA that is not only limited to the siblings or parents of the requesting person. Because I for one I authorized my freind for the authentication of the the validation.issued by the LTO and was not allowed because persons are only limited to.parents, siblings and cousins. which unfortunately my dad passed away and my mother is 81 yrs old who is weak to travel and all of us siblings are working and dwelling here abroad and unfortunately none of us is taking vacation. hope you would take this matter with the DFA. Thank you',\n",
       "        'could please modify requirements authentication certifications documents dfa limited siblings parents requesting person one authorized freind authentication validation issued lto allowed persons limited parents siblings cousins unfortunately dad passed away mother yrs old weak travel siblings dwelling abroad unfortunately none taking vacation hope would take matter dfa'],\n",
       "       ['Yong sa akap ko na denied kc kulang ng isang requirement ang certification galing sa company ko na napauwi dahil sa covid nong tinawagan ako ng owwa dito sa amin sabi ikumpleto ko daw pero noong nakumpleto ko na dina sila nag rereply..',\n",
       "        'akap denied kulang isang requirement certification galing company napauwi covid nong tinawagan owwa ikumpleto nakumpleto dina rereply']],\n",
       "      dtype=object)"
      ]
     },
     "execution_count": 45,
     "metadata": {},
     "output_type": "execute_result"
    }
   ],
   "source": [
    "all_df[all_df['text'].str.contains('certification')][['text','clean_text']].values"
   ]
  },
  {
   "cell_type": "code",
   "execution_count": null,
   "id": "12e4794a",
   "metadata": {},
   "outputs": [],
   "source": []
  }
 ],
 "metadata": {
  "kernelspec": {
   "display_name": "Python 3 (ipykernel)",
   "language": "python",
   "name": "python3"
  },
  "language_info": {
   "codemirror_mode": {
    "name": "ipython",
    "version": 3
   },
   "file_extension": ".py",
   "mimetype": "text/x-python",
   "name": "python",
   "nbconvert_exporter": "python",
   "pygments_lexer": "ipython3",
   "version": "3.9.12"
  }
 },
 "nbformat": 4,
 "nbformat_minor": 5
}

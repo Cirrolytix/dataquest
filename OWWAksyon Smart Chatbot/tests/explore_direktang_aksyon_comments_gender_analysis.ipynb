{
 "cells": [
  {
   "cell_type": "code",
   "execution_count": 2,
   "id": "851cc907",
   "metadata": {
    "ExecuteTime": {
     "end_time": "2022-09-27T14:47:16.461055Z",
     "start_time": "2022-09-27T14:47:16.452288Z"
    }
   },
   "outputs": [],
   "source": [
    "import sys\n",
    "sys.path.append(\"..\")"
   ]
  },
  {
   "cell_type": "code",
   "execution_count": 23,
   "id": "57d621a6",
   "metadata": {
    "ExecuteTime": {
     "end_time": "2022-09-27T16:21:01.693606Z",
     "start_time": "2022-09-27T16:21:01.432085Z"
    },
    "scrolled": true
   },
   "outputs": [],
   "source": [
    "import numpy as np\n",
    "import pandas as pd\n",
    "\n",
    "import matplotlib.pyplot as plt\n",
    "import seaborn as sns\n",
    "\n",
    "from re import sub\n",
    "from pprint import pprint\n",
    "from sklearn.feature_extraction.text import TfidfVectorizer\n",
    "\n",
    "from nltk.corpus import stopwords\n",
    "from nltk import ngrams\n",
    "\n",
    "from src.utils.clean_comments import CommentCleaner\n",
    "from src.utils.guess_gender import GenderGuesser\n",
    "\n",
    "import gspread as gs\n",
    "import os"
   ]
  },
  {
   "cell_type": "code",
   "execution_count": 4,
   "id": "fa59aca0",
   "metadata": {
    "ExecuteTime": {
     "end_time": "2022-09-27T14:47:17.536824Z",
     "start_time": "2022-09-27T14:47:17.481187Z"
    }
   },
   "outputs": [],
   "source": [
    "file_dir = '../data/comments/'\n",
    "df_list = []\n",
    "for fn in [tf for tf in os.listdir(file_dir) if ('.csv' in tf) & (~tf.endswith('_.csv'))]:\n",
    "    df = pd.read_csv(file_dir+fn)\n",
    "    df['date_aired'] = pd.to_datetime(fn.split('_')[-1].split('.')[0]).strftime('%Y-%m-%d')\n",
    "    df_list.append(df[['date_aired','sender_name','text']])"
   ]
  },
  {
   "cell_type": "code",
   "execution_count": 5,
   "id": "66a4a0f6",
   "metadata": {
    "ExecuteTime": {
     "end_time": "2022-09-27T14:47:17.669524Z",
     "start_time": "2022-09-27T14:47:17.538127Z"
    }
   },
   "outputs": [
    {
     "data": {
      "text/html": [
       "<div>\n",
       "<style scoped>\n",
       "    .dataframe tbody tr th:only-of-type {\n",
       "        vertical-align: middle;\n",
       "    }\n",
       "\n",
       "    .dataframe tbody tr th {\n",
       "        vertical-align: top;\n",
       "    }\n",
       "\n",
       "    .dataframe thead th {\n",
       "        text-align: right;\n",
       "    }\n",
       "</style>\n",
       "<table border=\"1\" class=\"dataframe\">\n",
       "  <thead>\n",
       "    <tr style=\"text-align: right;\">\n",
       "      <th></th>\n",
       "      <th>comment_id</th>\n",
       "      <th>date_aired</th>\n",
       "      <th>sender_name</th>\n",
       "      <th>text</th>\n",
       "    </tr>\n",
       "  </thead>\n",
       "  <tbody>\n",
       "    <tr>\n",
       "      <th>0</th>\n",
       "      <td>202207070061</td>\n",
       "      <td>2022-07-07</td>\n",
       "      <td>John Godfrey</td>\n",
       "      <td>Palala lamang po sa mga ofws sa ksa wag mameke...</td>\n",
       "    </tr>\n",
       "    <tr>\n",
       "      <th>1</th>\n",
       "      <td>202207070062</td>\n",
       "      <td>2022-07-07</td>\n",
       "      <td>Rowena Ascrate</td>\n",
       "      <td>Hello,watching po from uae</td>\n",
       "    </tr>\n",
       "    <tr>\n",
       "      <th>2</th>\n",
       "      <td>202207070063</td>\n",
       "      <td>2022-07-07</td>\n",
       "      <td>Zhai Vhie Gimoro Francisco</td>\n",
       "      <td>Help nyo po aq sir arnel</td>\n",
       "    </tr>\n",
       "    <tr>\n",
       "      <th>3</th>\n",
       "      <td>202207070064</td>\n",
       "      <td>2022-07-07</td>\n",
       "      <td>Cbbc Fort Bonifacio SharjahOutreach</td>\n",
       "      <td>Good evening po Sirs and Mam</td>\n",
       "    </tr>\n",
       "    <tr>\n",
       "      <th>4</th>\n",
       "      <td>202207070065</td>\n",
       "      <td>2022-07-07</td>\n",
       "      <td>Agripina Esmajer</td>\n",
       "      <td>Hi Sir Arnel good evening Po!watching from San...</td>\n",
       "    </tr>\n",
       "    <tr>\n",
       "      <th>...</th>\n",
       "      <td>...</td>\n",
       "      <td>...</td>\n",
       "      <td>...</td>\n",
       "      <td>...</td>\n",
       "    </tr>\n",
       "    <tr>\n",
       "      <th>26214</th>\n",
       "      <td>202207211605</td>\n",
       "      <td>2022-07-21</td>\n",
       "      <td>Sarupac Jessa</td>\n",
       "      <td>Magandang araw po saan po pwede lumapit kung m...</td>\n",
       "    </tr>\n",
       "    <tr>\n",
       "      <th>26215</th>\n",
       "      <td>202207211606</td>\n",
       "      <td>2022-07-21</td>\n",
       "      <td>Sarupac Jessa</td>\n",
       "      <td>Magandang araw po saan po pwede lumapit kung m...</td>\n",
       "    </tr>\n",
       "    <tr>\n",
       "      <th>26216</th>\n",
       "      <td>202207211607</td>\n",
       "      <td>2022-07-21</td>\n",
       "      <td>Muslimah Balik Islam</td>\n",
       "      <td>From U.A.E pano po mag aply s owwa scholarship</td>\n",
       "    </tr>\n",
       "    <tr>\n",
       "      <th>26217</th>\n",
       "      <td>202207211608</td>\n",
       "      <td>2022-07-21</td>\n",
       "      <td>Lina Gabis</td>\n",
       "      <td>Sir tanong lang nagrenew kasi kami ng mga kasa...</td>\n",
       "    </tr>\n",
       "    <tr>\n",
       "      <th>26218</th>\n",
       "      <td>202207211609</td>\n",
       "      <td>2022-07-21</td>\n",
       "      <td>Muslimah Balik Islam</td>\n",
       "      <td>From U.a.e po pano po mag aply sa owwa scholar...</td>\n",
       "    </tr>\n",
       "  </tbody>\n",
       "</table>\n",
       "<p>26219 rows × 4 columns</p>\n",
       "</div>"
      ],
      "text/plain": [
       "         comment_id  date_aired                          sender_name  \\\n",
       "0      202207070061  2022-07-07                         John Godfrey   \n",
       "1      202207070062  2022-07-07                       Rowena Ascrate   \n",
       "2      202207070063  2022-07-07           Zhai Vhie Gimoro Francisco   \n",
       "3      202207070064  2022-07-07  Cbbc Fort Bonifacio SharjahOutreach   \n",
       "4      202207070065  2022-07-07                     Agripina Esmajer   \n",
       "...             ...         ...                                  ...   \n",
       "26214  202207211605  2022-07-21                        Sarupac Jessa   \n",
       "26215  202207211606  2022-07-21                        Sarupac Jessa   \n",
       "26216  202207211607  2022-07-21                 Muslimah Balik Islam   \n",
       "26217  202207211608  2022-07-21                           Lina Gabis   \n",
       "26218  202207211609  2022-07-21                 Muslimah Balik Islam   \n",
       "\n",
       "                                                    text  \n",
       "0      Palala lamang po sa mga ofws sa ksa wag mameke...  \n",
       "1                             Hello,watching po from uae  \n",
       "2                               Help nyo po aq sir arnel  \n",
       "3                           Good evening po Sirs and Mam  \n",
       "4      Hi Sir Arnel good evening Po!watching from San...  \n",
       "...                                                  ...  \n",
       "26214  Magandang araw po saan po pwede lumapit kung m...  \n",
       "26215  Magandang araw po saan po pwede lumapit kung m...  \n",
       "26216     From U.A.E pano po mag aply s owwa scholarship  \n",
       "26217  Sir tanong lang nagrenew kasi kami ng mga kasa...  \n",
       "26218  From U.a.e po pano po mag aply sa owwa scholar...  \n",
       "\n",
       "[26219 rows x 4 columns]"
      ]
     },
     "execution_count": 5,
     "metadata": {},
     "output_type": "execute_result"
    }
   ],
   "source": [
    "all_df = pd.concat(df_list).reset_index().rename(columns={'index':'comment_id'})\n",
    "all_df['comment_id'] = all_df['comment_id']+61\n",
    "all_df['comment_id']= all_df.apply(lambda x: \\\n",
    "                                   x['date_aired'].replace('-','')+str(x['comment_id']).rjust(4, '0'), axis=1)\n",
    "all_df"
   ]
  },
  {
   "cell_type": "code",
   "execution_count": 6,
   "id": "db1de843",
   "metadata": {
    "ExecuteTime": {
     "end_time": "2022-09-27T14:47:17.674603Z",
     "start_time": "2022-09-27T14:47:17.670252Z"
    }
   },
   "outputs": [],
   "source": [
    "# drop null rows\n",
    "all_df = all_df[~all_df['text'].isna()].reset_index(drop=True)"
   ]
  },
  {
   "cell_type": "markdown",
   "id": "5af38b0f",
   "metadata": {},
   "source": [
    "### Clean comments"
   ]
  },
  {
   "cell_type": "code",
   "execution_count": 7,
   "id": "69ab81a2",
   "metadata": {
    "ExecuteTime": {
     "end_time": "2022-09-27T14:47:17.680019Z",
     "start_time": "2022-09-27T14:47:17.675365Z"
    }
   },
   "outputs": [
    {
     "data": {
      "text/plain": [
       "31"
      ]
     },
     "execution_count": 7,
     "metadata": {},
     "output_type": "execute_result"
    }
   ],
   "source": [
    "cleaner = CommentCleaner()\n",
    "len(cleaner.get_padwords())"
   ]
  },
  {
   "cell_type": "code",
   "execution_count": 8,
   "id": "0b663031",
   "metadata": {
    "ExecuteTime": {
     "end_time": "2022-09-27T14:47:42.405925Z",
     "start_time": "2022-09-27T14:47:17.681109Z"
    }
   },
   "outputs": [],
   "source": [
    "all_df['clean_text'] = all_df['text'].apply(lambda x: cleaner.clean_comment(x))\n",
    "all_df['clean_text_word_count'] = all_df['clean_text'].apply(lambda x: len(x.split(' ')))"
   ]
  },
  {
   "cell_type": "code",
   "execution_count": 9,
   "id": "00a06cee",
   "metadata": {
    "ExecuteTime": {
     "end_time": "2022-09-27T14:47:42.425102Z",
     "start_time": "2022-09-27T14:47:42.406734Z"
    }
   },
   "outputs": [],
   "source": [
    "all_df['text_word_count'] = all_df['text'].apply(lambda x: len(x.split(' ')))"
   ]
  },
  {
   "cell_type": "code",
   "execution_count": 10,
   "id": "59988d9f",
   "metadata": {
    "ExecuteTime": {
     "end_time": "2022-09-27T14:47:42.431924Z",
     "start_time": "2022-09-27T14:47:42.426202Z"
    }
   },
   "outputs": [
    {
     "data": {
      "text/plain": [
       "19032"
      ]
     },
     "execution_count": 10,
     "metadata": {},
     "output_type": "execute_result"
    }
   ],
   "source": [
    "# remove comments fewer than 6 words\n",
    "all_df = all_df[all_df['text_word_count'] >= 6].reset_index(drop=True)\n",
    "len(all_df)"
   ]
  },
  {
   "cell_type": "code",
   "execution_count": 11,
   "id": "6de1e528",
   "metadata": {
    "ExecuteTime": {
     "end_time": "2022-09-27T14:47:42.437570Z",
     "start_time": "2022-09-27T14:47:42.433700Z"
    }
   },
   "outputs": [
    {
     "data": {
      "text/plain": [
       "17536"
      ]
     },
     "execution_count": 11,
     "metadata": {},
     "output_type": "execute_result"
    }
   ],
   "source": [
    "# remove comments empty text after cleaning\n",
    "all_df = all_df[all_df['clean_text_word_count'] >= 2].reset_index(drop=True)\n",
    "len(all_df)"
   ]
  },
  {
   "cell_type": "code",
   "execution_count": 31,
   "id": "b52ea477",
   "metadata": {
    "ExecuteTime": {
     "end_time": "2022-09-28T05:39:28.880089Z",
     "start_time": "2022-09-28T05:39:28.853262Z"
    }
   },
   "outputs": [
    {
     "data": {
      "text/plain": [
       "array(['Hirap mag comment!! Kasi view and followers lng Naman habol nila dyan kahit lumapit kpa xa pollo huo ika nga may kunting tulong pero double Ang balik xa kanila , Sana maging matalino na Tayo mga OFW',\n",
       "       'Sir/maam pede paba maka avail nang scholarship yong anak ko college na xa 21 yrs old na',\n",
       "       'Edsp Yan Yung 601 dollar pataas pag nakapasa ka SA exam 60 Tau yearly',\n",
       "       'SIr tanong kulang kilan mag start sa CARAGA EDSP entrance exam, till now wala pa din,',\n",
       "       'Odsp 600 pababa sahod ni Ofw .. walang exam 20k yearly',\n",
       "       'May exam po ba kasi last year wala namang sinabing exam',\n",
       "       'Urgent po hingi po ako ng 2long d npo xa pinapakain at nkakapag pahinga ng maayos gus2 nya npo 2makas s hirap at gu2m',\n",
       "       'Sir ako po nakakuha po ng balik pinas hanap buhay at waiting for filing po anak ko ng scholarship 93 po average nya po last grade 12 po xa',\n",
       "       'Sir saan po b pwde mg exam pra sa scholarship ng owwa',\n",
       "       '0945417397..sana po matawagan at matulungan nyo po kami z nastroke po mr q sa taiwan at wala po xa natanggap kahit piso from owwa po',\n",
       "       'Sir Arnel...tanong ko lang po sana. Makaka avail pa po ba ng scholarship yung anak ko n mg aaral ng colege.? 21 yrs old n xa.',\n",
       "       'Wlang owwa sa bohol my online exam ba sir arnel',\n",
       "       'Ano dapat gawin poh..... kaibigan ko,hindi pa pinauwi....kasi mahal daw ang ticket,,,sobrang mahal daw.....sa kuwait po xa.....',\n",
       "       'Sana po pwede iappy ang scholarship. Program nyu online.. Bkit kailangan pang persinal mismo na pumunta sa mga region....pra kahit yung member nalang po magapply sa mga nak nila musmong kukkuha nga scholarship.. Not unless meron po kayung exam..',\n",
       "       'Sir . good afternoon po..hingi po ako help .ung kapatid q po..na nasa saudi riyadh eh kinulong dw po xa sa room na wala pa dw po kain at kinuha pa po cguo cp po nia ksi d na po xa online .plss po help po . salamat poh',\n",
       "       'Hello po ask ko lng po pwede humingi ng tulong tatay ko po n c alijandro canonizado s yemen 23 yrs npo d nakauwi 62 yrs dahil po s gyera lagi at pag bobomba pwede po nyo kami tulungan pls gusto nrin po nya umuwi s pilipinas.. Dpo nmin alm gagawin nmi. Please\\nexpire npo lahat ng documents nia at over stay npo xa doon gawa ng gyera po. Pls ano po pwede gawin..??',\n",
       "       'Ser Arnel Ignacio tulungan mo pong mapauwi kapatid ko nakulong po xa SA kuwait nahihirapan DW po xa dun at nagugutuman nahuli po xa Kasi T.N.T po xa nagawa nya LNG po Yun sa maraming dahilan kagaya Ng minaltrato xa Ng amo nya Kaso ayw nya pa umuwi dahil xa LNG po inaasahan Ng mga anak nya Kaya napilitan xang mag T.N.T ser Arnel tulungan nyo po ate ko bago po masiraan xa Ng ulo killa ko po ate ko mahina po ang loob nya Evelyn S.Nebril po pangalan nya.',\n",
       "       'Magandang hapin po sir from reyadh Saudi Arabia ang concerned ko oo about sa scholarship ng edspnewaplican.region6@gmail.com ng region 6 sir ang anak ko ay scnd year college na po sabi sa link na ibinigay nila pag scnd year college na po di na po mag exam.kasi sa sun is d na taon di na maka aviel .basta 80% pataas ang grades so ang anak ko nag submit po with the said day and time ng requirements sa edspnewaplican.region6@gmail.com.sir single mother po ako tatlo anak ko sana po makuha po ang anak ko sir tulongan niyo po ako',\n",
       "       'Maraming maraming salamat poh Owwa sa agarang aksyon sa pinsanq,nakauwi na poh xa at kasalukuyan n pong nsa quarrantine xa ngaun..salute poh sa inyo',\n",
       "       'libre po ba ang hotel sa quarantine at pauwi sa probinxa',\n",
       "       'ofw po from uae abudhabi..tanong ko lng po magrenew po sn ako ng membership ko sa owwa thru transfer to bank..magkno po exact amount..thx po',\n",
       "       'Cnxa npo npaglaruan ng bata cp q',\n",
       "       'sir pwd po ba MA escholar ang anak ko first year college na po cxa pang lima na po ako balik sa abroad kahit Isa sa mga anak ko di lang makakuha ng scholarship galling po sa owwa',\n",
       "       'Good day poh pwdi poh manghingi poh ng tulong para sa kaiban ko dito sa kuwait kasi gusto na poh nia maka umowi ng pinas. 6 year na poh cxa sa amo nia tapus ayaw papauwiin ng amo nia lagi na lang cxa umiiyak',\n",
       "       'Hi po bka pwede nyo po aq mahelp ang mother q po kc ay ofw nagvacation po xa dto last july pra magpaopera kaso during operation po namatay po ang mama q\\npahelp nmn po kng ano pwede nmen gawin active ofw po xa.',\n",
       "       'Sana po matulungan nyo Po ung taga Cam.Sur na ofw comatose po xa nsa UAE',\n",
       "       'Hindi nman po tinutupad ng mga employer ang 1yr contrac nga mga ofw dito xa saudi',\n",
       "       'Pede po ba makaavail ng scholarship Yung anak ko grade 8 po xa....',\n",
       "       'gd day sir sna nman matulungan kpatid ko hindi na xa tinutulongan ng egency nya binibinta na xa sa iba employer sana nman po matulongan xa',\n",
       "       'Nag exam na Ako DATI pero di Ako natuloy.mag exam Po ba ako ulit?',\n",
       "       'Hello po sir may concern lang po ako. Meron ako kilala po dito sa Riyadh po nga kasama niya sa agency po ginagamit daw sa kanyang amo po at ngayon nabuntis. Hinde xa matawagan po kasi wala po xang number dito sa Riyadh po. At takot na takot ngayon po.',\n",
       "       'Paano po makahingi ng tulong ofw po ung brother in law ko sa dubai pauwi po xa nung aug 6 dapat sad to hear ng emergency landing po binaba po xa sa bangkok naun po nsa icu po xa naun sana matulungan nyo po kami',\n",
       "       'hi po libre pa din po ba ang hotel quarantine at pa uwi sa provinxa',\n",
       "       'Sna po matulungan un kaibigan q dito s kuwait...1 linggo n nsa agency un gamit nya ayw ibigay ng amo nya at bgo po xa hinatid s agency binugbog po xa ng kapatid ng amo nya..ang dami po binibintang s kanya',\n",
       "       'good afternoon po from UAE ..gusto q po san mipasok sa skolar ang kapatid q po .sana po matulungan niyo ako .khit siya lng po sana mipasok q sir..wala po kakayahan ang tatay namin na oaaralin na po xa..solo parent na oo ang tatay q at senior na po xa salmat po..',\n",
       "       'good afternoon po Jan sa inyo sir and maam hingi po ako tulong para sa kaibigan ko kinon fiscate po lahat ng Gamit nya pinag bintangan na ni lagyan nya ng powder ang pintuan ng bahay ngayon ipapupulis po xa, tas dinala po, xa sa ibang bahay, my balak po amo nya na ibinta xa sa ibang employer, sana po matulongan xa bago pmqn siya dalhin sa pulis please po',\n",
       "       'Maganda araw po sa inyong lahat aqo ai 6yrs na mahigit na po dito sa hail saudi arabia 6yrs na mahigit po na un Ndi aqo nauwi ngayun po nagsavi po aqo sa amu qoh na uuwi na po aqo ngayung august pero sept na po kahit isang papeles wala pang inaayos ang amu qoh sa pag uwi qoh ilang beses ko na po xang kinausap about dito pero lagi lang po sagot nia ai inshaallah tapos meron pa po aqong 2buwan sahod sa kanya ndi pa rin po niya binibigay gang ngayun kahit po ung mga benifits na dapat ai ibigay nia sakin ndi nia po binigay sakin Sana po matulungan nio po aqo gusto makauwi para makasama qoh na po mga anak qoh maraming salamat po Sana manotice nio po aqo',\n",
       "       'hello p0 ng msg p0 aq0 xa iny0 kc p0 ndi q0 makuha kuha ang passp0rt q0 xa agency q0 ..need q0 p0 tlg last 2019 pah p0 aq0 pina balik balik ....daming alibi ...tp0x p0 ngaun pg punta q0 ul8 ..temporary cl0se dw p0 dvah p0 dpt kht cl0se cla may tata9 dun kht isa? ....nkakasama p0 mg l0ob dpt nka ilang valik nah aq0 ..ganyan nmn ginawa nla',\n",
       "       'Hello po sir,pwede po magtanong hanggang ngayun wala p po ung pangako ni sic bello n mkakatanggap ang mga ofw s halagang 20k,pangako po nya yan nung ngpunta xa s quezon isabela kasagsagan po ng TUPAD',\n",
       "       'Sir arnel paano po yung scholar ng owwa kasi minsan lang nakatnggap anak ko wala na po sumunod sabi until makatapos xa tapos ngayun dina po xa nakatangap',\n",
       "       \"For me Sir Arnell it's not that mahirap xa,para sakin kung masasagutan ng maayos madaling-madali po un sir\",\n",
       "       'Homesick lang po yan dapat ng icip xa ng 10x bago xa ng abroad',\n",
       "       'Sir arnel bk pwede ko maipasok na sa ODSP scholarship ang anak ko na bunso grade 11 xa this coming year naka 2 kontrata nako active member po ako ng owwa',\n",
       "       'Hello sir pa help nmn po,ngyon may 12-2022,,dto s china po may kababayan n kylangan xa maiuwi po dhl s hndi mgnda klgyan nya poh please po sir',\n",
       "       'Sir Arnel may incoming college student Po ako pano mag avail Po NASA Davao Po xa..thank you po',\n",
       "       'Sir arnel good evening po ask ko Lang po scholar kasi yung anak ko sa owwa pero minsan and lang po xa nakatnggap ang sabi kasi noon until makatapos xa mag aral,ask ko Lang po scholar pa kaya ana ko kasi di pa xa ulit nakatangaap',\n",
       "       'Sir Arnel gud evening po ofw po aq dito abu Dhabi tulungan nyo po aq na maging scholar ung anak q..grade 12 n po xa ngaun June..gusto q narin sanang mag for good almost 10 years n po aqng ofw.',\n",
       "       'Pakiulit po sir Arnell yong scholarship na 60k na may exam sa dost tnx.',\n",
       "       'Hello po sir.. Pano po mag avail ng scholarship Para s anak ko.. Mag Co collage n po xa ngaung sunod n enrollment.. Thanks po Sana mapnsin nio po tanong ko',\n",
       "       'Gud evening sir Arnel..Ofw po from abu dhabi,Sir Arnel paano po mgapply ng scholarship para sa,anak q..grade 12 n xa sa June sir..',\n",
       "       'Sir please patulong nmn po kababayan dto sa china nsa hodpital xa need n xa umuwi delekado sitwasyon nya po sir, ito china number po 13168744165.',\n",
       "       'anu pong mga kailanga pra Maka apply ng exam anak ko.. qatar po ako nagttrabho.graduate n po sya ngayon ng seniorhigh',\n",
       "       'Paano po kapag teacher grad and hindi na nakapag exam and nakapagturo?',\n",
       "       'Sir pag maka avail po ba sa 20k assistance na scholarship assistance, pwed po ba mag apply nung isang klase scholarship na may exam?',\n",
       "       'Sir arnel pakitulungan Yong kapitbahay ko dito sa Kuwait gusto na nya mkauwi. 4 yrs na sya ayaw siyang pauwiin. At nkaranas na daw xang mabugbog NG tatay NG amo nya. Nagmamakaawa po sya sa akin po na tulungan ko xa. 50944354.yan po number nya dito sa Kuwait .',\n",
       "       \"Bka naman po pwd nyo aucn ung xa ONE HEALTH PASS, MAS PNAHRAP NYO PA UNG PAG REGISTER, PAHIRAP LNG YN GNGAWA NYO SAMEN EH, ANG DAMI2 NG NAG RE2KLAMO DI NYO PO B NAKKTA' IMBIS NA MASAYA ANG MGA OFW N UMUWI HND AT NBBWCT JAN XA ONE HEALTH PASS NA YN GNWA… See more\",\n",
       "       'Sir magtatanong lang po sana.. matgal po mgabroad Ang tatay q. Ngstop xa 2013. 69yrs old po xa nung mamatay last July 20. My financial assistance pa po ba na mkukuha. Salamat po',\n",
       "       'Madam /sir ano po pwde pong ma avail ng anak ng ofw kc ILANg lubos na xa..',\n",
       "       'Psenxa npo ilang years po b bgo mexpire yung pgging member ng owwa',\n",
       "       'Pwede b magtanong mkkauwi po b kung dn akya magtrabaho kc po my mga smasakit n Po xa akin',\n",
       "       'Sir ung fren ko kakauwe lng.kahapon ..hindi xa tpos ng kontrata nia pinauwe xa ng amo..kaso ang probelma wla xang pamasahe papuntang cebu kc ticket nia pa manila lng makakauha ba xa sa owwa dro ncr ng tulong pra sa pamasahe pauwe ng cebu',\n",
       "       'Paano poh pag nag aply xa ng repat tas tnawagan na poh xa.at nagback out poh sa repat.my change pa poh ba na mag aply olit sa repat',\n",
       "       'Sir Arnel dto po ako saudi.paano ko po makuha yong end of service ko po 8yrs na po ako dto mahigit.nahihirapan po ako sabihin ng amo ko dhil pagdating xa pera napaka kuripot po ito.tulungan mobpo ako Sir\\nano dpat kng gawin po.kasi mamaya sasabihin ko tapos bigla lng ako bilhan ng ticket na ko po alam.',\n",
       "       'Sir ung fren ko kakauwe lng khapon undto xa sa manila ngaun hindi xa tpos ng kontrata pinauwe ng amo ..wla xang pamasahe pauwe ng cebu kc ang ticket nia manila lng .ani ba maitutulong nio sknya tga cebu xa',\n",
       "       'Mga sir my frend is here now ngaun kakauwe lng nia khpon hindi xa repat amo nia bumili ng ticket nia ang ticket nia only manila lng tga cebu xa eh wla dw xa pamasahe pa cebu ..gusto nia pumunta sa owwa ncr kc undto xa manila mabibjgyan ba nio xa ng assistant pamasahe gusto n nia umuwe ng cebu ..tenks in advance mga sir',\n",
       "       'Gud evening, sir ung tita ko po nsa 30 years na sa amo nya sa saudi at mag exit na xa may mkuha ba xa sa amo nya, ayaw nya mag asikaso kc d dw po nya alam kung paano, pki help nmn po na sna may mkuha xa sa amo nya pag nag exit xa, sna matulungan po xa na makakuha ng benifets mag senior na xa dun na xa tumanda, sna may mkuha po xa. Slamt po',\n",
       "       'Maria kris Diaz from roxas isabela philippines nagpunta ng oman last may this year bumalik po sa agency ng oman para magtransfer ng amo nong july 26 pero hanggang ngayon po dipa tumatawag at dina nagoonline sa fb please po sana po mapansin nyo concern ko nag aalala napo kami wala manlang kaming pwedeng matawagan na mga fren nya doon please pakitulungan naman kapatid ko thank you',\n",
       "       'Sir good evening poh..ung asawa ko poh nasa dammam saudi arabia matagal n poh na hindi poh nirerenew ung iqama ng amo nya..gusto na nyang umuwi poh kaso d xa pinapayagan nung amo nya..',\n",
       "       'Good evening po sir patulong po problema ko po friend ko OFW sa abudhabi July 25 po xa nag flight nakuha napo Ng kanyang amo niya pero binalik po xa Ng kanyang amo sa agency Dubai dahil po Hindi xa nagustuhan Ng kanyang amo.kaya ngayon po pinagpaparta partime nalang po xa ng kanyang agency at hanggang ngayon po augost 4 na ay Wala pa po xang amo.pa ki check nga po sa OWWA Kung registered ba o hindi.name niya po DAILYN NACAYA ISiC.name po Ng agency niya dito po sa manila MOONCHERA AGENCY po Sana po ay maactionan po Ang aking mensahe.',\n",
       "       'Magandang gav po maam/sir..sana po mapansin nio po aq.gsto q po sana humingi ng tulong para makauwe ung kapatid q po..mahigit 2yrs ng tapos ang kuntrata ng kapatid q po ni wala po xang pinermahan na mag extend po xa ng kuntrata..ilang besis ng nagsav na umuwe xa pero walang ginagawa ung amo nia.14months na rin pong walang sahod po.true messenger lng po contact namin sa kanya dahil wala xang iqama para makabili po ng simcard po..halos wala rin xang pahinga at tulog dahil sa dami nia dw pong trabaho..sana po matulungan nio po kapatid q po..name po ng kapatid q ay lotis gabrillo..gamit nia po sa facebook account nia po ay richard cliff..yan po gamit nia..sa saudi po xa..ito rin po number q 09612961776..sana po mapansin nio po kami..godbless po.',\n",
       "       'sir arnel,,mgndang araw po s inyong lhat....aq poy 4yrs n dto ngaung sept,s qatar.,wlang bkasyon....ngaun poy gusto q ng umuwi at ang asawa q poy nastroke,2x n po xang ntumba,,,my blood clot po s brain mya at ang anak q pong 4th yr college ay namomroblema din...hirap po sitwasyon nmim dhil itong pag aabroad q lng ang source of income nmin.....ayoko q pong maapektuhan amg pag aaral nya at mtigil dhil po s hirap ng sitwasyon nmin...pls po help sir Arnel,ndi q n po alam ggwin q\\npls help',\n",
       "       'Ser, lumapit po un kaibigan ko Kay tulfo pra apo mkauwi ako kc po nhhirapan npo ako at delay Ang sweldo ko gusto ko lng po umuwi Kya lng po wla po ako pamasahe bnigyan p kmi Ng referral galing Kay tulfo d lng nddal Ng kaibigan ko kc nttakot po kmi bka kung Anu gawin xa akin sna po mtulungan nio ako mkauwi ito un #0550752563 sna po mtaqagan akopra madetalye ko po lhat',\n",
       "       'Hello sir,hopevn mapansin nyo po ang concerend ko about sa ate ko po,xa po c Marilyn Binalay Mora...twice n po kc xa ngtry mg apply ng scholarship pra sa mga anak pero dpo xa nakakapasok,active po xa for 12years!',\n",
       "       \"Good pm po Sir/Ma'am! paano po mg apply ng OWW scholarship...ung ate ko po kc ngapply xa pra sa panganay nya ngunit nabigo xa,ngayong nitry n nman po nya sa bunso nya ngayong papasok sa pasukan ngunit puno n nman po ang slot!!active at updated nman po xa\",\n",
       "       'Hi gd afternoon sir arnel anu b dpt gwin qng hindi nasu2nod un contrata over work po maxado at galit p un matanda pg nkita k nya n dpa tpoz gwain po s qatar po aq.',\n",
       "       'sana po sir matulungan u po kami kc po ung asawa q nastroke xa sa taiwan wala po kaming nakuhang tulong from owwa po',\n",
       "       'Pwede po ba maka avail anak ko ng schollar mag grade 11 xa!',\n",
       "       'Good day po ask q lang po aplikante po na 23 years old lang kaso ankapag apply na po assesment nalang po ng tesda kulang sa process makakaalis pa po ba xa nakapag owwa na din xa',\n",
       "       'Hello pwedi po ba..ung sister in law ko po almost 8 years na sa abroad at nkauwi xa n0ng January may mkkuha po ba xang indemnity po',\n",
       "       'hello mga sir ngapply anak ko sa owwa dagupan kaso di sya nkapasa sa exam ngayon MG 3year college na po siya ngayon',\n",
       "       'Ngaun ng 5th year na xa pwede pa ba mg apply?',\n",
       "       'Sir patulong po makaalis dto xa pangatlong amo ko muntik na po ako marape at ung agency ko dto xa saudi woang coordinate',\n",
       "       'gang kelan po ba sir ang deadline sa EDSP scholarship? grades nlng po kc inaantay namin para makapagpasa po ung anak ko sa online sana po maextend pa po kc kattapos lng ng final exam nila. salamat po ng marami',\n",
       "       \"Ask lang Ako nag apply Ako sa oasis poh destress yong pag uwi mag 2 year's na hi de parin Ako naka tanggap Ng ayuda Buti pa yong Kasama ko naka kuha pa xa\",\n",
       "       'hello mga madam and sir apply anak ko sa owwa kaso di niya naipasa exam niya noong 1year college niya ngayon mg3year college na po siya by September po so aka avail po ba anak ko sa owwa 12years active po ako hk po',\n",
       "       'Hello sir kilan po at saan pede mag exam anak q General trias cavite po family q and2 po kc aq abudhabi',\n",
       "       'Sir Arnel patulong namn po..dating dh xa oman po ako kaso de na ako mkabalik kc ngkasakit po ako...gusto ko nlng po sana mgstay dito sa pinas......Paano po ba sa BPBH PANGKABUHAYAN SIR...para dagdag puhunan po...Maraming salamat GODBLESS PO PALAGI',\n",
       "       'hello po... tanong q lang po... may hipag po aq namatay 2019...ngaun po my 2 anak xa... pede pa po ba maka avail ung mga pamangkin namin para makakuha ng scholarships... hindi po naaus kc nagpandemic... please... sana po masagot ninyo... salamat',\n",
       "       'Sana po matulungan pinsan ko nakauwi na ng pinas pero gastos nea lahat ticket hanggang pamasahe taxi..wala po xa nakuhang sahod pero pinilot xang oinapirma ng amo nea na nakuba nea lahat kasi kung nd xa pipirma pupunitin ticket at passport nea at sinaktan pa...',\n",
       "       'hi po ask ko lng pokung pede nyo akong matulungan ,regarding sa mr ko,kaya lng po hindi ko na alam exact address nya sa dammam at co. nya ngayon.hindi po sya nagpapadala sakin regular,2x a year lng minsan po buong taon wala.pls sana po matulungan nyo aksalamat po',\n",
       "       'hingi po ako ng tulong po sir amo ko lagi nalang galit sa akin diko na xa maintindihan sir kaya sabi ko bakit lage kang galit sabi din ng Kasama ko dito nag seselos sad amo kung babae gusto ko nalang sana uuwi ako ng agency or pinas 2month palang ako dito sa Kuwait sabi ng agency sa pinas pag hihingi daw kami ng tulong di daw kami matutulungan kasi daw direct hiring po sir, name ko po Gellian Dumdom,33 years old dito po ako sa Kuwait,adress rehab block 2 street 2 house 47',\n",
       "       'Good afternoon po sir ..hingi po sana ako ng tulong para po s bayaw ko n napauwi po galing saudi dahil xa po ang inatake ng stroke kc highblood po xa..',\n",
       "       'Sir Arnel,.. isa po ang anak ko sa nka avail po ng scholarship nung 2021 kaso po hanggang ngaun d pa rin sya nakkakuha ng assistance nagbabayad pa rin po kami ng bawat exam nya po.',\n",
       "       'Yong anak ko dati ginawa lahat para maka apply sa scholarship nag review para exam ok naman ang result pero d pa rin na kuha sa scholarship hirap pag walang kapit',\n",
       "       'Den-den Castronuevo hello po yung friend ko po tapos na ng kontrata sa Bahrain bali naka 3years xa san po pwede magreklamo pag po hindi nagbigay yung amo nia salamat po',\n",
       "       'anu po ang requirements po ksi ung anak ko po mag 2nd year college na po sa la union po xa ng aral.',\n",
       "       'sir meron po kaibigan ng kaibigan ko po nsa jeddah xa po. sinasaktan po ng amo.pwedi po e send ko s inyo po ang senend saakkn ng kaibigan ko po.complete datails po',\n",
       "       'Sir sana po makapasok ng EDSP schoolarship isa sa mga anak ko ,,pwede pa yatang maka exam kc hindi nman kami na inform ng mg pa exam ,,ako lng ngpapaaral ,,active owwa member po ako since 2016,',\n",
       "       'Mahirap pong mka apply ng schoolarship,,dapat nalaman namin ung exam,,para makapasok nman anak ko ,,un lng ang tanging inaasahan nmin sana ng tulong sa owwa',\n",
       "       'mau po xa ipon kc ndi po xa libre sa lhat sa personal hygen nya xa pa bumibili at kailangan nya bumili ng pgkain nya sana nmn po mkuha nya ung 390kd n indermity nya sa mployer nya',\n",
       "       'ang agency po nya dto sa pinas otg agency sa kuwait po al rayan employment agency sa al ashima kuwait po xa',\n",
       "       'un mama kopo umuwi last 2021 nakapag apply po xa sa DOLE AKAP Pero hanggang ngaun wla pong notice for payout.. sana po mapansin kc need din po ni mama lalo stroke patient po si papa ngaun',\n",
       "       'Good evening po.. OFW Singapore po aq.. ask q lng kng makaavail b aq ng scholarship pra s anak q. Magka college n xa this pasukan',\n",
       "       'Sir ask ko po EDSP scholarship ng anak ko ,,sad to say tapos na daw examination dalawa po kasi college ko kahit isa mn lng sana makapasok,,parehas incoming 1st year college ,,region 5 po ako bicol ,active owwa member po ako since 2016,,',\n",
       "       'Sana po masagot ask lang po ako para sa friend ko po kasi same kame hindi binayaran ng amo namen ng bakasyon namen db po my makukuha kame nun kahit wag napo ako yung frieyko nalang po 3years po kasi xa and wala man lang mauuwing pera kaya sana po masagot san po pwede magpunta or humingi ng tulong po salamat po GodBless',\n",
       "       \"Sir... ang panganay ko mag college na sya this year i need your help sa college nya... driver lang po ako d2 sa riyadh medyo matagal narin po ako d2.. sa sigma, roxas, capiz po sila now. Hoping for your assistance and response sa chat ko na ito... ito po email add ko.. menandro.b@yahoo.com maraming salamat mga sir at ma'am... kung paanu po mag process ...\",\n",
       "       'T.N.T po xa almost 3 years na sinaktan po xa Ng amo at pinalayas po xa wla pong nagawa ateh ko kng d umalis pinalabas Ng amo nya Run away DW po xa ayw nya po umuw Ng Pinas SA dahilang wla xang maipadala SA mga anak nya Ng Pera Kaya nag t.n.t nlng xa SA kamalasan nahuli po xa Ng police mga lagpas isang linggo na po paki tulungan po ateh ko namaka uwi nlng po slmat po SA inyong lahat',\n",
       "       'Pahelp po kapatid namin nasa Kwait,ayaw bigyan ng release paper ni amo.Nagkasakit xa,namaga buong katawan po kaya bumalik ng agency dahil kahit hirap po ay pinipilit sya magtrabaho ni amo.1 month lang po sya wala po sya kapera pera duon.MELANIE ALBERTO ALFONSO PO pangalan nya ,OAsia,Non stop agency po dto pinas.Al Sarraf Mamoud po sa Kwait.Sana po matulungan kami para sa kanyang agaramg pag uwi dahil hindi rin po sya ipinacheck up ni amo at agency.',\n",
       "       'Hello Sir Arnel, ask lang po ako kasama ko pinoy dito sa Saudi may MAYOMA xa tapos pina check up sa saka ginunan xa ng dugo para bloodtest daw if canceros ang MAYOMA niya tapos sabi 10days result so June 1 xa bloodtest sana ngayon may result na sinabihan niya Employer niya wala nan cinsabi..eh gusto po niya malaman kung ano result, ano po bang gagawin? Patulong po..salamat',\n",
       "       'Gudpm po sir pno po yong apply ko for saudi exabroad npo blik amo lng po aq pero npktagal ng process ng agency ko dto sa pinas anong hakbang po pwd gwin plss po sana mbsa nyo comment ko..slmat po',\n",
       "       'Sir panu malamn n active membership ako? Since 2004 til now amo nag aabroad,, para s scholar sana s anak k panu po mag college n xa nxyer',\n",
       "       'Good afternoon pouh from Riyadh Saudi Arabia...asked q lng pouh mag 4yrs pouh aq dz September my mkkuha pouh vha aq xah employer q at anu pouh requirements pra umuwi ng pinas',\n",
       "       'Kapag pcr positive po, pwede po mag ask ng help sa OWWA? Example quarantine in hotel instead of local government facility..thnx',\n",
       "       'Hello sir good day Po,nag apply yong anak ko sa schoolarship naka pass na Po xa Ng requirements nong may,until now wla pa pong feedback',\n",
       "       'Sir madam dkopo alam if valid pa po ang iwwa ko 3 years ago po ..sabi po nila ofw MGA anak nmin pwede po bng makaaly po cla Ng scholarship KC Yung bunsoko po ay college po xa bka pwede po nyoko magtulungan MGA sir at madam',\n",
       "       'sana po, yung owwa scholarship per ofw, 1 student, tanggalin na.po yung exam exam po, kung nais nyo talagang makatulong, di lahat ng students ay matatalino po at sana wag na.po.pahirapan sa mga requirements',\n",
       "       'Ser tanong lng po ako kc po bnili nko Ng ticket Ng agency ko Ang nid nlnag po un final exit viza ko na manggaling xa amo ko pro nsa poea nmn po complain nmin tanong ko lng kung mabigyan ako Ng exit viza kc po Ang sabi nag ppa assist npo cl ax apolo',\n",
       "       'Yong kasamahan ko 3yrs.cxa d2 sa Saudi umuwe sya july 27 pinaiwan pa osang buwan nyang sahod....ngayon nagkasakit sya sa pinas hind nya nerenew ang kanyang membership sa owwa may matanggap paba sya tulong sa owwa...salamat',\n",
       "       'Sir good afternoon pki tolong nman Kay Gina Nicolas adito cxa sa saudi Arabia Al taif...sana makauwe na xa kc may sakit cxa 2weeks na Po salamat',\n",
       "       'Mg 4years na ako SA amo ko at Kung mglipat ako Ng amo hingi xa Ng 19k lhat Ng gasto nla skin pababayaran nla SA lilipatan ko',\n",
       "       'Ante at uncle ko po,bagong dating lng po pinas,pano po ba makakuha ng xash assistance?',\n",
       "       'Tanong ko lng po pwede na pba mag apply scholarships pra sa anak ko grade 11 na po xa sa pasukan',\n",
       "       'sir .Arnel hingi po aq ng tulong sa kapatid po ng tita ko nasa Riyadh gusto npo nia umuwi kaso ayaw xa pauwiin ng amo nia tas pinadadala pxa sa ibang haus ,tapos npo ang 2yrs nia dun,Adel Calumot po name nia',\n",
       "       'pinaka magaling n OWWA administrator c Arnel Ignacio..Sana forever n xa jn',\n",
       "       'Good evening po sir arnel . Mag tanung lng po ako kung ano pa po yun pwde makuha benefits ng isang ofw na kasi naka uwi na po ako. Gusto ko sana makakuha manlang kahit pang kabuhayan para di nanpo xa bumalik ng kuwait. Salamat po',\n",
       "       'Hello po sir ung kapatid po uuwi napo kc 6yrs na po xa sa jeddah ayaw ng amo nya may makukuha po xang gratuity? Salamat po',\n",
       "       'Ano po requirements sa exam sir sa scholar po thanks',\n",
       "       'sir..nais q lg po malaman kng may matatanggap po ba ang isang OFW na nasa pinas na pero 21 yrs po syang nsa abroad noon.2018 pa po xa nakauwi sa pinas.sir.sana po masagot nyu po ang tanong kp.maraming maraming salamat po.God Bless po',\n",
       "       'Sir hingi po ako ng tulong gus2 ko po mag trabaho sa taiwan factory worker.ang hirap mag apply sa dami kunang pinuntahan na agency meron exam ang dali lang po tapos hindi po naisama sa interview 34yrs old firstimer sa taiwan',\n",
       "       'Hello po mga sir and mam, ako po c Analyn A. Dumajug isa po akong ofw dito sa saudi dammam, tumakas po ako sa amo ko noong oct 6, at napunta nang polo, tapos pinakulong nang amo, yong sintincxa ko isang buwan lang, tapos nanatili ako sa kulungan nang 8na buwan, ngayon nasa Sakan dammam napo ako ngayon, mi ni messege ko yong taga polo na ipahatid gamit ko dito kase wala akong gamit. Sana po matulungan nyu po ako na makauwi',\n",
       "       'Sir arnel,ppatulong po sna 2ngkol s alowance ng mga anak ko n manggagaking s tatay nla n nsa korea,naghiwalay n po kmi kz bbaero xa..diko n kaya!,pro buntis po kz aq s pang 5 sna nming anak,3mos.mhigit n nung umalis xa,now 7mos.n po,kya khit pra s mga anak nya lng po.',\n",
       "       'Sir magtatanong lang po sana.. matgal po mgabroad Ang tatay q. Ngstop xa 2013. 69yrs old po xa nung mamatay last July 20. My financial assistance pa po ba na mkukuha. Salamat po',\n",
       "       'Madam /sir ano po pwde pong ma avail ng anak ng ofw kc ILANg lubos na xa..',\n",
       "       'Psenxa npo ilang years po b bgo mexpire yung pgging member ng owwa',\n",
       "       'Pwede b magtanong mkkauwi po b kung dn akya magtrabaho kc po my mga smasakit n Po xa akin',\n",
       "       'Sir ung fren ko kakauwe lng.kahapon ..hindi xa tpos ng kontrata nia pinauwe xa ng amo..kaso ang probelma wla xang pamasahe papuntang cebu kc ticket nia pa manila lng makakauha ba xa sa owwa dro ncr ng tulong pra sa pamasahe pauwe ng cebu',\n",
       "       'Paano poh pag nag aply xa ng repat tas tnawagan na poh xa.at nagback out poh sa repat.my change pa poh ba na mag aply olit sa repat',\n",
       "       'Sir Arnel dto po ako saudi.paano ko po makuha yong end of service ko po 8yrs na po ako dto mahigit.nahihirapan po ako sabihin ng amo ko dhil pagdating xa pera napaka kuripot po ito.tulungan mobpo ako Sir\\nano dpat kng gawin po.kasi mamaya sasabihin ko tapos bigla lng ako bilhan ng ticket na ko po alam.',\n",
       "       'Sir ung fren ko kakauwe lng khapon undto xa sa manila ngaun hindi xa tpos ng kontrata pinauwe ng amo ..wla xang pamasahe pauwe ng cebu kc ang ticket nia manila lng .ani ba maitutulong nio sknya tga cebu xa',\n",
       "       'Mga sir my frend is here now ngaun kakauwe lng nia khpon hindi xa repat amo nia bumili ng ticket nia ang ticket nia only manila lng tga cebu xa eh wla dw xa pamasahe pa cebu ..gusto nia pumunta sa owwa ncr kc undto xa manila mabibjgyan ba nio xa ng assistant pamasahe gusto n nia umuwe ng cebu ..tenks in advance mga sir',\n",
       "       'Gud evening, sir ung tita ko po nsa 30 years na sa amo nya sa saudi at mag exit na xa may mkuha ba xa sa amo nya, ayaw nya mag asikaso kc d dw po nya alam kung paano, pki help nmn po na sna may mkuha xa sa amo nya pag nag exit xa, sna matulungan po xa na makakuha ng benifets mag senior na xa dun na xa tumanda, sna may mkuha po xa. Slamt po',\n",
       "       'Maria kris Diaz from roxas isabela philippines nagpunta ng oman last may this year bumalik po sa agency ng oman para magtransfer ng amo nong july 26 pero hanggang ngayon po dipa tumatawag at dina nagoonline sa fb please po sana po mapansin nyo concern ko nag aalala napo kami wala manlang kaming pwedeng matawagan na mga fren nya doon please pakitulungan naman kapatid ko thank you',\n",
       "       'Sir good evening poh..ung asawa ko poh nasa dammam saudi arabia matagal n poh na hindi poh nirerenew ung iqama ng amo nya..gusto na nyang umuwi poh kaso d xa pinapayagan nung amo nya..',\n",
       "       'Good evening po sir patulong po problema ko po friend ko OFW sa abudhabi July 25 po xa nag flight nakuha napo Ng kanyang amo niya pero binalik po xa Ng kanyang amo sa agency Dubai dahil po Hindi xa nagustuhan Ng kanyang amo.kaya ngayon po pinagpaparta partime nalang po xa ng kanyang agency at hanggang ngayon po augost 4 na ay Wala pa po xang amo.pa ki check nga po sa OWWA Kung registered ba o hindi.name niya po DAILYN NACAYA ISiC.name po Ng agency niya dito po sa manila MOONCHERA AGENCY po Sana po ay maactionan po Ang aking mensahe.',\n",
       "       'Magandang gav po maam/sir..sana po mapansin nio po aq.gsto q po sana humingi ng tulong para makauwe ung kapatid q po..mahigit 2yrs ng tapos ang kuntrata ng kapatid q po ni wala po xang pinermahan na mag extend po xa ng kuntrata..ilang besis ng nagsav na umuwe xa pero walang ginagawa ung amo nia.14months na rin pong walang sahod po.true messenger lng po contact namin sa kanya dahil wala xang iqama para makabili po ng simcard po..halos wala rin xang pahinga at tulog dahil sa dami nia dw pong trabaho..sana po matulungan nio po kapatid q po..name po ng kapatid q ay lotis gabrillo..gamit nia po sa facebook account nia po ay richard cliff..yan po gamit nia..sa saudi po xa..ito rin po number q 09612961776..sana po mapansin nio po kami..godbless po.',\n",
       "       'sir arnel,,mgndang araw po s inyong lhat....aq poy 4yrs n dto ngaung sept,s qatar.,wlang bkasyon....ngaun poy gusto q ng umuwi at ang asawa q poy nastroke,2x n po xang ntumba,,,my blood clot po s brain mya at ang anak q pong 4th yr college ay namomroblema din...hirap po sitwasyon nmim dhil itong pag aabroad q lng ang source of income nmin.....ayoko q pong maapektuhan amg pag aaral nya at mtigil dhil po s hirap ng sitwasyon nmin...pls po help sir Arnel,ndi q n po alam ggwin q\\npls help',\n",
       "       'Ser, lumapit po un kaibigan ko Kay tulfo pra apo mkauwi ako kc po nhhirapan npo ako at delay Ang sweldo ko gusto ko lng po umuwi Kya lng po wla po ako pamasahe bnigyan p kmi Ng referral galing Kay tulfo d lng nddal Ng kaibigan ko kc nttakot po kmi bka kung Anu gawin xa akin sna po mtulungan nio ako mkauwi ito un #0550752563 sna po mtaqagan akopra madetalye ko po lhat',\n",
       "       'Hello sir,hopevn mapansin nyo po ang concerend ko about sa ate ko po,xa po c Marilyn Binalay Mora...twice n po kc xa ngtry mg apply ng scholarship pra sa mga anak pero dpo xa nakakapasok,active po xa for 12years!',\n",
       "       \"Good pm po Sir/Ma'am! paano po mg apply ng OWW scholarship...ung ate ko po kc ngapply xa pra sa panganay nya ngunit nabigo xa,ngayong nitry n nman po nya sa bunso nya ngayong papasok sa pasukan ngunit puno n nman po ang slot!!active at updated nman po xa\",\n",
       "       'Sir please ung application ng anak for EDSP di ko alm if nkpsok xa or not. Region 7 sir please. Complete n xa requiremnts.. Npsa na pero wala reply sa Emails',\n",
       "       'Good afternoon!po,sir required po ba talaga ang mgpatake ng exam para maka avail ng scholarship ang isang anak ng OFW..',\n",
       "       'Sir ask ko din po sana about po sa scholarships po kasi po mag college na po xa this year po',\n",
       "       'Gandang gabi po may problems is yong anak ko messing sa dubai mag 2months na xa na walang kontak sa amin wala akong alam Kung sino doon matanong Kung ano nangyari sa Kanya... # ko 09457455570',\n",
       "       '7 yrs n po aq dto xa ibang bnsa eh nd ko po alm kng active member p aq ng owwa',\n",
       "       'Bkit po ANG LAKI NG BBYARAN NG PF IF EVER MAG APLY example sa TAIWAN OG HK. Bkit d same dito sa Arab countries wlng PF.',\n",
       "       'Hello po pashout out from roxas city',\n",
       "       'Sir bka pde po matulungan ño kpatid q 18 yrs xa ngtrabaho sa Kuwait umuwi xa lst Dec. 2021 dhil mysakit xa kylangan ña lng gmot na maintenace ña my mkukuha ba xa sa owwa sir nsa Cagayan Valley xa ngyon',\n",
       "       'Magandang tanghali po from dubai sir tanung lang po aqo po c jheroselbezar po ito ofw meron po bang pwede mahingi ng tulong ung anak q po s owwa xa po ay may sakit khit d po ba active member s owwa pwede po ba thanks po',\n",
       "       'Congrats\\npo kay Sir Arnel Ignacio. deserving po xa sa position',\n",
       "       'Ask ko lang po bakit need pa ng DOST exam ang ang schoolarship ng owwa, first-year college napo sya, at pili daw ang kurso walang nursing,',\n",
       "       'Sir ask lng poh ako may kilala ako flight na poh nya sa 17 saudi airlines poh.nka booster na poh xa..need daw poh ba parin mag pcr test...?may nka pag sabi daw poh sa knya na need nya bago xa mag flight..kse hhnapan pa rn daw xa nun kht nka first booster na xa',\n",
       "       'good afternoon po sir! dubai base ofw po! ask ko lang po maka avail pa ba ng educational assistance ang anak ko? nasa 4 year college na po xa ngaun?',\n",
       "       'Hello po sir arnel ignacio... Pinili ba ang mabigyan nang scholarship... Pina apply ko po kasi anak ko 3years college na cxa ngayon at may dalawang high school at tatlong elementary ako... Nong nag punta at mag tanong anak ko don sa amin sa region 11 p kami.. Sabi don sa office wala nadaw slot at unah8n daw yung nasa probencxa... Plsss nman po...\\nSana mapansin ako.... Junisee Puerto Ceruela po.. At andito ako sa Bahrain ngayon... Pa assess nman po ako.. Pansenin sana ninyo ako.. Plssss',\n",
       "       'Sir pakitugan ni0 nmn po kaibigan q binenta po xa ng employer nia.',\n",
       "       'Sir sna matulungan din ninyo pinsanq mapauwi,finish contract n xa at gustong gusto na umuwi cnaktan ndin daw xa Ng amo nya..nsa Saudi Arabia poh xa DNA din pinapasahod from Jan to august..',\n",
       "       'Magandang Gabi sa inyong lahat sana matulongan nenyo ang kbayan naten kauuwe lang niya nong June 25 at ngayon ay nag kasakit sya nasa Region 11 cxa Dvo.City Jeanerose G.Fuentes',\n",
       "       'Sana po kung 3 ang anak mo 3 din maka avail bakit 1 lang mka avail ng scholarship ng owwa ang panganay ko nkapag avail ng svjolarship ng owwa graduate na xa 2018 pa owwa scholar din ngau 2 na ank ko puro college na sa UM davao ng scol parehu hnd nman mka pasok sa owwa scholarship',\n",
       "       'Pagingi nmn po advice ano dapat ko gawin kng paano ko mkuha vacation pay leave ko,kinausap ko amo ko tungkol jan sabi hndi nmn daw ako ng bakasyon,at sabi nya saka nya lng ibibigay yung pera png plane ticket ko sana nung ng 2yrs ako ng extend ako 4yrs n ako nung august 26,may nabanggit din xa sbi nya papatayin daw nya ako pag malapit n ako uuwi tpos sbi nya joke lng daw.sana maoansin nyo comment ko stress n po ako sobra sa amo ko.',\n",
       "       'Sir arnel ptulong po,,ung anak ko n nsa Qatar gsto n sna nia umuwi kaso dpa tpos ung papel nia s Labor,,run away kc xa don..sna mtulkngan m xa n mkauwi..',\n",
       "       'Hello po sir arnel pwede po bah Maka pasok ng scholarship Yung anak ko po... moving 1st college na xa... from cotabato city po...',\n",
       "       'Sir arnel ignacio please help my friend in kuwait she needs help finish contract n po xa pero 3years n po xa dun n wala po pinipirmahan n bgo contract at ng kakasakit na po siya',\n",
       "       'Sana Po sir Arnel matolongan mo Ang kapatid ko Po sa damam ngayon andoon sa egency sa damam Po para Maka uwi na xa',\n",
       "       'Hello po Sir Arnel..kailan po ang deadline sa scholarship sa OWWA then yong exam schedule',\n",
       "       'Hello po sir Arnel Ang PAG renew po b Ng passport ay pwede Ang amo lng KC Sabi Ng amo k xa n bahala.',\n",
       "       'Opo sir dito po sa Lebanon flight na po ng fren ko nd po xa nakauwe kc wala po xang onehealth pss',\n",
       "       'Good evnng Po sir patulong Po na mkauwi Po c Marigen Cadavis po nasa hospital Po sxah ngayon sir',\n",
       "       'sir patulong po sna ako sa kaibgan ko gusto nya makauwi kaso wla po xa pambili ng ticket dhil runaway po xa sir sa UAE naawa po kc ako namatayan xa ng aswa hindi xa nakauwi bata pa mga anak nya bka pwde matulungan nyo po xa',\n",
       "       'Hello po sir watching from riyadh saudi po..tanong lang 4yrs napo ako xa amo ko at mag exit n po ako sinbi ko po kai mao about may ESB hndi daw siya magbigay sa akin..sir arnel saan po ako pwde manghinge ng tulong para matawagan amo.mo ko dito ako riyadh..',\n",
       "       'Sir sana makuha na ng agency Ang kapatid ko na c jelyn tuganan dto xa sa saudi...kc xa lng mag Isa Hindi nya Kaya I handled sir.. Hindi nya Kaya kc 5 ung bata,tpos cxa pa Ang linis,loto, Hindi nya Kaya sir tpos parati pa Galit amo nya na babae...',\n",
       "       'Sna sir Arnel babaan ung requirements pra s scholarship ng mga dependents ng isang ofw.. sabi kc dun s requirements n nkita s online ng owwa scholarship kpag more than $600 Ang sahod is hnd pwd mkaavail ng scholarship.. sg$620 po sahod q.. gusto q sna ipasok s scholarship anak q.. college n po xa .',\n",
       "       'Sir,aq Po 8years jn sa Qatar,umowi aq last March 10 lng this year umowi aq dahil naadmit mama q ngkasakit xa mahigit isang buwan sa ospital mama q pro dpatin xa nkarecover til April 7 namatay xa,nong bago aq umowi sir,hingi q Ang End of service o Graduity q sa amo q d tlga binigay,hingi aq tulong sa Owwa,pro wla tlga dn lng aq nla tinolongan,,grabi tlga sir,umowi aq wlang Pera at in lng sana Ang inaasahan q Ang End of service q,sir sana matulongan nnyo aq makuha yon,please please',\n",
       "       'Anak q rin po nag apply region 4A npasa po lahat ng papers sa binigay nlng date ng open ang pasahan,nkpag pasa agad xa pagkaopen e sv puno n slot!',\n",
       "       'Sir Good Evening po watching from Taiwan,about po sa skills training ksama din po ba xa sa mga program ng owwa',\n",
       "       'Hello po Pahelp po dto po sa qatar belas ko po nakulong po cxa sang linggo na po ngayon kadahilan po nagpapasok daw po cxa ng lalaki',\n",
       "       'Ofw Po aq kasalukuyan s Singapore sir/ma’am,, pwede Po ba aq magtanung kung pwede Po ba aq mag apply Ng Owwa scholarship para s anak q mg first year college Po xa Ngaun pasukan. Salamat Po',\n",
       "       'Dapat walang exam kahit indi matalino basta gustong mag arsl dapat pasok',\n",
       "       'Sir Good Evening poh pa help naman kabayan ko taga Pigcawayan Angelica Flores nsa Riyadh KSA cxa sinasaktan cxa ng Amo nya?',\n",
       "       'Good morning po....gusto KO po sna humingi ng tulong...ung ate KO po kc 4 months n xang wlang shod...tinawagan ko n po ung agency niya dto sa pinas...kso laging sinasabi aayusin...ipapasa...',\n",
       "       'Pa pogi lang mga alam nyan wala nman mga action.. Gagastos kalang xa travel punta xa main ofice na ako mismo nag punta pati xa online.. Wala nang yari xa mfa programa nayan...',\n",
       "       'magandang hap0n p0 ...hingi p0 sana aq0 ng tul0ng panu mabawi xa agency passport q0 sa agency ..pur0 pangak0 lng p0 ...mg 3yrs nah p0 dun plsss p0',\n",
       "       'Good evening po magtatanong lng.po sir,madam..example sa mga cross country po kng my problema pwede ba makahingi ng tulong.sa inyo?',\n",
       "       'Good evening po..hihingi lng po sana kami ng update tungkol po sa kamag anak nmin na nsa kuwait.. Last contact po sa Amin ay nuong July 17 pa po ng tanghali at ang sabi ai pauuwiin ndw po sya ng tga embahada ngunit hangang ngayun ay wla pa pong update sa Pamilya nag aalala na po ang pamilya sa Pilipinas gawa ng dialysis Patients po Si Rovelyn Roxas Capitan.. My kidney failure po sya at nag dialysis sya sa bansang kuwait.. Sana po ay mapansin ninyo ang mensahe kong ito..',\n",
       "       'Hello po good evening po itatanong ko lng po kung ang pgpapa appointment po ba nang owwa seminar eh inaabot po b nang 3weeks?psenxa n po kc hnd q po alm kung san dpat mgtanong nang tungkol jan kc yung agency q po prang hnd inaasikaso mraming slamat po at kung pwd po b n aq nlng ang mgpa appointment o agency lng ang pwd gumawa'],\n",
       "      dtype=object)"
      ]
     },
     "execution_count": 31,
     "metadata": {},
     "output_type": "execute_result"
    }
   ],
   "source": [
    "all_df[all_df['text'].str.contains('xa')]['text'].values"
   ]
  },
  {
   "cell_type": "code",
   "execution_count": 12,
   "id": "ecf0824a",
   "metadata": {
    "ExecuteTime": {
     "end_time": "2022-09-27T14:47:42.442217Z",
     "start_time": "2022-09-27T14:47:42.438429Z"
    }
   },
   "outputs": [
    {
     "data": {
      "text/plain": [
       "count    17536.000000\n",
       "mean         9.062044\n",
       "std          8.038674\n",
       "min          2.000000\n",
       "25%          4.000000\n",
       "50%          7.000000\n",
       "75%         11.000000\n",
       "max        207.000000\n",
       "Name: clean_text_word_count, dtype: float64"
      ]
     },
     "execution_count": 12,
     "metadata": {},
     "output_type": "execute_result"
    }
   ],
   "source": [
    "all_df['clean_text_word_count'].describe()"
   ]
  },
  {
   "cell_type": "markdown",
   "id": "0fee0f24",
   "metadata": {},
   "source": [
    "### Guess gender of comment sender"
   ]
  },
  {
   "cell_type": "code",
   "execution_count": 13,
   "id": "37dda443",
   "metadata": {
    "ExecuteTime": {
     "end_time": "2022-09-27T14:47:42.449010Z",
     "start_time": "2022-09-27T14:47:42.445542Z"
    }
   },
   "outputs": [],
   "source": [
    "gg = GenderGuesser()"
   ]
  },
  {
   "cell_type": "code",
   "execution_count": 17,
   "id": "06adbaef",
   "metadata": {
    "ExecuteTime": {
     "end_time": "2022-09-27T14:51:20.270461Z",
     "start_time": "2022-09-27T14:51:08.364925Z"
    }
   },
   "outputs": [],
   "source": [
    "#func_result = [(x,gg.guess_gender(x)) for x in all_df['sender_name'].values[0:100]]"
   ]
  },
  {
   "cell_type": "code",
   "execution_count": 19,
   "id": "fb4eb979",
   "metadata": {
    "ExecuteTime": {
     "end_time": "2022-09-27T15:27:49.642241Z",
     "start_time": "2022-09-27T14:52:33.675682Z"
    }
   },
   "outputs": [
    {
     "data": {
      "text/plain": [
       "feminine            8573\n",
       "unknown             5402\n",
       "masculine           2523\n",
       "androgynous          456\n",
       "mostly_feminine      317\n",
       "mostly_masculine     265\n",
       "Name: gender, dtype: int64"
      ]
     },
     "execution_count": 19,
     "metadata": {},
     "output_type": "execute_result"
    }
   ],
   "source": [
    "all_df['gender'] = all_df['sender_name'].apply(lambda x: gg.guess_gender(x))\n",
    "all_df['gender'].value_counts()"
   ]
  },
  {
   "cell_type": "code",
   "execution_count": 20,
   "id": "00c19669",
   "metadata": {
    "ExecuteTime": {
     "end_time": "2022-09-27T16:03:31.063952Z",
     "start_time": "2022-09-27T16:03:31.040206Z"
    }
   },
   "outputs": [
    {
     "data": {
      "text/html": [
       "<div>\n",
       "<style scoped>\n",
       "    .dataframe tbody tr th:only-of-type {\n",
       "        vertical-align: middle;\n",
       "    }\n",
       "\n",
       "    .dataframe tbody tr th {\n",
       "        vertical-align: top;\n",
       "    }\n",
       "\n",
       "    .dataframe thead th {\n",
       "        text-align: right;\n",
       "    }\n",
       "</style>\n",
       "<table border=\"1\" class=\"dataframe\">\n",
       "  <thead>\n",
       "    <tr style=\"text-align: right;\">\n",
       "      <th></th>\n",
       "      <th>comment_id</th>\n",
       "      <th>date_aired</th>\n",
       "      <th>sender_name</th>\n",
       "      <th>text</th>\n",
       "      <th>clean_text</th>\n",
       "      <th>clean_text_word_count</th>\n",
       "      <th>text_word_count</th>\n",
       "      <th>gender</th>\n",
       "    </tr>\n",
       "  </thead>\n",
       "  <tbody>\n",
       "    <tr>\n",
       "      <th>0</th>\n",
       "      <td>202207070061</td>\n",
       "      <td>2022-07-07</td>\n",
       "      <td>John Godfrey</td>\n",
       "      <td>Palala lamang po sa mga ofws sa ksa wag mameke...</td>\n",
       "      <td>palala ofws ksa wag mameke dokyumento nahuli n...</td>\n",
       "      <td>8</td>\n",
       "      <td>17</td>\n",
       "      <td>masculine</td>\n",
       "    </tr>\n",
       "    <tr>\n",
       "      <th>1</th>\n",
       "      <td>202207070065</td>\n",
       "      <td>2022-07-07</td>\n",
       "      <td>Agripina Esmajer</td>\n",
       "      <td>Hi Sir Arnel good evening Po!watching from San...</td>\n",
       "      <td>joaquin iloilo yrs dole akap financial assista...</td>\n",
       "      <td>8</td>\n",
       "      <td>22</td>\n",
       "      <td>feminine</td>\n",
       "    </tr>\n",
       "    <tr>\n",
       "      <th>2</th>\n",
       "      <td>202207070066</td>\n",
       "      <td>2022-07-07</td>\n",
       "      <td>Merybeth Sumagpao</td>\n",
       "      <td>Hello sir and ma'am Sana matulungan nyo nman a...</td>\n",
       "      <td>matulungan 14year abroad pandemic hindi balik ...</td>\n",
       "      <td>12</td>\n",
       "      <td>32</td>\n",
       "      <td>feminine</td>\n",
       "    </tr>\n",
       "    <tr>\n",
       "      <th>3</th>\n",
       "      <td>202207070067</td>\n",
       "      <td>2022-07-07</td>\n",
       "      <td>Airam Ocab Aziter</td>\n",
       "      <td>Sir arnel and all the staff, Good evening po! ...</td>\n",
       "      <td>staff ofw kuwait years member owwa lockdown 20...</td>\n",
       "      <td>13</td>\n",
       "      <td>37</td>\n",
       "      <td>feminine</td>\n",
       "    </tr>\n",
       "    <tr>\n",
       "      <th>4</th>\n",
       "      <td>202207070068</td>\n",
       "      <td>2022-07-07</td>\n",
       "      <td>Karen May Mendiola</td>\n",
       "      <td>Paano Kong Hindi Naman distress gusto na lng t...</td>\n",
       "      <td>hindi distress gusto 22yrs lebanon active owwa...</td>\n",
       "      <td>12</td>\n",
       "      <td>35</td>\n",
       "      <td>feminine</td>\n",
       "    </tr>\n",
       "    <tr>\n",
       "      <th>...</th>\n",
       "      <td>...</td>\n",
       "      <td>...</td>\n",
       "      <td>...</td>\n",
       "      <td>...</td>\n",
       "      <td>...</td>\n",
       "      <td>...</td>\n",
       "      <td>...</td>\n",
       "      <td>...</td>\n",
       "    </tr>\n",
       "    <tr>\n",
       "      <th>17531</th>\n",
       "      <td>202207211605</td>\n",
       "      <td>2022-07-21</td>\n",
       "      <td>Sarupac Jessa</td>\n",
       "      <td>Magandang araw po saan po pwede lumapit kung m...</td>\n",
       "      <td>araw lumapit repatriation reuest agency oman h...</td>\n",
       "      <td>19</td>\n",
       "      <td>57</td>\n",
       "      <td>unknown</td>\n",
       "    </tr>\n",
       "    <tr>\n",
       "      <th>17532</th>\n",
       "      <td>202207211606</td>\n",
       "      <td>2022-07-21</td>\n",
       "      <td>Sarupac Jessa</td>\n",
       "      <td>Magandang araw po saan po pwede lumapit kung m...</td>\n",
       "      <td>araw lumapit repatriation reuest agency oman h...</td>\n",
       "      <td>21</td>\n",
       "      <td>51</td>\n",
       "      <td>unknown</td>\n",
       "    </tr>\n",
       "    <tr>\n",
       "      <th>17533</th>\n",
       "      <td>202207211607</td>\n",
       "      <td>2022-07-21</td>\n",
       "      <td>Muslimah Balik Islam</td>\n",
       "      <td>From U.A.E pano po mag aply s owwa scholarship</td>\n",
       "      <td>aply owwa scholarship</td>\n",
       "      <td>3</td>\n",
       "      <td>9</td>\n",
       "      <td>feminine</td>\n",
       "    </tr>\n",
       "    <tr>\n",
       "      <th>17534</th>\n",
       "      <td>202207211608</td>\n",
       "      <td>2022-07-21</td>\n",
       "      <td>Lina Gabis</td>\n",
       "      <td>Sir tanong lang nagrenew kasi kami ng mga kasa...</td>\n",
       "      <td>tanong nagrenew kasama polo owwa araw bago pap...</td>\n",
       "      <td>12</td>\n",
       "      <td>27</td>\n",
       "      <td>feminine</td>\n",
       "    </tr>\n",
       "    <tr>\n",
       "      <th>17535</th>\n",
       "      <td>202207211609</td>\n",
       "      <td>2022-07-21</td>\n",
       "      <td>Muslimah Balik Islam</td>\n",
       "      <td>From U.a.e po pano po mag aply sa owwa scholar...</td>\n",
       "      <td>aply owwa scholarship</td>\n",
       "      <td>3</td>\n",
       "      <td>10</td>\n",
       "      <td>feminine</td>\n",
       "    </tr>\n",
       "  </tbody>\n",
       "</table>\n",
       "<p>17536 rows × 8 columns</p>\n",
       "</div>"
      ],
      "text/plain": [
       "         comment_id  date_aired           sender_name  \\\n",
       "0      202207070061  2022-07-07          John Godfrey   \n",
       "1      202207070065  2022-07-07      Agripina Esmajer   \n",
       "2      202207070066  2022-07-07     Merybeth Sumagpao   \n",
       "3      202207070067  2022-07-07     Airam Ocab Aziter   \n",
       "4      202207070068  2022-07-07    Karen May Mendiola   \n",
       "...             ...         ...                   ...   \n",
       "17531  202207211605  2022-07-21         Sarupac Jessa   \n",
       "17532  202207211606  2022-07-21         Sarupac Jessa   \n",
       "17533  202207211607  2022-07-21  Muslimah Balik Islam   \n",
       "17534  202207211608  2022-07-21            Lina Gabis   \n",
       "17535  202207211609  2022-07-21  Muslimah Balik Islam   \n",
       "\n",
       "                                                    text  \\\n",
       "0      Palala lamang po sa mga ofws sa ksa wag mameke...   \n",
       "1      Hi Sir Arnel good evening Po!watching from San...   \n",
       "2      Hello sir and ma'am Sana matulungan nyo nman a...   \n",
       "3      Sir arnel and all the staff, Good evening po! ...   \n",
       "4      Paano Kong Hindi Naman distress gusto na lng t...   \n",
       "...                                                  ...   \n",
       "17531  Magandang araw po saan po pwede lumapit kung m...   \n",
       "17532  Magandang araw po saan po pwede lumapit kung m...   \n",
       "17533     From U.A.E pano po mag aply s owwa scholarship   \n",
       "17534  Sir tanong lang nagrenew kasi kami ng mga kasa...   \n",
       "17535  From U.a.e po pano po mag aply sa owwa scholar...   \n",
       "\n",
       "                                              clean_text  \\\n",
       "0      palala ofws ksa wag mameke dokyumento nahuli n...   \n",
       "1      joaquin iloilo yrs dole akap financial assista...   \n",
       "2      matulungan 14year abroad pandemic hindi balik ...   \n",
       "3      staff ofw kuwait years member owwa lockdown 20...   \n",
       "4      hindi distress gusto 22yrs lebanon active owwa...   \n",
       "...                                                  ...   \n",
       "17531  araw lumapit repatriation reuest agency oman h...   \n",
       "17532  araw lumapit repatriation reuest agency oman h...   \n",
       "17533                              aply owwa scholarship   \n",
       "17534  tanong nagrenew kasama polo owwa araw bago pap...   \n",
       "17535                              aply owwa scholarship   \n",
       "\n",
       "       clean_text_word_count  text_word_count     gender  \n",
       "0                          8               17  masculine  \n",
       "1                          8               22   feminine  \n",
       "2                         12               32   feminine  \n",
       "3                         13               37   feminine  \n",
       "4                         12               35   feminine  \n",
       "...                      ...              ...        ...  \n",
       "17531                     19               57    unknown  \n",
       "17532                     21               51    unknown  \n",
       "17533                      3                9   feminine  \n",
       "17534                     12               27   feminine  \n",
       "17535                      3               10   feminine  \n",
       "\n",
       "[17536 rows x 8 columns]"
      ]
     },
     "execution_count": 20,
     "metadata": {},
     "output_type": "execute_result"
    }
   ],
   "source": [
    "all_df"
   ]
  },
  {
   "cell_type": "code",
   "execution_count": null,
   "id": "df36c2a6",
   "metadata": {
    "ExecuteTime": {
     "end_time": "2022-09-27T17:40:34.521240Z",
     "start_time": "2022-09-27T17:40:34.132687Z"
    }
   },
   "outputs": [],
   "source": [
    "all_df['sender_name'] = all_df['sender_name'].apply(lambda x: cleaner.censor_name(x))\n",
    "all_df['text'] = all_df['text'].apply(lambda x: cleaner.censor_text(x))\n",
    "all_df.to_csv('../output/all_comments.csv', index=False)"
   ]
  },
  {
   "cell_type": "code",
   "execution_count": null,
   "id": "2bc0c17a",
   "metadata": {},
   "outputs": [],
   "source": []
  }
 ],
 "metadata": {
  "kernelspec": {
   "display_name": "Python 3 (ipykernel)",
   "language": "python",
   "name": "python3"
  },
  "language_info": {
   "codemirror_mode": {
    "name": "ipython",
    "version": 3
   },
   "file_extension": ".py",
   "mimetype": "text/x-python",
   "name": "python",
   "nbconvert_exporter": "python",
   "pygments_lexer": "ipython3",
   "version": "3.9.12"
  }
 },
 "nbformat": 4,
 "nbformat_minor": 5
}

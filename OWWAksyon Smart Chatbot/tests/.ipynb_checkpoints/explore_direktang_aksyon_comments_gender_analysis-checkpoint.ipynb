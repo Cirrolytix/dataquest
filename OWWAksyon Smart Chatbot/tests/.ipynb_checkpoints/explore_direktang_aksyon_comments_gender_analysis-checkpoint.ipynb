{
 "cells": [
  {
   "cell_type": "code",
   "execution_count": 1,
   "id": "851cc907",
   "metadata": {
    "ExecuteTime": {
     "end_time": "2022-09-27T13:32:59.345651Z",
     "start_time": "2022-09-27T13:32:59.338613Z"
    }
   },
   "outputs": [],
   "source": [
    "import sys\n",
    "sys.path.append(\"..\")"
   ]
  },
  {
   "cell_type": "code",
   "execution_count": 2,
   "id": "57d621a6",
   "metadata": {
    "ExecuteTime": {
     "end_time": "2022-09-27T13:33:00.526289Z",
     "start_time": "2022-09-27T13:32:59.350743Z"
    },
    "scrolled": true
   },
   "outputs": [],
   "source": [
    "import numpy as np\n",
    "import pandas as pd\n",
    "\n",
    "import matplotlib.pyplot as plt\n",
    "import seaborn as sns\n",
    "\n",
    "from re import sub\n",
    "from pprint import pprint\n",
    "from sklearn.feature_extraction.text import TfidfVectorizer\n",
    "\n",
    "from nltk.corpus import stopwords\n",
    "from nltk import ngrams\n",
    "\n",
    "from src.utils.clean_comments import CommentCleaner\n",
    "import os"
   ]
  },
  {
   "cell_type": "code",
   "execution_count": 3,
   "id": "fa59aca0",
   "metadata": {
    "ExecuteTime": {
     "end_time": "2022-09-27T13:33:00.606383Z",
     "start_time": "2022-09-27T13:33:00.527086Z"
    }
   },
   "outputs": [],
   "source": [
    "file_dir = '../data/comments/'\n",
    "df_list = []\n",
    "for fn in [tf for tf in os.listdir(file_dir) if ('.csv' in tf) & (~tf.endswith('_.csv'))]:\n",
    "    df = pd.read_csv(file_dir+fn)\n",
    "    df['date_aired'] = pd.to_datetime(fn.split('_')[-1].split('.')[0]).strftime('%Y-%m-%d')\n",
    "    df_list.append(df[['date_aired','sender_name','text']])"
   ]
  },
  {
   "cell_type": "code",
   "execution_count": 4,
   "id": "66a4a0f6",
   "metadata": {
    "ExecuteTime": {
     "end_time": "2022-09-27T13:33:00.741247Z",
     "start_time": "2022-09-27T13:33:00.607225Z"
    }
   },
   "outputs": [
    {
     "data": {
      "text/html": [
       "<div>\n",
       "<style scoped>\n",
       "    .dataframe tbody tr th:only-of-type {\n",
       "        vertical-align: middle;\n",
       "    }\n",
       "\n",
       "    .dataframe tbody tr th {\n",
       "        vertical-align: top;\n",
       "    }\n",
       "\n",
       "    .dataframe thead th {\n",
       "        text-align: right;\n",
       "    }\n",
       "</style>\n",
       "<table border=\"1\" class=\"dataframe\">\n",
       "  <thead>\n",
       "    <tr style=\"text-align: right;\">\n",
       "      <th></th>\n",
       "      <th>comment_id</th>\n",
       "      <th>date_aired</th>\n",
       "      <th>sender_name</th>\n",
       "      <th>text</th>\n",
       "    </tr>\n",
       "  </thead>\n",
       "  <tbody>\n",
       "    <tr>\n",
       "      <th>0</th>\n",
       "      <td>202207070061</td>\n",
       "      <td>2022-07-07</td>\n",
       "      <td>John Godfrey</td>\n",
       "      <td>Palala lamang po sa mga ofws sa ksa wag mameke...</td>\n",
       "    </tr>\n",
       "    <tr>\n",
       "      <th>1</th>\n",
       "      <td>202207070062</td>\n",
       "      <td>2022-07-07</td>\n",
       "      <td>Rowena Ascrate</td>\n",
       "      <td>Hello,watching po from uae</td>\n",
       "    </tr>\n",
       "    <tr>\n",
       "      <th>2</th>\n",
       "      <td>202207070063</td>\n",
       "      <td>2022-07-07</td>\n",
       "      <td>Zhai Vhie Gimoro Francisco</td>\n",
       "      <td>Help nyo po aq sir arnel</td>\n",
       "    </tr>\n",
       "    <tr>\n",
       "      <th>3</th>\n",
       "      <td>202207070064</td>\n",
       "      <td>2022-07-07</td>\n",
       "      <td>Cbbc Fort Bonifacio SharjahOutreach</td>\n",
       "      <td>Good evening po Sirs and Mam</td>\n",
       "    </tr>\n",
       "    <tr>\n",
       "      <th>4</th>\n",
       "      <td>202207070065</td>\n",
       "      <td>2022-07-07</td>\n",
       "      <td>Agripina Esmajer</td>\n",
       "      <td>Hi Sir Arnel good evening Po!watching from San...</td>\n",
       "    </tr>\n",
       "    <tr>\n",
       "      <th>...</th>\n",
       "      <td>...</td>\n",
       "      <td>...</td>\n",
       "      <td>...</td>\n",
       "      <td>...</td>\n",
       "    </tr>\n",
       "    <tr>\n",
       "      <th>26214</th>\n",
       "      <td>202207211605</td>\n",
       "      <td>2022-07-21</td>\n",
       "      <td>Sarupac Jessa</td>\n",
       "      <td>Magandang araw po saan po pwede lumapit kung m...</td>\n",
       "    </tr>\n",
       "    <tr>\n",
       "      <th>26215</th>\n",
       "      <td>202207211606</td>\n",
       "      <td>2022-07-21</td>\n",
       "      <td>Sarupac Jessa</td>\n",
       "      <td>Magandang araw po saan po pwede lumapit kung m...</td>\n",
       "    </tr>\n",
       "    <tr>\n",
       "      <th>26216</th>\n",
       "      <td>202207211607</td>\n",
       "      <td>2022-07-21</td>\n",
       "      <td>Muslimah Balik Islam</td>\n",
       "      <td>From U.A.E pano po mag aply s owwa scholarship</td>\n",
       "    </tr>\n",
       "    <tr>\n",
       "      <th>26217</th>\n",
       "      <td>202207211608</td>\n",
       "      <td>2022-07-21</td>\n",
       "      <td>Lina Gabis</td>\n",
       "      <td>Sir tanong lang nagrenew kasi kami ng mga kasa...</td>\n",
       "    </tr>\n",
       "    <tr>\n",
       "      <th>26218</th>\n",
       "      <td>202207211609</td>\n",
       "      <td>2022-07-21</td>\n",
       "      <td>Muslimah Balik Islam</td>\n",
       "      <td>From U.a.e po pano po mag aply sa owwa scholar...</td>\n",
       "    </tr>\n",
       "  </tbody>\n",
       "</table>\n",
       "<p>26219 rows × 4 columns</p>\n",
       "</div>"
      ],
      "text/plain": [
       "         comment_id  date_aired                          sender_name  \\\n",
       "0      202207070061  2022-07-07                         John Godfrey   \n",
       "1      202207070062  2022-07-07                       Rowena Ascrate   \n",
       "2      202207070063  2022-07-07           Zhai Vhie Gimoro Francisco   \n",
       "3      202207070064  2022-07-07  Cbbc Fort Bonifacio SharjahOutreach   \n",
       "4      202207070065  2022-07-07                     Agripina Esmajer   \n",
       "...             ...         ...                                  ...   \n",
       "26214  202207211605  2022-07-21                        Sarupac Jessa   \n",
       "26215  202207211606  2022-07-21                        Sarupac Jessa   \n",
       "26216  202207211607  2022-07-21                 Muslimah Balik Islam   \n",
       "26217  202207211608  2022-07-21                           Lina Gabis   \n",
       "26218  202207211609  2022-07-21                 Muslimah Balik Islam   \n",
       "\n",
       "                                                    text  \n",
       "0      Palala lamang po sa mga ofws sa ksa wag mameke...  \n",
       "1                             Hello,watching po from uae  \n",
       "2                               Help nyo po aq sir arnel  \n",
       "3                           Good evening po Sirs and Mam  \n",
       "4      Hi Sir Arnel good evening Po!watching from San...  \n",
       "...                                                  ...  \n",
       "26214  Magandang araw po saan po pwede lumapit kung m...  \n",
       "26215  Magandang araw po saan po pwede lumapit kung m...  \n",
       "26216     From U.A.E pano po mag aply s owwa scholarship  \n",
       "26217  Sir tanong lang nagrenew kasi kami ng mga kasa...  \n",
       "26218  From U.a.e po pano po mag aply sa owwa scholar...  \n",
       "\n",
       "[26219 rows x 4 columns]"
      ]
     },
     "execution_count": 4,
     "metadata": {},
     "output_type": "execute_result"
    }
   ],
   "source": [
    "all_df = pd.concat(df_list).reset_index().rename(columns={'index':'comment_id'})\n",
    "all_df['comment_id'] = all_df['comment_id']+61\n",
    "all_df['comment_id']= all_df.apply(lambda x: \\\n",
    "                                   x['date_aired'].replace('-','')+str(x['comment_id']).rjust(4, '0'), axis=1)\n",
    "all_df"
   ]
  },
  {
   "cell_type": "code",
   "execution_count": 5,
   "id": "db1de843",
   "metadata": {
    "ExecuteTime": {
     "end_time": "2022-09-27T13:33:00.747465Z",
     "start_time": "2022-09-27T13:33:00.742640Z"
    }
   },
   "outputs": [],
   "source": [
    "# drop null rows\n",
    "all_df = all_df[~all_df['text'].isna()].reset_index(drop=True)"
   ]
  },
  {
   "cell_type": "markdown",
   "id": "5af38b0f",
   "metadata": {},
   "source": [
    "### Clean comments"
   ]
  },
  {
   "cell_type": "code",
   "execution_count": 6,
   "id": "69ab81a2",
   "metadata": {
    "ExecuteTime": {
     "end_time": "2022-09-27T13:33:00.753848Z",
     "start_time": "2022-09-27T13:33:00.748211Z"
    }
   },
   "outputs": [
    {
     "data": {
      "text/plain": [
       "30"
      ]
     },
     "execution_count": 6,
     "metadata": {},
     "output_type": "execute_result"
    }
   ],
   "source": [
    "cleaner = CommentCleaner()\n",
    "len(cleaner.get_padwords())"
   ]
  },
  {
   "cell_type": "code",
   "execution_count": 7,
   "id": "1e696a99",
   "metadata": {
    "ExecuteTime": {
     "end_time": "2022-09-27T13:33:00.758305Z",
     "start_time": "2022-09-27T13:33:00.754571Z"
    }
   },
   "outputs": [
    {
     "name": "stdout",
     "output_type": "stream",
     "text": [
      "pa aksyunan naman po yung dole akap region tapos na po yung pangako nila na first week ng september ano na po next na reason nila\n",
      "aksyunan dole akap region tapos pangako first week september next reason\n"
     ]
    }
   ],
   "source": [
    "test_comment = 'pa aksyunan naman po yung dole akap region tapos na po yung pangako nila na first week ng september ano na po next na reason nila'\n",
    "print(test_comment)\n",
    "print(cleaner.clean_comment(test_comment))"
   ]
  },
  {
   "cell_type": "code",
   "execution_count": 8,
   "id": "0b663031",
   "metadata": {
    "ExecuteTime": {
     "end_time": "2022-09-27T13:33:24.621566Z",
     "start_time": "2022-09-27T13:33:00.759264Z"
    }
   },
   "outputs": [],
   "source": [
    "all_df['clean_text'] = all_df['text'].apply(lambda x: cleaner.clean_comment(x))\n",
    "all_df['clean_text_word_count'] = all_df['clean_text'].apply(lambda x: len(x.split(' ')))"
   ]
  },
  {
   "cell_type": "code",
   "execution_count": 9,
   "id": "00a06cee",
   "metadata": {
    "ExecuteTime": {
     "end_time": "2022-09-27T13:33:24.640859Z",
     "start_time": "2022-09-27T13:33:24.622425Z"
    }
   },
   "outputs": [],
   "source": [
    "all_df['text_word_count'] = all_df['text'].apply(lambda x: len(x.split(' ')))"
   ]
  },
  {
   "cell_type": "code",
   "execution_count": 10,
   "id": "4ed606bf",
   "metadata": {
    "ExecuteTime": {
     "end_time": "2022-09-27T13:33:24.648273Z",
     "start_time": "2022-09-27T13:33:24.641738Z"
    }
   },
   "outputs": [
    {
     "data": {
      "text/html": [
       "<div>\n",
       "<style scoped>\n",
       "    .dataframe tbody tr th:only-of-type {\n",
       "        vertical-align: middle;\n",
       "    }\n",
       "\n",
       "    .dataframe tbody tr th {\n",
       "        vertical-align: top;\n",
       "    }\n",
       "\n",
       "    .dataframe thead th {\n",
       "        text-align: right;\n",
       "    }\n",
       "</style>\n",
       "<table border=\"1\" class=\"dataframe\">\n",
       "  <thead>\n",
       "    <tr style=\"text-align: right;\">\n",
       "      <th></th>\n",
       "      <th>text</th>\n",
       "      <th>clean_text</th>\n",
       "    </tr>\n",
       "  </thead>\n",
       "  <tbody>\n",
       "    <tr>\n",
       "      <th>700</th>\n",
       "      <td>Sana manoticed ung comment qpo</td>\n",
       "      <td>manoticed comment</td>\n",
       "    </tr>\n",
       "    <tr>\n",
       "      <th>701</th>\n",
       "      <td>Kuwait sir sana makasali ng anak ko sa Scholar...</td>\n",
       "      <td>kuwait anak scholar nme john mark antony pajente</td>\n",
       "    </tr>\n",
       "    <tr>\n",
       "      <th>702</th>\n",
       "      <td>Dinaman Na susunod Yan 600 dollar\\nsahod oooyyy.</td>\n",
       "      <td>dinaman susunod 600 dollar sahod oooyyy</td>\n",
       "    </tr>\n",
       "    <tr>\n",
       "      <th>703</th>\n",
       "      <td>Sir di ba maalis ang OEC dito sa UAE?pahirap p...</td>\n",
       "      <td>maalis oec uae pahirap samin sobra proseso</td>\n",
       "    </tr>\n",
       "    <tr>\n",
       "      <th>704</th>\n",
       "      <td>Sir paano po ma claim ang rebates nasa mindana...</td>\n",
       "      <td>claim rebates mindanao</td>\n",
       "    </tr>\n",
       "    <tr>\n",
       "      <th>705</th>\n",
       "      <td>Bagal ng bigay ng owwa balik pinas kainis dami...</td>\n",
       "      <td>bagal bigay owwa balik pinas kainis requirment</td>\n",
       "    </tr>\n",
       "    <tr>\n",
       "      <th>706</th>\n",
       "      <td>Nku nag punta si sir arnel dto sa oman hanggan...</td>\n",
       "      <td>punta oman muscat wala</td>\n",
       "    </tr>\n",
       "    <tr>\n",
       "      <th>707</th>\n",
       "      <td>Nag filr nko nang balik pinas pangkabuhayan te...</td>\n",
       "      <td>filr nko balik pinas pangkabuhayan tel wala</td>\n",
       "    </tr>\n",
       "    <tr>\n",
       "      <th>708</th>\n",
       "      <td>Hello sir arnel good bless po</td>\n",
       "      <td></td>\n",
       "    </tr>\n",
       "    <tr>\n",
       "      <th>709</th>\n",
       "      <td>Sir arnel paano po kami maka alis s amo namin po</td>\n",
       "      <td>alis amo</td>\n",
       "    </tr>\n",
       "    <tr>\n",
       "      <th>710</th>\n",
       "      <td>Sir sana poaaksyunan n po ung dole akap assist...</td>\n",
       "      <td>poaaksyunan dole akap assistance region 1year ...</td>\n",
       "    </tr>\n",
       "    <tr>\n",
       "      <th>711</th>\n",
       "      <td>Hibsir from hongkong</td>\n",
       "      <td>hongkong</td>\n",
       "    </tr>\n",
       "    <tr>\n",
       "      <th>712</th>\n",
       "      <td>Finish contract po ako 6 yrs balik</td>\n",
       "      <td>finish contract yrs balik</td>\n",
       "    </tr>\n",
       "    <tr>\n",
       "      <th>713</th>\n",
       "      <td>Balik pinas pangkinabuhayan...ano na january p...</td>\n",
       "      <td>balik pinas pangkinabuhayan january aply repat...</td>\n",
       "    </tr>\n",
       "    <tr>\n",
       "      <th>714</th>\n",
       "      <td>Sir arnel may assistance po ba na mkukuha ang ...</td>\n",
       "      <td>assistance mkukuha ofw owwa region cagayan valley</td>\n",
       "    </tr>\n",
       "    <tr>\n",
       "      <th>715</th>\n",
       "      <td>Good evening po s lahat..</td>\n",
       "      <td></td>\n",
       "    </tr>\n",
       "    <tr>\n",
       "      <th>716</th>\n",
       "      <td>Sir ako po nakakuha po ng balik pinas hanap bu...</td>\n",
       "      <td>nakakuha balik pinas hanap buhay filing anak s...</td>\n",
       "    </tr>\n",
       "    <tr>\n",
       "      <th>717</th>\n",
       "      <td>Sir mam magandang gabi poh sir arnel patulong ...</td>\n",
       "      <td>patulong asawa saudi nio awa nio nah</td>\n",
       "    </tr>\n",
       "    <tr>\n",
       "      <th>718</th>\n",
       "      <td>Mg 2nd yr college napo sya ds Open</td>\n",
       "      <td>2nd college open</td>\n",
       "    </tr>\n",
       "    <tr>\n",
       "      <th>719</th>\n",
       "      <td>Salamat sa pais scholar para sa anak ko</td>\n",
       "      <td>pais scholar anak</td>\n",
       "    </tr>\n",
       "    <tr>\n",
       "      <th>720</th>\n",
       "      <td>Sir sana wala nlang yang OEc pahirap talaga</td>\n",
       "      <td>wala oec pahirap</td>\n",
       "    </tr>\n",
       "    <tr>\n",
       "      <th>721</th>\n",
       "      <td>may 10k na po ba kami? august last year pa po ...</td>\n",
       "      <td>10k august last year umuwi</td>\n",
       "    </tr>\n",
       "    <tr>\n",
       "      <th>722</th>\n",
       "      <td>Sir pag hnd bako napaalis ng agency paponta ta...</td>\n",
       "      <td>hnd bako napaalis agency paponta taiwan tapus ...</td>\n",
       "    </tr>\n",
       "    <tr>\n",
       "      <th>723</th>\n",
       "      <td>TANONG KO LQNG MGA SIR PWEDE NABA MAGTUNGO SA ...</td>\n",
       "      <td>tanong lqng naba magtungo ofw hospital pamilya...</td>\n",
       "    </tr>\n",
       "    <tr>\n",
       "      <th>724</th>\n",
       "      <td>Hello Sir Arnel pwede Po ba kau maka usap pers...</td>\n",
       "      <td>usap personal thru phone</td>\n",
       "    </tr>\n",
       "    <tr>\n",
       "      <th>725</th>\n",
       "      <td>Good evening sir arnel</td>\n",
       "      <td></td>\n",
       "    </tr>\n",
       "    <tr>\n",
       "      <th>726</th>\n",
       "      <td>How to apply for scholarships?</td>\n",
       "      <td>apply scholarships</td>\n",
       "    </tr>\n",
       "    <tr>\n",
       "      <th>727</th>\n",
       "      <td>Proud owwa member for 13 yrs active member OFW...</td>\n",
       "      <td>proud owwa member yrs active member ofw riyadh...</td>\n",
       "    </tr>\n",
       "    <tr>\n",
       "      <th>728</th>\n",
       "      <td>Watching here in kuwait</td>\n",
       "      <td>kuwait</td>\n",
       "    </tr>\n",
       "    <tr>\n",
       "      <th>729</th>\n",
       "      <td>Me makukuha po ba yung mga kadama na nakatapos...</td>\n",
       "      <td>makukuha nakatapos kontrata</td>\n",
       "    </tr>\n",
       "    <tr>\n",
       "      <th>730</th>\n",
       "      <td>Nanay ko po ofw member din po ng owwa scholars...</td>\n",
       "      <td>nanay ofw member owwa scholarship apply schola...</td>\n",
       "    </tr>\n",
       "    <tr>\n",
       "      <th>731</th>\n",
       "      <td>Sir kyln po repatriation nyo sa kuwait</td>\n",
       "      <td>kyln repatriation kuwait</td>\n",
       "    </tr>\n",
       "    <tr>\n",
       "      <th>732</th>\n",
       "      <td>Balik pinas kabuhayan january payon tel naw wa...</td>\n",
       "      <td>balik pinas kabuhayan january payon tel naw wa...</td>\n",
       "    </tr>\n",
       "    <tr>\n",
       "      <th>733</th>\n",
       "      <td>Dapat lahat mabasa ninyo lahat ng nag masage dto</td>\n",
       "      <td>mabasa ninyo masage</td>\n",
       "    </tr>\n",
       "    <tr>\n",
       "      <th>734</th>\n",
       "      <td>Tanong ko lang po about sa dole - akap.. appro...</td>\n",
       "      <td>tanong dole akap approve namn application bat ...</td>\n",
       "    </tr>\n",
       "    <tr>\n",
       "      <th>735</th>\n",
       "      <td>E xit po ako 7years myron ba ako makuha</td>\n",
       "      <td>xit 7years myron makuha</td>\n",
       "    </tr>\n",
       "    <tr>\n",
       "      <th>736</th>\n",
       "      <td>Tulongan nyo po sana kami kahit peach pinpqbay...</td>\n",
       "      <td>tulongan peach pinpqbayad kiwi</td>\n",
       "    </tr>\n",
       "    <tr>\n",
       "      <th>737</th>\n",
       "      <td>Sir Arnel, paki explain po yung about sa manda...</td>\n",
       "      <td>explain mandatory insurance oec</td>\n",
       "    </tr>\n",
       "    <tr>\n",
       "      <th>738</th>\n",
       "      <td>Good evening mam and sir</td>\n",
       "      <td></td>\n",
       "    </tr>\n",
       "    <tr>\n",
       "      <th>739</th>\n",
       "      <td>yung agency po hinold po yung passport ko, nee...</td>\n",
       "      <td>agency hinold passport need palit tao hindi ka...</td>\n",
       "    </tr>\n",
       "    <tr>\n",
       "      <th>740</th>\n",
       "      <td>Sir arnel may tanong lang po. Anong mga basiha...</td>\n",
       "      <td>tanong basihan bigyan umuuwi pinas 10k nabigya...</td>\n",
       "    </tr>\n",
       "    <tr>\n",
       "      <th>741</th>\n",
       "      <td>Tangalin sana yung commission base ng agent</td>\n",
       "      <td>commission base agent</td>\n",
       "    </tr>\n",
       "    <tr>\n",
       "      <th>742</th>\n",
       "      <td>Sir magkano na aang sahod ng new hired papunta...</td>\n",
       "      <td>aang sahod new hired papuntang middle east</td>\n",
       "    </tr>\n",
       "    <tr>\n",
       "      <th>743</th>\n",
       "      <td>Hi po sir arnel ignacio watching from fujairah...</td>\n",
       "      <td>fujairah shout asingan pangasinan</td>\n",
       "    </tr>\n",
       "    <tr>\n",
       "      <th>744</th>\n",
       "      <td>Sir ngfile po q nung ng exit ako may mkukuha p...</td>\n",
       "      <td>ngfile exit mkukuha ngbibigay owwa everytime a...</td>\n",
       "    </tr>\n",
       "    <tr>\n",
       "      <th>745</th>\n",
       "      <td>Case need for help.</td>\n",
       "      <td>case need</td>\n",
       "    </tr>\n",
       "    <tr>\n",
       "      <th>746</th>\n",
       "      <td>kelan po may 3rd tranche para sa ofw yung sa e...</td>\n",
       "      <td>kelan 3rd tranche ofw educational</td>\n",
       "    </tr>\n",
       "    <tr>\n",
       "      <th>747</th>\n",
       "      <td>Sir /madam. Pwede ipatanggal nalang Yong OEC N...</td>\n",
       "      <td>oec</td>\n",
       "    </tr>\n",
       "    <tr>\n",
       "      <th>748</th>\n",
       "      <td>Pag exit ba myron ba akong.makuha sa.owwa</td>\n",
       "      <td>exit myron makuha owwa</td>\n",
       "    </tr>\n",
       "    <tr>\n",
       "      <th>749</th>\n",
       "      <td>Hello po open na po ba papunta sa saudia Arabia?</td>\n",
       "      <td>open papunta saudia arabia</td>\n",
       "    </tr>\n",
       "  </tbody>\n",
       "</table>\n",
       "</div>"
      ],
      "text/plain": [
       "                                                  text  \\\n",
       "700                     Sana manoticed ung comment qpo   \n",
       "701  Kuwait sir sana makasali ng anak ko sa Scholar...   \n",
       "702   Dinaman Na susunod Yan 600 dollar\\nsahod oooyyy.   \n",
       "703  Sir di ba maalis ang OEC dito sa UAE?pahirap p...   \n",
       "704  Sir paano po ma claim ang rebates nasa mindana...   \n",
       "705  Bagal ng bigay ng owwa balik pinas kainis dami...   \n",
       "706  Nku nag punta si sir arnel dto sa oman hanggan...   \n",
       "707  Nag filr nko nang balik pinas pangkabuhayan te...   \n",
       "708                      Hello sir arnel good bless po   \n",
       "709   Sir arnel paano po kami maka alis s amo namin po   \n",
       "710  Sir sana poaaksyunan n po ung dole akap assist...   \n",
       "711                               Hibsir from hongkong   \n",
       "712                 Finish contract po ako 6 yrs balik   \n",
       "713  Balik pinas pangkinabuhayan...ano na january p...   \n",
       "714  Sir arnel may assistance po ba na mkukuha ang ...   \n",
       "715                          Good evening po s lahat..   \n",
       "716  Sir ako po nakakuha po ng balik pinas hanap bu...   \n",
       "717  Sir mam magandang gabi poh sir arnel patulong ...   \n",
       "718                 Mg 2nd yr college napo sya ds Open   \n",
       "719            Salamat sa pais scholar para sa anak ko   \n",
       "720        Sir sana wala nlang yang OEc pahirap talaga   \n",
       "721  may 10k na po ba kami? august last year pa po ...   \n",
       "722  Sir pag hnd bako napaalis ng agency paponta ta...   \n",
       "723  TANONG KO LQNG MGA SIR PWEDE NABA MAGTUNGO SA ...   \n",
       "724  Hello Sir Arnel pwede Po ba kau maka usap pers...   \n",
       "725                             Good evening sir arnel   \n",
       "726                     How to apply for scholarships?   \n",
       "727  Proud owwa member for 13 yrs active member OFW...   \n",
       "728                            Watching here in kuwait   \n",
       "729  Me makukuha po ba yung mga kadama na nakatapos...   \n",
       "730  Nanay ko po ofw member din po ng owwa scholars...   \n",
       "731             Sir kyln po repatriation nyo sa kuwait   \n",
       "732  Balik pinas kabuhayan january payon tel naw wa...   \n",
       "733   Dapat lahat mabasa ninyo lahat ng nag masage dto   \n",
       "734  Tanong ko lang po about sa dole - akap.. appro...   \n",
       "735            E xit po ako 7years myron ba ako makuha   \n",
       "736  Tulongan nyo po sana kami kahit peach pinpqbay...   \n",
       "737  Sir Arnel, paki explain po yung about sa manda...   \n",
       "738                           Good evening mam and sir   \n",
       "739  yung agency po hinold po yung passport ko, nee...   \n",
       "740  Sir arnel may tanong lang po. Anong mga basiha...   \n",
       "741        Tangalin sana yung commission base ng agent   \n",
       "742  Sir magkano na aang sahod ng new hired papunta...   \n",
       "743  Hi po sir arnel ignacio watching from fujairah...   \n",
       "744  Sir ngfile po q nung ng exit ako may mkukuha p...   \n",
       "745                                Case need for help.   \n",
       "746  kelan po may 3rd tranche para sa ofw yung sa e...   \n",
       "747  Sir /madam. Pwede ipatanggal nalang Yong OEC N...   \n",
       "748          Pag exit ba myron ba akong.makuha sa.owwa   \n",
       "749   Hello po open na po ba papunta sa saudia Arabia?   \n",
       "\n",
       "                                            clean_text  \n",
       "700                                  manoticed comment  \n",
       "701   kuwait anak scholar nme john mark antony pajente  \n",
       "702            dinaman susunod 600 dollar sahod oooyyy  \n",
       "703         maalis oec uae pahirap samin sobra proseso  \n",
       "704                             claim rebates mindanao  \n",
       "705     bagal bigay owwa balik pinas kainis requirment  \n",
       "706                             punta oman muscat wala  \n",
       "707        filr nko balik pinas pangkabuhayan tel wala  \n",
       "708                                                     \n",
       "709                                           alis amo  \n",
       "710  poaaksyunan dole akap assistance region 1year ...  \n",
       "711                                           hongkong  \n",
       "712                          finish contract yrs balik  \n",
       "713  balik pinas pangkinabuhayan january aply repat...  \n",
       "714  assistance mkukuha ofw owwa region cagayan valley  \n",
       "715                                                     \n",
       "716  nakakuha balik pinas hanap buhay filing anak s...  \n",
       "717               patulong asawa saudi nio awa nio nah  \n",
       "718                                   2nd college open  \n",
       "719                                  pais scholar anak  \n",
       "720                                   wala oec pahirap  \n",
       "721                         10k august last year umuwi  \n",
       "722  hnd bako napaalis agency paponta taiwan tapus ...  \n",
       "723  tanong lqng naba magtungo ofw hospital pamilya...  \n",
       "724                           usap personal thru phone  \n",
       "725                                                     \n",
       "726                                 apply scholarships  \n",
       "727  proud owwa member yrs active member ofw riyadh...  \n",
       "728                                             kuwait  \n",
       "729                        makukuha nakatapos kontrata  \n",
       "730  nanay ofw member owwa scholarship apply schola...  \n",
       "731                           kyln repatriation kuwait  \n",
       "732  balik pinas kabuhayan january payon tel naw wa...  \n",
       "733                                mabasa ninyo masage  \n",
       "734  tanong dole akap approve namn application bat ...  \n",
       "735                            xit 7years myron makuha  \n",
       "736                     tulongan peach pinpqbayad kiwi  \n",
       "737                    explain mandatory insurance oec  \n",
       "738                                                     \n",
       "739  agency hinold passport need palit tao hindi ka...  \n",
       "740  tanong basihan bigyan umuuwi pinas 10k nabigya...  \n",
       "741                              commission base agent  \n",
       "742         aang sahod new hired papuntang middle east  \n",
       "743                  fujairah shout asingan pangasinan  \n",
       "744  ngfile exit mkukuha ngbibigay owwa everytime a...  \n",
       "745                                          case need  \n",
       "746                  kelan 3rd tranche ofw educational  \n",
       "747                                                oec  \n",
       "748                             exit myron makuha owwa  \n",
       "749                         open papunta saudia arabia  "
      ]
     },
     "execution_count": 10,
     "metadata": {},
     "output_type": "execute_result"
    }
   ],
   "source": [
    "all_df[['text','clean_text']].iloc[700:750]"
   ]
  },
  {
   "cell_type": "code",
   "execution_count": 11,
   "id": "c756ac32",
   "metadata": {
    "ExecuteTime": {
     "end_time": "2022-09-27T13:33:24.662050Z",
     "start_time": "2022-09-27T13:33:24.649103Z"
    }
   },
   "outputs": [
    {
     "data": {
      "text/plain": [
       "array(['Sir ano ba po ang requirements pag apply ng scholarship sir mag 13yrs na ako dto sa amo ko sir dto po ako sa Bahrain nagtrabaho household',\n",
       "       'requirements apply scholarship 13yrs amo bahrain nagtrabaho household'],\n",
       "      dtype=object)"
      ]
     },
     "execution_count": 11,
     "metadata": {},
     "output_type": "execute_result"
    }
   ],
   "source": [
    "all_df[all_df['text'].str.contains('amo')][['text','clean_text']].iloc[0].values"
   ]
  },
  {
   "cell_type": "code",
   "execution_count": 12,
   "id": "45ceeb9f",
   "metadata": {
    "ExecuteTime": {
     "end_time": "2022-09-27T13:33:24.664698Z",
     "start_time": "2022-09-27T13:33:24.663025Z"
    }
   },
   "outputs": [],
   "source": [
    "# tl_stopwords = pd.read_csv('../data/tl_stopwords.csv', header=None)\n",
    "# tl_stopwords['n'] = tl_stopwords[0].apply(len)\n",
    "# tl_stopwords.sort_values(by='n')\n",
    "#tl_stopwords[0].to_csv('../data/tl_stopwords_.csv', index=False)"
   ]
  },
  {
   "cell_type": "code",
   "execution_count": 13,
   "id": "2949e5e7",
   "metadata": {
    "ExecuteTime": {
     "end_time": "2022-09-27T13:33:24.668663Z",
     "start_time": "2022-09-27T13:33:24.665603Z"
    }
   },
   "outputs": [
    {
     "data": {
      "text/plain": [
       "7093"
      ]
     },
     "execution_count": 13,
     "metadata": {},
     "output_type": "execute_result"
    }
   ],
   "source": [
    "len(all_df[all_df['text_word_count']<=5])"
   ]
  },
  {
   "cell_type": "code",
   "execution_count": 14,
   "id": "fcde7bb8",
   "metadata": {
    "ExecuteTime": {
     "end_time": "2022-09-27T13:33:24.677000Z",
     "start_time": "2022-09-27T13:33:24.671129Z"
    }
   },
   "outputs": [
    {
     "data": {
      "text/html": [
       "<div>\n",
       "<style scoped>\n",
       "    .dataframe tbody tr th:only-of-type {\n",
       "        vertical-align: middle;\n",
       "    }\n",
       "\n",
       "    .dataframe tbody tr th {\n",
       "        vertical-align: top;\n",
       "    }\n",
       "\n",
       "    .dataframe thead th {\n",
       "        text-align: right;\n",
       "    }\n",
       "</style>\n",
       "<table border=\"1\" class=\"dataframe\">\n",
       "  <thead>\n",
       "    <tr style=\"text-align: right;\">\n",
       "      <th></th>\n",
       "      <th>comment_id</th>\n",
       "      <th>date_aired</th>\n",
       "      <th>sender_name</th>\n",
       "      <th>text</th>\n",
       "      <th>clean_text</th>\n",
       "      <th>clean_text_word_count</th>\n",
       "      <th>text_word_count</th>\n",
       "    </tr>\n",
       "  </thead>\n",
       "  <tbody>\n",
       "    <tr>\n",
       "      <th>1</th>\n",
       "      <td>202207070062</td>\n",
       "      <td>2022-07-07</td>\n",
       "      <td>Rowena Ascrate</td>\n",
       "      <td>Hello,watching po from uae</td>\n",
       "      <td>uae</td>\n",
       "      <td>1</td>\n",
       "      <td>4</td>\n",
       "    </tr>\n",
       "    <tr>\n",
       "      <th>15</th>\n",
       "      <td>202207070076</td>\n",
       "      <td>2022-07-07</td>\n",
       "      <td>Rechelle Nadao</td>\n",
       "      <td>Watching from saudi riyadh po</td>\n",
       "      <td>saudi riyadh</td>\n",
       "      <td>2</td>\n",
       "      <td>5</td>\n",
       "    </tr>\n",
       "    <tr>\n",
       "      <th>16</th>\n",
       "      <td>202207070077</td>\n",
       "      <td>2022-07-07</td>\n",
       "      <td>Gen Evieve</td>\n",
       "      <td>Watching from Kuwait po</td>\n",
       "      <td>kuwait</td>\n",
       "      <td>1</td>\n",
       "      <td>4</td>\n",
       "    </tr>\n",
       "    <tr>\n",
       "      <th>17</th>\n",
       "      <td>202207070078</td>\n",
       "      <td>2022-07-07</td>\n",
       "      <td>Alda P. Pecate</td>\n",
       "      <td>Hello po watching from Bahrain</td>\n",
       "      <td>bahrain</td>\n",
       "      <td>1</td>\n",
       "      <td>5</td>\n",
       "    </tr>\n",
       "    <tr>\n",
       "      <th>22</th>\n",
       "      <td>202207070083</td>\n",
       "      <td>2022-07-07</td>\n",
       "      <td>Wilma Olayres</td>\n",
       "      <td>God bless everyone po</td>\n",
       "      <td>everyone</td>\n",
       "      <td>1</td>\n",
       "      <td>4</td>\n",
       "    </tr>\n",
       "    <tr>\n",
       "      <th>...</th>\n",
       "      <td>...</td>\n",
       "      <td>...</td>\n",
       "      <td>...</td>\n",
       "      <td>...</td>\n",
       "      <td>...</td>\n",
       "      <td>...</td>\n",
       "      <td>...</td>\n",
       "    </tr>\n",
       "    <tr>\n",
       "      <th>26112</th>\n",
       "      <td>202207211597</td>\n",
       "      <td>2022-07-21</td>\n",
       "      <td>Waka Waka Leizel</td>\n",
       "      <td>Waching from the promised land</td>\n",
       "      <td>promised land</td>\n",
       "      <td>2</td>\n",
       "      <td>5</td>\n",
       "    </tr>\n",
       "    <tr>\n",
       "      <th>26113</th>\n",
       "      <td>202207211598</td>\n",
       "      <td>2022-07-21</td>\n",
       "      <td>Waka Waka Leizel</td>\n",
       "      <td>Watchinh from the promised land</td>\n",
       "      <td>promised land</td>\n",
       "      <td>2</td>\n",
       "      <td>5</td>\n",
       "    </tr>\n",
       "    <tr>\n",
       "      <th>26114</th>\n",
       "      <td>202207211599</td>\n",
       "      <td>2022-07-21</td>\n",
       "      <td>Ann Lerin</td>\n",
       "      <td>Anna bella lerin</td>\n",
       "      <td>anna bella lerin</td>\n",
       "      <td>3</td>\n",
       "      <td>3</td>\n",
       "    </tr>\n",
       "    <tr>\n",
       "      <th>26115</th>\n",
       "      <td>202207211600</td>\n",
       "      <td>2022-07-21</td>\n",
       "      <td>Jarred Vidal De Guzman</td>\n",
       "      <td>OWWA Membership Question.</td>\n",
       "      <td>owwa membership question</td>\n",
       "      <td>3</td>\n",
       "      <td>3</td>\n",
       "    </tr>\n",
       "    <tr>\n",
       "      <th>26116</th>\n",
       "      <td>202207211601</td>\n",
       "      <td>2022-07-21</td>\n",
       "      <td>Marites Intia Romantique</td>\n",
       "      <td>Watching from macao</td>\n",
       "      <td></td>\n",
       "      <td>1</td>\n",
       "      <td>3</td>\n",
       "    </tr>\n",
       "  </tbody>\n",
       "</table>\n",
       "<p>7093 rows × 7 columns</p>\n",
       "</div>"
      ],
      "text/plain": [
       "         comment_id  date_aired               sender_name  \\\n",
       "1      202207070062  2022-07-07            Rowena Ascrate   \n",
       "15     202207070076  2022-07-07            Rechelle Nadao   \n",
       "16     202207070077  2022-07-07                Gen Evieve   \n",
       "17     202207070078  2022-07-07            Alda P. Pecate   \n",
       "22     202207070083  2022-07-07             Wilma Olayres   \n",
       "...             ...         ...                       ...   \n",
       "26112  202207211597  2022-07-21          Waka Waka Leizel   \n",
       "26113  202207211598  2022-07-21          Waka Waka Leizel   \n",
       "26114  202207211599  2022-07-21                 Ann Lerin   \n",
       "26115  202207211600  2022-07-21    Jarred Vidal De Guzman   \n",
       "26116  202207211601  2022-07-21  Marites Intia Romantique   \n",
       "\n",
       "                                  text                clean_text  \\\n",
       "1           Hello,watching po from uae                       uae   \n",
       "15       Watching from saudi riyadh po              saudi riyadh   \n",
       "16             Watching from Kuwait po                    kuwait   \n",
       "17      Hello po watching from Bahrain                   bahrain   \n",
       "22               God bless everyone po                  everyone   \n",
       "...                                ...                       ...   \n",
       "26112   Waching from the promised land             promised land   \n",
       "26113  Watchinh from the promised land             promised land   \n",
       "26114                 Anna bella lerin          anna bella lerin   \n",
       "26115        OWWA Membership Question.  owwa membership question   \n",
       "26116              Watching from macao                             \n",
       "\n",
       "       clean_text_word_count  text_word_count  \n",
       "1                          1                4  \n",
       "15                         2                5  \n",
       "16                         1                4  \n",
       "17                         1                5  \n",
       "22                         1                4  \n",
       "...                      ...              ...  \n",
       "26112                      2                5  \n",
       "26113                      2                5  \n",
       "26114                      3                3  \n",
       "26115                      3                3  \n",
       "26116                      1                3  \n",
       "\n",
       "[7093 rows x 7 columns]"
      ]
     },
     "execution_count": 14,
     "metadata": {},
     "output_type": "execute_result"
    }
   ],
   "source": [
    "all_df[all_df['text_word_count']<=5]"
   ]
  },
  {
   "cell_type": "code",
   "execution_count": 15,
   "id": "0e53f55f",
   "metadata": {
    "ExecuteTime": {
     "end_time": "2022-09-27T13:33:24.679352Z",
     "start_time": "2022-09-27T13:33:24.677953Z"
    }
   },
   "outputs": [],
   "source": [
    "# text = 'Watching from saudi riyadh po'\n",
    "# text = cleaner.sanitize_text(text)\n",
    "# text = cleaner.remove_stopwords(text)\n",
    "# text = cleaner.remove_padwords(text)\n",
    "# text"
   ]
  },
  {
   "cell_type": "code",
   "execution_count": 16,
   "id": "18ad8c9f",
   "metadata": {
    "ExecuteTime": {
     "end_time": "2022-09-27T13:33:24.681443Z",
     "start_time": "2022-09-27T13:33:24.680010Z"
    }
   },
   "outputs": [],
   "source": [
    "#cleaner.remove_padwords(\"ma'am patulong po\")"
   ]
  },
  {
   "cell_type": "code",
   "execution_count": 17,
   "id": "c5e57165",
   "metadata": {
    "ExecuteTime": {
     "end_time": "2022-09-27T13:33:24.684745Z",
     "start_time": "2022-09-27T13:33:24.682623Z"
    }
   },
   "outputs": [
    {
     "data": {
      "text/plain": [
       "100"
      ]
     },
     "execution_count": 17,
     "metadata": {},
     "output_type": "execute_result"
    }
   ],
   "source": [
    "cleaner.compute_fuzz_score(\"thank\",\"thank\")"
   ]
  },
  {
   "cell_type": "code",
   "execution_count": 18,
   "id": "fbfdccd7",
   "metadata": {
    "ExecuteTime": {
     "end_time": "2022-09-27T13:33:24.688417Z",
     "start_time": "2022-09-27T13:33:24.686009Z"
    }
   },
   "outputs": [
    {
     "name": "stdout",
     "output_type": "stream",
     "text": [
      "thank you sir maam god bless\n",
      "\n"
     ]
    }
   ],
   "source": [
    "test_comment = \"Thank you po SIr/Maam. God bless po.\"#\"Hello po sis arnel watching rome italy\"\n",
    "print(cleaner.sanitize_text(test_comment))\n",
    "print(cleaner.clean_comment(test_comment))"
   ]
  },
  {
   "cell_type": "code",
   "execution_count": 19,
   "id": "3319b4c5",
   "metadata": {
    "ExecuteTime": {
     "end_time": "2022-09-27T13:33:24.691430Z",
     "start_time": "2022-09-27T13:33:24.689488Z"
    }
   },
   "outputs": [
    {
     "data": {
      "text/plain": [
       "26125"
      ]
     },
     "execution_count": 19,
     "metadata": {},
     "output_type": "execute_result"
    }
   ],
   "source": [
    "len(all_df)"
   ]
  },
  {
   "cell_type": "code",
   "execution_count": 20,
   "id": "59988d9f",
   "metadata": {
    "ExecuteTime": {
     "end_time": "2022-09-27T13:33:24.696516Z",
     "start_time": "2022-09-27T13:33:24.692398Z"
    }
   },
   "outputs": [
    {
     "data": {
      "text/plain": [
       "19032"
      ]
     },
     "execution_count": 20,
     "metadata": {},
     "output_type": "execute_result"
    }
   ],
   "source": [
    "# remove comments fewer than 6 words\n",
    "all_df = all_df[all_df['text_word_count'] >= 6].reset_index(drop=True)\n",
    "len(all_df)"
   ]
  },
  {
   "cell_type": "code",
   "execution_count": 21,
   "id": "6de1e528",
   "metadata": {
    "ExecuteTime": {
     "end_time": "2022-09-27T13:33:24.701924Z",
     "start_time": "2022-09-27T13:33:24.697398Z"
    }
   },
   "outputs": [
    {
     "data": {
      "text/plain": [
       "17576"
      ]
     },
     "execution_count": 21,
     "metadata": {},
     "output_type": "execute_result"
    }
   ],
   "source": [
    "# remove comments empty text after cleaning\n",
    "all_df = all_df[all_df['clean_text_word_count'] >= 2].reset_index(drop=True)\n",
    "len(all_df)"
   ]
  },
  {
   "cell_type": "code",
   "execution_count": 22,
   "id": "cea62523",
   "metadata": {
    "ExecuteTime": {
     "end_time": "2022-09-27T13:33:24.708449Z",
     "start_time": "2022-09-27T13:33:24.702738Z"
    }
   },
   "outputs": [
    {
     "data": {
      "text/html": [
       "<div>\n",
       "<style scoped>\n",
       "    .dataframe tbody tr th:only-of-type {\n",
       "        vertical-align: middle;\n",
       "    }\n",
       "\n",
       "    .dataframe tbody tr th {\n",
       "        vertical-align: top;\n",
       "    }\n",
       "\n",
       "    .dataframe thead th {\n",
       "        text-align: right;\n",
       "    }\n",
       "</style>\n",
       "<table border=\"1\" class=\"dataframe\">\n",
       "  <thead>\n",
       "    <tr style=\"text-align: right;\">\n",
       "      <th></th>\n",
       "      <th>comment_id</th>\n",
       "      <th>date_aired</th>\n",
       "      <th>sender_name</th>\n",
       "      <th>text</th>\n",
       "      <th>clean_text</th>\n",
       "      <th>clean_text_word_count</th>\n",
       "      <th>text_word_count</th>\n",
       "    </tr>\n",
       "  </thead>\n",
       "  <tbody>\n",
       "    <tr>\n",
       "      <th>5</th>\n",
       "      <td>202207070069</td>\n",
       "      <td>2022-07-07</td>\n",
       "      <td>Nene Ike</td>\n",
       "      <td>Hello po watching from Cyprus Europe God bless...</td>\n",
       "      <td>cyprus europe</td>\n",
       "      <td>2</td>\n",
       "      <td>12</td>\n",
       "    </tr>\n",
       "    <tr>\n",
       "      <th>8</th>\n",
       "      <td>202207070080</td>\n",
       "      <td>2022-07-07</td>\n",
       "      <td>Arabella Constantino</td>\n",
       "      <td>Hi po sir arnel ignacio..watching from Riyadh ...</td>\n",
       "      <td>riyadh saudi</td>\n",
       "      <td>2</td>\n",
       "      <td>8</td>\n",
       "    </tr>\n",
       "    <tr>\n",
       "      <th>9</th>\n",
       "      <td>202207070081</td>\n",
       "      <td>2022-07-07</td>\n",
       "      <td>Rinbel Vale</td>\n",
       "      <td>Good evening po sir arnell, I'm watching from ...</td>\n",
       "      <td>riyadh saudi</td>\n",
       "      <td>2</td>\n",
       "      <td>10</td>\n",
       "    </tr>\n",
       "    <tr>\n",
       "      <th>14</th>\n",
       "      <td>202207070087</td>\n",
       "      <td>2022-07-07</td>\n",
       "      <td>Maricel Adriano Malana</td>\n",
       "      <td>Hello po good day,watching from qatar</td>\n",
       "      <td>day qatar</td>\n",
       "      <td>2</td>\n",
       "      <td>6</td>\n",
       "    </tr>\n",
       "    <tr>\n",
       "      <th>16</th>\n",
       "      <td>202207070090</td>\n",
       "      <td>2022-07-07</td>\n",
       "      <td>Beth Sobremonte</td>\n",
       "      <td>Hello po gud eve..to all staff</td>\n",
       "      <td>eve staff</td>\n",
       "      <td>2</td>\n",
       "      <td>6</td>\n",
       "    </tr>\n",
       "    <tr>\n",
       "      <th>...</th>\n",
       "      <td>...</td>\n",
       "      <td>...</td>\n",
       "      <td>...</td>\n",
       "      <td>...</td>\n",
       "      <td>...</td>\n",
       "      <td>...</td>\n",
       "      <td>...</td>\n",
       "    </tr>\n",
       "    <tr>\n",
       "      <th>17512</th>\n",
       "      <td>202207211464</td>\n",
       "      <td>2022-07-21</td>\n",
       "      <td>Annah Lyne</td>\n",
       "      <td>Gud eve po watching from hongkong</td>\n",
       "      <td>eve hongkong</td>\n",
       "      <td>2</td>\n",
       "      <td>6</td>\n",
       "    </tr>\n",
       "    <tr>\n",
       "      <th>17549</th>\n",
       "      <td>202207211536</td>\n",
       "      <td>2022-07-21</td>\n",
       "      <td>Junie Frasco Canete</td>\n",
       "      <td>Hello sir/mam watching from abha ksa</td>\n",
       "      <td>abha ksa</td>\n",
       "      <td>2</td>\n",
       "      <td>6</td>\n",
       "    </tr>\n",
       "    <tr>\n",
       "      <th>17550</th>\n",
       "      <td>202207211562</td>\n",
       "      <td>2022-07-21</td>\n",
       "      <td>Odnaib Gracekiel</td>\n",
       "      <td>Hi po good eve from Kuwait</td>\n",
       "      <td>eve kuwait</td>\n",
       "      <td>2</td>\n",
       "      <td>6</td>\n",
       "    </tr>\n",
       "    <tr>\n",
       "      <th>17551</th>\n",
       "      <td>202207211566</td>\n",
       "      <td>2022-07-21</td>\n",
       "      <td>Kristy Fajardo</td>\n",
       "      <td>Hello po sir watching ofw from qatar</td>\n",
       "      <td>ofw qatar</td>\n",
       "      <td>2</td>\n",
       "      <td>7</td>\n",
       "    </tr>\n",
       "    <tr>\n",
       "      <th>17552</th>\n",
       "      <td>202207211567</td>\n",
       "      <td>2022-07-21</td>\n",
       "      <td>Mary Grace Casilla</td>\n",
       "      <td>Hello poh watching from doha qatar</td>\n",
       "      <td>doha qatar</td>\n",
       "      <td>2</td>\n",
       "      <td>6</td>\n",
       "    </tr>\n",
       "  </tbody>\n",
       "</table>\n",
       "<p>1544 rows × 7 columns</p>\n",
       "</div>"
      ],
      "text/plain": [
       "         comment_id  date_aired             sender_name  \\\n",
       "5      202207070069  2022-07-07                Nene Ike   \n",
       "8      202207070080  2022-07-07    Arabella Constantino   \n",
       "9      202207070081  2022-07-07             Rinbel Vale   \n",
       "14     202207070087  2022-07-07  Maricel Adriano Malana   \n",
       "16     202207070090  2022-07-07         Beth Sobremonte   \n",
       "...             ...         ...                     ...   \n",
       "17512  202207211464  2022-07-21              Annah Lyne   \n",
       "17549  202207211536  2022-07-21     Junie Frasco Canete   \n",
       "17550  202207211562  2022-07-21        Odnaib Gracekiel   \n",
       "17551  202207211566  2022-07-21          Kristy Fajardo   \n",
       "17552  202207211567  2022-07-21      Mary Grace Casilla   \n",
       "\n",
       "                                                    text     clean_text  \\\n",
       "5      Hello po watching from Cyprus Europe God bless...  cyprus europe   \n",
       "8      Hi po sir arnel ignacio..watching from Riyadh ...   riyadh saudi   \n",
       "9      Good evening po sir arnell, I'm watching from ...   riyadh saudi   \n",
       "14                 Hello po good day,watching from qatar      day qatar   \n",
       "16                        Hello po gud eve..to all staff      eve staff   \n",
       "...                                                  ...            ...   \n",
       "17512                  Gud eve po watching from hongkong   eve hongkong   \n",
       "17549               Hello sir/mam watching from abha ksa       abha ksa   \n",
       "17550                         Hi po good eve from Kuwait     eve kuwait   \n",
       "17551               Hello po sir watching ofw from qatar      ofw qatar   \n",
       "17552                 Hello poh watching from doha qatar     doha qatar   \n",
       "\n",
       "       clean_text_word_count  text_word_count  \n",
       "5                          2               12  \n",
       "8                          2                8  \n",
       "9                          2               10  \n",
       "14                         2                6  \n",
       "16                         2                6  \n",
       "...                      ...              ...  \n",
       "17512                      2                6  \n",
       "17549                      2                6  \n",
       "17550                      2                6  \n",
       "17551                      2                7  \n",
       "17552                      2                6  \n",
       "\n",
       "[1544 rows x 7 columns]"
      ]
     },
     "execution_count": 22,
     "metadata": {},
     "output_type": "execute_result"
    }
   ],
   "source": [
    "all_df[all_df['clean_text_word_count'] == 2]"
   ]
  },
  {
   "cell_type": "code",
   "execution_count": 23,
   "id": "ecf0824a",
   "metadata": {
    "ExecuteTime": {
     "end_time": "2022-09-27T13:33:24.713468Z",
     "start_time": "2022-09-27T13:33:24.709267Z"
    }
   },
   "outputs": [
    {
     "data": {
      "text/plain": [
       "count    17576.000000\n",
       "mean         9.088416\n",
       "std          8.076331\n",
       "min          2.000000\n",
       "25%          4.000000\n",
       "50%          7.000000\n",
       "75%         11.000000\n",
       "max        207.000000\n",
       "Name: clean_text_word_count, dtype: float64"
      ]
     },
     "execution_count": 23,
     "metadata": {},
     "output_type": "execute_result"
    }
   ],
   "source": [
    "all_df['clean_text_word_count'].describe()"
   ]
  },
  {
   "cell_type": "markdown",
   "id": "0fee0f24",
   "metadata": {},
   "source": [
    "## Word Cloud"
   ]
  },
  {
   "cell_type": "code",
   "execution_count": 24,
   "id": "37dda443",
   "metadata": {
    "ExecuteTime": {
     "end_time": "2022-09-27T13:33:24.716050Z",
     "start_time": "2022-09-27T13:33:24.714381Z"
    }
   },
   "outputs": [],
   "source": [
    "vectorizer = TfidfVectorizer(min_df=1, max_df=9)"
   ]
  },
  {
   "cell_type": "code",
   "execution_count": 25,
   "id": "6297d612",
   "metadata": {
    "ExecuteTime": {
     "end_time": "2022-09-27T13:33:25.310641Z",
     "start_time": "2022-09-27T13:33:24.716742Z"
    }
   },
   "outputs": [
    {
     "data": {
      "image/png": "[encoded data removed]",
      "text/plain": [
       "<PIL.Image.Image image mode=RGB size=400x200 at 0x14AE900D0>"
      ]
     },
     "execution_count": 25,
     "metadata": {},
     "output_type": "execute_result"
    }
   ],
   "source": [
    "# Import the wordcloud library\n",
    "from wordcloud import WordCloud\n",
    "# Join the different processed titles together.\n",
    "long_string = ','.join(list(all_df['clean_text'].values))\n",
    "# Create a WordCloud object\n",
    "wordcloud = WordCloud(background_color=\"white\", max_words=5000, contour_width=3, contour_color='steelblue')\n",
    "# Generate a word cloud\n",
    "wordcloud.generate(long_string)\n",
    "# Visualize the word cloud\n",
    "wordcloud.to_image()"
   ]
  },
  {
   "cell_type": "code",
   "execution_count": 26,
   "id": "a95de007",
   "metadata": {
    "ExecuteTime": {
     "end_time": "2022-09-27T13:33:25.407708Z",
     "start_time": "2022-09-27T13:33:25.311500Z"
    }
   },
   "outputs": [],
   "source": [
    "corpus = []\n",
    "nwords = [1,2,3,4]\n",
    "\n",
    "for n in nwords:\n",
    "    nword_corpus = []\n",
    "    for text in all_df['clean_text'].values:\n",
    "        nword_corpus.extend((ngrams(text.split(), n)))\n",
    "    corpus.append(nword_corpus)"
   ]
  },
  {
   "cell_type": "code",
   "execution_count": 27,
   "id": "1e4efb8b",
   "metadata": {
    "ExecuteTime": {
     "end_time": "2022-09-27T13:33:25.500462Z",
     "start_time": "2022-09-27T13:33:25.408423Z"
    }
   },
   "outputs": [],
   "source": [
    "words_top = pd.DataFrame(pd.Series([str(set(x))[1:-1] for x in corpus[0]]).value_counts()[0:50], columns=['frequency'])\n",
    "words_top.to_csv('../output/top_unigrams.csv')"
   ]
  },
  {
   "cell_type": "code",
   "execution_count": 28,
   "id": "369ea1d6",
   "metadata": {
    "ExecuteTime": {
     "end_time": "2022-09-27T13:33:25.606765Z",
     "start_time": "2022-09-27T13:33:25.501262Z"
    }
   },
   "outputs": [],
   "source": [
    "bigrams_top = pd.DataFrame(pd.Series([str(set(x))[1:-1] for x in corpus[1]]).value_counts()[0:50], columns=['frequency'])\n",
    "bigrams_top.to_csv('../output/top_bigrams.csv')                "
   ]
  },
  {
   "cell_type": "code",
   "execution_count": 29,
   "id": "ea5562de",
   "metadata": {
    "ExecuteTime": {
     "end_time": "2022-09-27T13:33:25.716141Z",
     "start_time": "2022-09-27T13:33:25.607628Z"
    }
   },
   "outputs": [],
   "source": [
    "trigrams_top = pd.DataFrame(pd.Series([str(set(x))[1:-1] for x in corpus[2]]).value_counts()[0:20], columns=['frequency'])\n",
    "trigrams_top.to_csv('../output/top_3grams.csv')"
   ]
  },
  {
   "cell_type": "code",
   "execution_count": 30,
   "id": "bb56060a",
   "metadata": {
    "ExecuteTime": {
     "end_time": "2022-09-27T13:33:25.820835Z",
     "start_time": "2022-09-27T13:33:25.717045Z"
    }
   },
   "outputs": [],
   "source": [
    "quadgrams_top = pd.DataFrame(pd.Series([str(set(x))[1:-1] for x in corpus[3]]).value_counts()[0:20], columns=['frequency'])\n",
    "quadgrams_top.to_csv('../output/top_4grams.csv')           "
   ]
  },
  {
   "cell_type": "markdown",
   "id": "2d287deb",
   "metadata": {},
   "source": [
    "## Topic identification"
   ]
  },
  {
   "cell_type": "code",
   "execution_count": 38,
   "id": "2c8a1090",
   "metadata": {
    "ExecuteTime": {
     "end_time": "2022-09-27T13:48:57.213553Z",
     "start_time": "2022-09-27T13:48:57.205938Z"
    }
   },
   "outputs": [],
   "source": [
    "from sklearn.feature_extraction.text import TfidfVectorizer\n",
    "from sklearn.decomposition import LatentDirichletAllocation\n",
    "from sklearn.decomposition import NMF\n",
    "from sklearn.pipeline import make_pipeline"
   ]
  },
  {
   "cell_type": "code",
   "execution_count": 53,
   "id": "14eaaff1",
   "metadata": {
    "ExecuteTime": {
     "end_time": "2022-09-27T14:19:21.413479Z",
     "start_time": "2022-09-27T14:19:21.405752Z"
    }
   },
   "outputs": [],
   "source": [
    "def get_topic_words(model, feature_names, n_top_words):\n",
    "    data= []\n",
    "    for topic_idx, topic in enumerate(model.components_):\n",
    "        topic_keywords = [feature_names[i]\n",
    "                             for i in topic.argsort()[:-n_top_words - 1:-1]]\n",
    "        data.append([topic_idx+1,topic_keywords])\n",
    "    result_df = pd.DataFrame(data, columns=['ID','Topic Keywords'])\n",
    "    return result_df"
   ]
  },
  {
   "cell_type": "code",
   "execution_count": 58,
   "id": "0574fbd9",
   "metadata": {
    "ExecuteTime": {
     "end_time": "2022-09-27T14:21:44.053050Z",
     "start_time": "2022-09-27T14:21:42.229749Z"
    }
   },
   "outputs": [
    {
     "name": "stderr",
     "output_type": "stream",
     "text": [
      "/opt/anaconda3/lib/python3.9/site-packages/sklearn/decomposition/_nmf.py:289: FutureWarning: The 'init' value, when 'init=None' and n_components is less than n_samples and n_features, will be changed from 'nndsvd' to 'nndsvda' in 1.1 (renaming of 0.26).\n",
      "  warnings.warn(\n",
      "/opt/anaconda3/lib/python3.9/site-packages/sklearn/utils/deprecation.py:87: FutureWarning: Function get_feature_names is deprecated; get_feature_names is deprecated in 1.0 and will be removed in 1.2. Please use get_feature_names_out instead.\n",
      "  warnings.warn(msg, category=FutureWarning)\n"
     ]
    }
   ],
   "source": [
    "tfidf_vectorizer = TfidfVectorizer(stop_words=[], ngram_range=(2,3))\n",
    "nmf = NMF(n_components=10)\n",
    "pipe = make_pipeline(tfidf_vectorizer, nmf)\n",
    "\n",
    "pipe.fit(all_df['clean_text'].values)\n",
    "results_df = get_topic_words(nmf, tfidf_vectorizer.get_feature_names(), n_top_words=5)\n",
    "results_df.to_csv(\"../output/topics_nmf.csv\",index=False)"
   ]
  },
  {
   "cell_type": "code",
   "execution_count": 59,
   "id": "76d60492",
   "metadata": {
    "ExecuteTime": {
     "end_time": "2022-09-27T14:21:49.738729Z",
     "start_time": "2022-09-27T14:21:44.054131Z"
    }
   },
   "outputs": [
    {
     "name": "stderr",
     "output_type": "stream",
     "text": [
      "/opt/anaconda3/lib/python3.9/site-packages/sklearn/utils/deprecation.py:87: FutureWarning: Function get_feature_names is deprecated; get_feature_names is deprecated in 1.0 and will be removed in 1.2. Please use get_feature_names_out instead.\n",
      "  warnings.warn(msg, category=FutureWarning)\n"
     ]
    }
   ],
   "source": [
    "lda = LatentDirichletAllocation(n_components=10)\n",
    "pipe = make_pipeline(tfidf_vectorizer, lda)\n",
    "pipe.fit(all_df['clean_text'].values)\n",
    "\n",
    "get_topic_words(lda, tfidf_vectorizer.get_feature_names(), n_top_words=5)\n",
    "results_df.to_csv(\"../output/topics_lda.csv\",index=False)"
   ]
  },
  {
   "cell_type": "code",
   "execution_count": null,
   "id": "fff2b9c7",
   "metadata": {},
   "outputs": [],
   "source": []
  }
 ],
 "metadata": {
  "kernelspec": {
   "display_name": "Python 3 (ipykernel)",
   "language": "python",
   "name": "python3"
  },
  "language_info": {
   "codemirror_mode": {
    "name": "ipython",
    "version": 3
   },
   "file_extension": ".py",
   "mimetype": "text/x-python",
   "name": "python",
   "nbconvert_exporter": "python",
   "pygments_lexer": "ipython3",
   "version": "3.9.12"
  }
 },
 "nbformat": 4,
 "nbformat_minor": 5
}

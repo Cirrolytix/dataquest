{
 "cells": [
  {
   "cell_type": "code",
   "execution_count": 1,
   "id": "4cd6884d",
   "metadata": {
    "ExecuteTime": {
     "end_time": "2022-09-27T18:39:21.978424Z",
     "start_time": "2022-09-27T18:39:21.973053Z"
    }
   },
   "outputs": [],
   "source": [
    "import sys\n",
    "sys.path.append(\"..\")"
   ]
  },
  {
   "cell_type": "code",
   "execution_count": 5,
   "id": "56e0bb2a",
   "metadata": {
    "ExecuteTime": {
     "end_time": "2022-09-27T18:50:06.601922Z",
     "start_time": "2022-09-27T18:50:06.593369Z"
    }
   },
   "outputs": [],
   "source": [
    "import numpy as np\n",
    "import pandas as pd\n",
    "\n",
    "from re import sub\n",
    "\n",
    "from src.utils.tag_topic import TopicPriorityTag\n",
    "from src.utils.clean_comments import CommentCleaner\n",
    "\n",
    "import gspread as gs\n",
    "import os"
   ]
  },
  {
   "cell_type": "code",
   "execution_count": 6,
   "id": "43ae80d6",
   "metadata": {
    "ExecuteTime": {
     "end_time": "2022-09-27T18:50:07.741649Z",
     "start_time": "2022-09-27T18:50:07.734517Z"
    }
   },
   "outputs": [],
   "source": [
    "from src.utils.tag_topic import TopicPriorityTag\n",
    "from src.utils.clean_comments import CommentCleaner"
   ]
  },
  {
   "cell_type": "code",
   "execution_count": 7,
   "id": "06e286e9",
   "metadata": {
    "ExecuteTime": {
     "end_time": "2022-09-27T18:50:08.078122Z",
     "start_time": "2022-09-27T18:50:08.059410Z"
    }
   },
   "outputs": [],
   "source": [
    "gc = gs.service_account(filename='../creds/service_account.json')"
   ]
  },
  {
   "cell_type": "code",
   "execution_count": 20,
   "id": "ba338bdd",
   "metadata": {
    "ExecuteTime": {
     "end_time": "2022-09-27T19:09:57.319035Z",
     "start_time": "2022-09-27T19:09:57.312645Z"
    }
   },
   "outputs": [],
   "source": [
    "sheets_url= 'https://docs.google.com/spreadsheets/d/1chiatozuGjEau08fr_c1qAHzysPa0ubRoJknqoZaEIs'"
   ]
  },
  {
   "cell_type": "code",
   "execution_count": 50,
   "id": "8cefbce8",
   "metadata": {
    "ExecuteTime": {
     "end_time": "2022-09-28T01:03:43.267207Z",
     "start_time": "2022-09-28T01:03:41.547773Z"
    }
   },
   "outputs": [],
   "source": [
    "sh = gc.open_by_url(sheets_url)\n",
    "ws = sh.worksheet('Responses')\n",
    "table_df = pd.DataFrame(ws.get_all_records())"
   ]
  },
  {
   "cell_type": "code",
   "execution_count": 55,
   "id": "dd6c7092",
   "metadata": {
    "ExecuteTime": {
     "end_time": "2022-09-28T02:38:04.663411Z",
     "start_time": "2022-09-28T02:38:04.651110Z"
    }
   },
   "outputs": [
    {
     "data": {
      "text/html": [
       "<div>\n",
       "<style scoped>\n",
       "    .dataframe tbody tr th:only-of-type {\n",
       "        vertical-align: middle;\n",
       "    }\n",
       "\n",
       "    .dataframe tbody tr th {\n",
       "        vertical-align: top;\n",
       "    }\n",
       "\n",
       "    .dataframe thead th {\n",
       "        text-align: right;\n",
       "    }\n",
       "</style>\n",
       "<table border=\"1\" class=\"dataframe\">\n",
       "  <thead>\n",
       "    <tr style=\"text-align: right;\">\n",
       "      <th></th>\n",
       "      <th>Timestamp</th>\n",
       "      <th>User ID</th>\n",
       "      <th>FB Name</th>\n",
       "      <th>Sender Name</th>\n",
       "      <th>On Behalf Of</th>\n",
       "      <th>Overseas Post</th>\n",
       "      <th>Local Address</th>\n",
       "      <th>Concern</th>\n",
       "      <th>Short Text</th>\n",
       "      <th>Category</th>\n",
       "      <th>Priority</th>\n",
       "    </tr>\n",
       "  </thead>\n",
       "  <tbody>\n",
       "  </tbody>\n",
       "</table>\n",
       "</div>"
      ],
      "text/plain": [
       "Empty DataFrame\n",
       "Columns: [Timestamp, User ID, FB Name, Sender Name, On Behalf Of, Overseas Post, Local Address, Concern, Short Text, Category, Priority]\n",
       "Index: []"
      ]
     },
     "execution_count": 55,
     "metadata": {},
     "output_type": "execute_result"
    }
   ],
   "source": [
    "# update only new entries\n",
    "table_df = table_df[table_df['Priority']=='a']\n",
    "table_df"
   ]
  },
  {
   "cell_type": "code",
   "execution_count": 56,
   "id": "13777b29",
   "metadata": {
    "ExecuteTime": {
     "end_time": "2022-09-28T02:38:10.294428Z",
     "start_time": "2022-09-28T02:38:10.283753Z"
    }
   },
   "outputs": [
    {
     "data": {
      "text/plain": [
       "0"
      ]
     },
     "execution_count": 56,
     "metadata": {},
     "output_type": "execute_result"
    }
   ],
   "source": [
    "len(table_df)"
   ]
  },
  {
   "cell_type": "code",
   "execution_count": 52,
   "id": "f3311be4",
   "metadata": {
    "ExecuteTime": {
     "end_time": "2022-09-28T01:03:45.525048Z",
     "start_time": "2022-09-28T01:03:43.619456Z"
    }
   },
   "outputs": [],
   "source": [
    "cleaner = CommentCleaner()\n",
    "tagger = TopicPriorityTag()"
   ]
  },
  {
   "cell_type": "code",
   "execution_count": 54,
   "id": "888bdfcd",
   "metadata": {
    "ExecuteTime": {
     "end_time": "2022-09-28T01:03:53.192531Z",
     "start_time": "2022-09-28T01:03:53.159469Z"
    }
   },
   "outputs": [
    {
     "data": {
      "text/html": [
       "<div>\n",
       "<style scoped>\n",
       "    .dataframe tbody tr th:only-of-type {\n",
       "        vertical-align: middle;\n",
       "    }\n",
       "\n",
       "    .dataframe tbody tr th {\n",
       "        vertical-align: top;\n",
       "    }\n",
       "\n",
       "    .dataframe thead th {\n",
       "        text-align: right;\n",
       "    }\n",
       "</style>\n",
       "<table border=\"1\" class=\"dataframe\">\n",
       "  <thead>\n",
       "    <tr style=\"text-align: right;\">\n",
       "      <th></th>\n",
       "      <th>Timestamp</th>\n",
       "      <th>User ID</th>\n",
       "      <th>FB Name</th>\n",
       "      <th>Sender Name</th>\n",
       "      <th>On Behalf Of</th>\n",
       "      <th>Overseas Post</th>\n",
       "      <th>Local Address</th>\n",
       "      <th>Concern</th>\n",
       "      <th>Short Text</th>\n",
       "      <th>Category</th>\n",
       "      <th>Priority</th>\n",
       "    </tr>\n",
       "  </thead>\n",
       "  <tbody>\n",
       "    <tr>\n",
       "      <th>12</th>\n",
       "      <td>2022-09-28 8:57:43</td>\n",
       "      <td>5404147766343609</td>\n",
       "      <td>JC Peralta</td>\n",
       "      <td>Juan dela Cruz</td>\n",
       "      <td>Singapore</td>\n",
       "      <td>QC, Philippines</td>\n",
       "      <td></td>\n",
       "      <td>Hello sir pwede po ba magtanong kung paano mag...</td>\n",
       "      <td>apply owwa scholarship</td>\n",
       "      <td>Scholarship</td>\n",
       "      <td>2</td>\n",
       "    </tr>\n",
       "  </tbody>\n",
       "</table>\n",
       "</div>"
      ],
      "text/plain": [
       "             Timestamp           User ID     FB Name     Sender Name  \\\n",
       "12  2022-09-28 8:57:43  5404147766343609  JC Peralta  Juan dela Cruz   \n",
       "\n",
       "   On Behalf Of    Overseas Post Local Address  \\\n",
       "12    Singapore  QC, Philippines                 \n",
       "\n",
       "                                              Concern              Short Text  \\\n",
       "12  Hello sir pwede po ba magtanong kung paano mag...  apply owwa scholarship   \n",
       "\n",
       "       Category  Priority  \n",
       "12  Scholarship         2  "
      ]
     },
     "execution_count": 54,
     "metadata": {},
     "output_type": "execute_result"
    }
   ],
   "source": [
    "table_df['Short Text'] = table_df['Concern'].apply(lambda x: cleaner.clean_comment(x))\n",
    "table_df['Category'] = table_df['Short Text'].apply(lambda x: tagger.tag_topic_category(x))\n",
    "table_df['Priority'] = table_df['Category'].apply(lambda x: tagger.tag_topic_priority(x))\n",
    "table_df['Category'] = table_df['Category'].apply(lambda x: '; '.join(x))\n",
    "table_df"
   ]
  },
  {
   "cell_type": "code",
   "execution_count": 49,
   "id": "1886f926",
   "metadata": {
    "ExecuteTime": {
     "end_time": "2022-09-27T19:18:53.183498Z",
     "start_time": "2022-09-27T19:18:39.165421Z"
    }
   },
   "outputs": [],
   "source": [
    "for i in table_df.index:\n",
    "    # Short Text : G\n",
    "    ws.update(\"G%d\" % (i+2), table_df['Short Text'].values[i])\n",
    "    #Category : H\n",
    "    ws.update(\"H%d\" % (i+2), table_df['Category'].values[i])\n",
    "    #Priority : I\n",
    "    ws.update(\"I%d\" % (i+2), str(table_df['Priority'].values[i]))"
   ]
  },
  {
   "cell_type": "code",
   "execution_count": null,
   "id": "1ee42d2d",
   "metadata": {},
   "outputs": [],
   "source": []
  }
 ],
 "metadata": {
  "kernelspec": {
   "display_name": "Python 3 (ipykernel)",
   "language": "python",
   "name": "python3"
  },
  "language_info": {
   "codemirror_mode": {
    "name": "ipython",
    "version": 3
   },
   "file_extension": ".py",
   "mimetype": "text/x-python",
   "name": "python",
   "nbconvert_exporter": "python",
   "pygments_lexer": "ipython3",
   "version": "3.9.12"
  }
 },
 "nbformat": 4,
 "nbformat_minor": 5
}

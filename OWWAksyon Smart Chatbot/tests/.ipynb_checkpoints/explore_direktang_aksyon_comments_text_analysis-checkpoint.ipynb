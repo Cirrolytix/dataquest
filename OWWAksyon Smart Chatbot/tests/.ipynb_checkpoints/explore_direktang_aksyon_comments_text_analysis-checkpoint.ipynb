{
 "cells": [
  {
   "cell_type": "code",
   "execution_count": 124,
   "id": "57d621a6",
   "metadata": {
    "ExecuteTime": {
     "end_time": "2022-09-24T01:51:57.895448Z",
     "start_time": "2022-09-24T01:51:57.885007Z"
    }
   },
   "outputs": [],
   "source": [
    "import numpy as np\n",
    "import pandas as pd\n",
    "\n",
    "import matplotlib.pyplot as plt\n",
    "import seaborn as sns\n",
    "\n",
    "from re import sub\n",
    "from pprint import pprint\n",
    "from sklearn.feature_extraction.text import TfidfVectorizer\n",
    "\n",
    "from nltk.corpus import stopwords\n",
    "\n",
    "import os"
   ]
  },
  {
   "cell_type": "code",
   "execution_count": 2,
   "id": "fa59aca0",
   "metadata": {
    "ExecuteTime": {
     "end_time": "2022-09-23T17:01:26.156873Z",
     "start_time": "2022-09-23T17:01:26.108236Z"
    }
   },
   "outputs": [],
   "source": [
    "file_dir = 'data/comments/'\n",
    "df_list = []\n",
    "for fn in [tf for tf in os.listdir(file_dir) if ('.csv' in tf) & (~tf.endswith('_.csv'))]:\n",
    "    df = pd.read_csv(file_dir+fn)\n",
    "    df['date_aired'] = pd.to_datetime(fn.split('_')[-1].split('.')[0]).strftime('%Y-%m-%d')\n",
    "    df_list.append(df[['date_aired','sender_name','text']])"
   ]
  },
  {
   "cell_type": "code",
   "execution_count": 3,
   "id": "66a4a0f6",
   "metadata": {
    "ExecuteTime": {
     "end_time": "2022-09-23T17:01:26.288080Z",
     "start_time": "2022-09-23T17:01:26.157603Z"
    }
   },
   "outputs": [
    {
     "data": {
      "text/html": [
       "<div>\n",
       "<style scoped>\n",
       "    .dataframe tbody tr th:only-of-type {\n",
       "        vertical-align: middle;\n",
       "    }\n",
       "\n",
       "    .dataframe tbody tr th {\n",
       "        vertical-align: top;\n",
       "    }\n",
       "\n",
       "    .dataframe thead th {\n",
       "        text-align: right;\n",
       "    }\n",
       "</style>\n",
       "<table border=\"1\" class=\"dataframe\">\n",
       "  <thead>\n",
       "    <tr style=\"text-align: right;\">\n",
       "      <th></th>\n",
       "      <th>comment_id</th>\n",
       "      <th>date_aired</th>\n",
       "      <th>sender_name</th>\n",
       "      <th>text</th>\n",
       "    </tr>\n",
       "  </thead>\n",
       "  <tbody>\n",
       "    <tr>\n",
       "      <th>0</th>\n",
       "      <td>202207070001</td>\n",
       "      <td>2022-07-07</td>\n",
       "      <td>John Godfrey</td>\n",
       "      <td>Palala lamang po sa mga ofws sa ksa wag mameke...</td>\n",
       "    </tr>\n",
       "    <tr>\n",
       "      <th>1</th>\n",
       "      <td>202207070002</td>\n",
       "      <td>2022-07-07</td>\n",
       "      <td>Rowena Ascrate</td>\n",
       "      <td>Hello,watching po from uae</td>\n",
       "    </tr>\n",
       "    <tr>\n",
       "      <th>2</th>\n",
       "      <td>202207070003</td>\n",
       "      <td>2022-07-07</td>\n",
       "      <td>Zhai Vhie Gimoro Francisco</td>\n",
       "      <td>Help nyo po aq sir arnel</td>\n",
       "    </tr>\n",
       "    <tr>\n",
       "      <th>3</th>\n",
       "      <td>202207070004</td>\n",
       "      <td>2022-07-07</td>\n",
       "      <td>Cbbc Fort Bonifacio SharjahOutreach</td>\n",
       "      <td>Good evening po Sirs and Mam</td>\n",
       "    </tr>\n",
       "    <tr>\n",
       "      <th>4</th>\n",
       "      <td>202207070005</td>\n",
       "      <td>2022-07-07</td>\n",
       "      <td>Agripina Esmajer</td>\n",
       "      <td>Hi Sir Arnel good evening Po!watching from San...</td>\n",
       "    </tr>\n",
       "    <tr>\n",
       "      <th>...</th>\n",
       "      <td>...</td>\n",
       "      <td>...</td>\n",
       "      <td>...</td>\n",
       "      <td>...</td>\n",
       "    </tr>\n",
       "    <tr>\n",
       "      <th>26214</th>\n",
       "      <td>202207211545</td>\n",
       "      <td>2022-07-21</td>\n",
       "      <td>Sarupac Jessa</td>\n",
       "      <td>Magandang araw po saan po pwede lumapit kung m...</td>\n",
       "    </tr>\n",
       "    <tr>\n",
       "      <th>26215</th>\n",
       "      <td>202207211546</td>\n",
       "      <td>2022-07-21</td>\n",
       "      <td>Sarupac Jessa</td>\n",
       "      <td>Magandang araw po saan po pwede lumapit kung m...</td>\n",
       "    </tr>\n",
       "    <tr>\n",
       "      <th>26216</th>\n",
       "      <td>202207211547</td>\n",
       "      <td>2022-07-21</td>\n",
       "      <td>Muslimah Balik Islam</td>\n",
       "      <td>From U.A.E pano po mag aply s owwa scholarship</td>\n",
       "    </tr>\n",
       "    <tr>\n",
       "      <th>26217</th>\n",
       "      <td>202207211548</td>\n",
       "      <td>2022-07-21</td>\n",
       "      <td>Lina Gabis</td>\n",
       "      <td>Sir tanong lang nagrenew kasi kami ng mga kasa...</td>\n",
       "    </tr>\n",
       "    <tr>\n",
       "      <th>26218</th>\n",
       "      <td>202207211549</td>\n",
       "      <td>2022-07-21</td>\n",
       "      <td>Muslimah Balik Islam</td>\n",
       "      <td>From U.a.e po pano po mag aply sa owwa scholar...</td>\n",
       "    </tr>\n",
       "  </tbody>\n",
       "</table>\n",
       "<p>26219 rows × 4 columns</p>\n",
       "</div>"
      ],
      "text/plain": [
       "         comment_id  date_aired                          sender_name  \\\n",
       "0      202207070001  2022-07-07                         John Godfrey   \n",
       "1      202207070002  2022-07-07                       Rowena Ascrate   \n",
       "2      202207070003  2022-07-07           Zhai Vhie Gimoro Francisco   \n",
       "3      202207070004  2022-07-07  Cbbc Fort Bonifacio SharjahOutreach   \n",
       "4      202207070005  2022-07-07                     Agripina Esmajer   \n",
       "...             ...         ...                                  ...   \n",
       "26214  202207211545  2022-07-21                        Sarupac Jessa   \n",
       "26215  202207211546  2022-07-21                        Sarupac Jessa   \n",
       "26216  202207211547  2022-07-21                 Muslimah Balik Islam   \n",
       "26217  202207211548  2022-07-21                           Lina Gabis   \n",
       "26218  202207211549  2022-07-21                 Muslimah Balik Islam   \n",
       "\n",
       "                                                    text  \n",
       "0      Palala lamang po sa mga ofws sa ksa wag mameke...  \n",
       "1                             Hello,watching po from uae  \n",
       "2                               Help nyo po aq sir arnel  \n",
       "3                           Good evening po Sirs and Mam  \n",
       "4      Hi Sir Arnel good evening Po!watching from San...  \n",
       "...                                                  ...  \n",
       "26214  Magandang araw po saan po pwede lumapit kung m...  \n",
       "26215  Magandang araw po saan po pwede lumapit kung m...  \n",
       "26216     From U.A.E pano po mag aply s owwa scholarship  \n",
       "26217  Sir tanong lang nagrenew kasi kami ng mga kasa...  \n",
       "26218  From U.a.e po pano po mag aply sa owwa scholar...  \n",
       "\n",
       "[26219 rows x 4 columns]"
      ]
     },
     "execution_count": 3,
     "metadata": {},
     "output_type": "execute_result"
    }
   ],
   "source": [
    "all_df = pd.concat(df_list).reset_index().rename(columns={'index':'comment_id'})\n",
    "all_df['comment_id'] = all_df['comment_id']+61\n",
    "all_df['comment_id']= all_df.apply(lambda x: \\\n",
    "                                   x['date_aired'].replace('-','')+str(x['comment_id']).rjust(4, '0'), axis=1)\n",
    "all_df"
   ]
  },
  {
   "cell_type": "code",
   "execution_count": 4,
   "id": "db1de843",
   "metadata": {
    "ExecuteTime": {
     "end_time": "2022-09-23T17:01:26.293075Z",
     "start_time": "2022-09-23T17:01:26.288795Z"
    }
   },
   "outputs": [],
   "source": [
    "all_df = all_df[~all_df['text'].isna()].reset_index(drop=True)"
   ]
  },
  {
   "cell_type": "code",
   "execution_count": 5,
   "id": "c9427cbb",
   "metadata": {
    "ExecuteTime": {
     "end_time": "2022-09-23T17:01:26.296392Z",
     "start_time": "2022-09-23T17:01:26.294503Z"
    }
   },
   "outputs": [
    {
     "data": {
      "text/plain": [
       "26125"
      ]
     },
     "execution_count": 5,
     "metadata": {},
     "output_type": "execute_result"
    }
   ],
   "source": [
    "len(all_df)"
   ]
  },
  {
   "cell_type": "code",
   "execution_count": 6,
   "id": "37dda443",
   "metadata": {
    "ExecuteTime": {
     "end_time": "2022-09-23T17:01:26.298441Z",
     "start_time": "2022-09-23T17:01:26.297024Z"
    }
   },
   "outputs": [],
   "source": [
    "vectorizer = TfidfVectorizer(min_df=1, max_df=9)"
   ]
  },
  {
   "cell_type": "code",
   "execution_count": 119,
   "id": "d90527f7",
   "metadata": {
    "ExecuteTime": {
     "end_time": "2022-09-24T01:51:34.137151Z",
     "start_time": "2022-09-24T01:51:34.121036Z"
    }
   },
   "outputs": [
    {
     "name": "stdout",
     "output_type": "stream",
     "text": [
      "['po', 'pa', 'ako', 'sa', 'akin', 'ko', 'aking', 'sarili', 'kami', 'atin', 'ang', 'aming', 'amin', 'ating', 'ka', 'iyong', 'yung', 'iyo', 'inyo', 'inyong', 'siya', 'kanya', 'mismo', 'ito', 'nito', 'kanyang', 'sila', 'nila', 'kina', 'kanila', 'kanilang', 'kung', 'ano', 'alin', 'sino', 'kanino', 'nino', 'na', 'mga', 'iyon', 'am', 'ay', 'maging', 'naging', 'mayroon', 'may', 'nagkaroon', 'pagkakaroon', 'gumawa', 'ginagawa', 'ginawa', 'paggawa', 'ibig', 'dapat', 'maaari', 'marapat', 'kong', 'ikaw', 'tayo', 'hindi', 'namin', 'gusto', 'nais', 'niyang', 'nilang', 'niya', 'huwag', 'ginawang', 'gagawin', 'maaaring', 'sabihin', 'narito', 'kapag', 'ni', 'nasaan', 'bakit', 'paano', 'pano', 'gaano', 'gano', 'kailangan', 'walang', 'katiyakan', 'isang', 'at', 'pero', 'o', 'dahil', 'bilang', 'hanggang', 'habang', 'ng', 'pamamagitan', 'para', 'tungkol', 'pagitan', 'bago', 'pagkatapos', 'itaas', 'ibaba', 'mula', 'pataas', 'pababa', 'ibabaw', 'ilalim', 'muli', 'pa', 'minsan', 'dito', 'doon', 'saan', 'lahat', 'anumang', 'kapwa', 'bawat', 'ilan', 'karamihan', 'iba', 'tulad', 'lamang', 'pareho', 'kaya', 'kaysa', 'masyado', 'napaka', 'isa', 'kulang', 'sabi', 'din', 'katulad ', 'kahit', 'paraan', 'noon', 'noong', 'nung', 'gayunman', 'naman', 'at']\n"
     ]
    }
   ],
   "source": [
    "stopwords_df = pd.read_csv('data/tagalog_stopwords.csv', header=None)\n",
    "stopwords_fil = [s  for s in stopwords_df[0].values]\n",
    "print(stopwords_fil)"
   ]
  },
  {
   "cell_type": "code",
   "execution_count": 125,
   "id": "334146e6",
   "metadata": {
    "ExecuteTime": {
     "end_time": "2022-09-24T01:52:12.078906Z",
     "start_time": "2022-09-24T01:52:12.071294Z"
    }
   },
   "outputs": [],
   "source": [
    "stopwords_all = stopwords_fil+stopwords.words('english')"
   ]
  },
  {
   "cell_type": "code",
   "execution_count": 128,
   "id": "10da5dec",
   "metadata": {
    "ExecuteTime": {
     "end_time": "2022-09-24T01:55:19.224611Z",
     "start_time": "2022-09-24T01:55:19.216254Z"
    }
   },
   "outputs": [],
   "source": [
    "def remove_stopwords(text):\n",
    "    text = text.split(' ')\n",
    "    filtered_text = [word for word in text if word not in stopwords_all]\n",
    "    return ' '.join(filtered_text)"
   ]
  },
  {
   "cell_type": "code",
   "execution_count": 143,
   "id": "a6a5be57",
   "metadata": {
    "ExecuteTime": {
     "end_time": "2022-09-24T01:58:27.294037Z",
     "start_time": "2022-09-24T01:58:27.284956Z"
    }
   },
   "outputs": [],
   "source": [
    "def remove_addtl_words(text):\n",
    "    text = text.split(' ')\n",
    "    addtl_words = ['hello','watching','sir','maam','mam','ma\\'am']\n",
    "    filtered_text = [word for word in text if word not in addtl_words]\n",
    "    return ' '.join(filtered_text)"
   ]
  },
  {
   "cell_type": "code",
   "execution_count": 155,
   "id": "3b4af36b",
   "metadata": {
    "ExecuteTime": {
     "end_time": "2022-09-24T09:04:42.181603Z",
     "start_time": "2022-09-24T09:04:42.171478Z"
    }
   },
   "outputs": [],
   "source": [
    "def clean_sentence(sentence):\n",
    "    # some type with periods as spaces\n",
    "    #sentence = sentence.replace('.', ' ').replace(',', ' ').replace('!', ' ')\n",
    "    #replace punctuation by space\n",
    "    sentence = sub(r\"[,.;@#?!&$]+\\ *\", \" \", sentence)\n",
    "    # remove extra spaces, and\n",
    "    # non-alphabetical characters excluding periods\n",
    "    sentence = sub(r'\\([a-z]\\)', '', sentence)\n",
    "    sentence = sub(r'[^A-Za-z ]', '', sentence)\n",
    "    sentence = sub(r'\\s+', ' ', sentence)\n",
    "    # remove one letter words\n",
    "    sentence = sub('(\\\\b[A-Za-z] \\\\b|\\\\b [A-Za-z]\\\\b)', '', sentence)\n",
    "    \n",
    "    #lower case\n",
    "    sentence = sentence.lower()\n",
    "    # remove stopwords\n",
    "    sentence = remove_stopwords(sentence)\n",
    "    # remove additional words\n",
    "    sentence = remove_addtl_words(sentence)\n",
    "\n",
    "    return sentence"
   ]
  },
  {
   "cell_type": "code",
   "execution_count": 156,
   "id": "2e37ebd8",
   "metadata": {
    "ExecuteTime": {
     "end_time": "2022-09-24T09:04:44.047109Z",
     "start_time": "2022-09-24T09:04:44.034251Z"
    }
   },
   "outputs": [],
   "source": [
    "def clean_sentence_chars(sentence):\n",
    "    # some type with periods as spaces\n",
    "    #sentence = sentence.replace('.', ' ').replace(',', ' ').replace('!', ' ')\n",
    "    #replace punctuation by space\n",
    "    sentence = sub(r\"[,.;@#?!&$]+\\ *\", \" \", sentence)\n",
    "    # Removes text in paragraphs, extra spaces, and\n",
    "    # non-alphabetical characters excluding periods\n",
    "    sentence = sub(r'\\([a-z]\\)', '', sentence)\n",
    "    sentence = sub(r'[^A-Za-z ]', '', sentence)\n",
    "    sentence = sub(r'\\s+', ' ', sentence)\n",
    "    return sentence"
   ]
  },
  {
   "cell_type": "code",
   "execution_count": 157,
   "id": "0b663031",
   "metadata": {
    "ExecuteTime": {
     "end_time": "2022-09-24T09:04:46.152702Z",
     "start_time": "2022-09-24T09:04:45.355267Z"
    }
   },
   "outputs": [],
   "source": [
    "all_df['clean_text'] = all_df['text'].apply(lambda x: clean_sentence(x))\n",
    "all_df['clean_text_word_count'] = all_df['clean_text'].apply(lambda x: len(x.split(' ')))"
   ]
  },
  {
   "cell_type": "code",
   "execution_count": 158,
   "id": "bd3fa0f6",
   "metadata": {
    "ExecuteTime": {
     "end_time": "2022-09-24T09:04:48.233980Z",
     "start_time": "2022-09-24T09:04:48.208636Z"
    }
   },
   "outputs": [
    {
     "data": {
      "text/plain": [
       "'magkano aang sahod new hired papuntang middle east'"
      ]
     },
     "execution_count": 158,
     "metadata": {},
     "output_type": "execute_result"
    }
   ],
   "source": [
    "all_df[all_df['clean_text'].str.contains('ano ')]['clean_text'].iloc[5]"
   ]
  },
  {
   "cell_type": "code",
   "execution_count": 159,
   "id": "4ed606bf",
   "metadata": {
    "ExecuteTime": {
     "end_time": "2022-09-24T09:04:48.581102Z",
     "start_time": "2022-09-24T09:04:48.565384Z"
    }
   },
   "outputs": [
    {
     "data": {
      "text/html": [
       "<div>\n",
       "<style scoped>\n",
       "    .dataframe tbody tr th:only-of-type {\n",
       "        vertical-align: middle;\n",
       "    }\n",
       "\n",
       "    .dataframe tbody tr th {\n",
       "        vertical-align: top;\n",
       "    }\n",
       "\n",
       "    .dataframe thead th {\n",
       "        text-align: right;\n",
       "    }\n",
       "</style>\n",
       "<table border=\"1\" class=\"dataframe\">\n",
       "  <thead>\n",
       "    <tr style=\"text-align: right;\">\n",
       "      <th></th>\n",
       "      <th>text</th>\n",
       "      <th>clean_text</th>\n",
       "    </tr>\n",
       "  </thead>\n",
       "  <tbody>\n",
       "    <tr>\n",
       "      <th>0</th>\n",
       "      <td>Palala lamang po sa mga ofws sa ksa wag mameke...</td>\n",
       "      <td>palala ofws ksa wag mameke dokyumento nahuli n...</td>\n",
       "    </tr>\n",
       "    <tr>\n",
       "      <th>1</th>\n",
       "      <td>Hi Sir Arnel good evening Po!watching from San...</td>\n",
       "      <td>hi arnel good evening san joaquin iloilo yrs w...</td>\n",
       "    </tr>\n",
       "    <tr>\n",
       "      <th>2</th>\n",
       "      <td>Hello sir and ma'am Sana matulungan nyo nman a...</td>\n",
       "      <td>sana matulungan nyo nman year abroad pandemic ...</td>\n",
       "    </tr>\n",
       "    <tr>\n",
       "      <th>3</th>\n",
       "      <td>Sir arnel and all the staff, Good evening po! ...</td>\n",
       "      <td>arnel staff good evening ofw kuwait years akon...</td>\n",
       "    </tr>\n",
       "    <tr>\n",
       "      <th>4</th>\n",
       "      <td>Paano Kong Hindi Naman distress gusto na lng t...</td>\n",
       "      <td>distress lng talaga mag forgood kasi pagod yrs...</td>\n",
       "    </tr>\n",
       "  </tbody>\n",
       "</table>\n",
       "</div>"
      ],
      "text/plain": [
       "                                                text  \\\n",
       "0  Palala lamang po sa mga ofws sa ksa wag mameke...   \n",
       "1  Hi Sir Arnel good evening Po!watching from San...   \n",
       "2  Hello sir and ma'am Sana matulungan nyo nman a...   \n",
       "3  Sir arnel and all the staff, Good evening po! ...   \n",
       "4  Paano Kong Hindi Naman distress gusto na lng t...   \n",
       "\n",
       "                                          clean_text  \n",
       "0  palala ofws ksa wag mameke dokyumento nahuli n...  \n",
       "1  hi arnel good evening san joaquin iloilo yrs w...  \n",
       "2  sana matulungan nyo nman year abroad pandemic ...  \n",
       "3  arnel staff good evening ofw kuwait years akon...  \n",
       "4  distress lng talaga mag forgood kasi pagod yrs...  "
      ]
     },
     "execution_count": 159,
     "metadata": {},
     "output_type": "execute_result"
    }
   ],
   "source": [
    "all_df[['text','clean_text']].head()"
   ]
  },
  {
   "cell_type": "code",
   "execution_count": 167,
   "id": "ee826c93",
   "metadata": {
    "ExecuteTime": {
     "end_time": "2022-09-24T09:11:24.177804Z",
     "start_time": "2022-09-24T09:11:24.163308Z"
    }
   },
   "outputs": [
    {
     "name": "stdout",
     "output_type": "stream",
     "text": [
      "sir hingi po Sana ako ng tulong na mka uwi ng pinas,subrang tgal Kuna d2 sa amo ko mula noon hnggang ngaun dpa ako nkka uwi,nag ssabi ako dati n uuwi ako pro ayw ako pauwiin ngaun lagi akong pinagagalitan simula ng ipakita ko sa kanila Yong about sa endimnity sbi ng amo ko wla dw syang pera d dw sya mg bbigay kc nong kinuha dw nya ako s embassy sbi doon sahod lng dw ang ibbigay saakin,sbi ko din sa knya n bigyan ako ng vacation pay pro ayw din mg bigay ngaun pinag ppilitan ko na uuwi ako sbi nya Kong uuwi dw ako ng pinas ako dw dpat ang bbili sa ticket ko kc d dw sya bbili.sir pa help nmn po nttakot po ako d2 bka pag initan ako ng mga amo kosir ka bong hingi po Sana ako ng tulong na mka uwi ng pinas,subrang tgal Kuna d2 sa amo ko mula noon hnggang ngaun dpa ako nkka uwi,nag ssabi ako dati n uuwi ako pro ayw ako pauwiin ngaun lagi akong pinagagalitan simula ng ipakita ko sa kanila Yong about sa endimnity sbi ng amo ko wla dw syang pera d dw sya mg bbigay kc nong kinuha dw nya ako s embassy sbi doon sahod lng dw ang ibbigay saakin,sbi ko din sa knya n bigyan ako ng vacation pay pro ayw din mg bigay ngaun pinag ppilitan ko na uuwi ako sbi nya Kong uuwi dw ako ng pinas ako dw dpat ang bbili sa ticket ko kc d dw sya bbili.sir pa help nmn po nttakot po ako d2 bka pag initan ako ng mga amo kosir ka bong hingi po Sana ako ng tulong na mka uwi ng pinas,subrang tgal Kuna d2 sa amo ko mula noon hnggang ngaun dpa ako nkka uwi,nag ssabi ako dati n uuwi ako pro ayw ako pauwiin ngaun lagi akong pinagagalitan simula ng ipakita ko sa kanila Yong about sa endimnity sbi ng amo ko wla dw syang pera d dw sya mg bbigay kc nong kinuha dw nya ako s embassy sbi doon sahod lng dw ang ibbigay saakin,sbi ko din sa knya n bigyan ako ng vacation pay pro ayw din mg bigay ngaun pinag ppilitan ko na uuwi ako sbi nya Kong uuwi dw ako ng pinas ako dw dpat ang bbili sa ticket ko kc d dw sya bbili.sir pa help nmn po nttakot po ako d2 bka pag initan ako ng mga amo kosir ka bong hingi po Sana ako ng tulong na mka uwi ng pinas,subrang tgal Kuna d2 sa amo ko mula noon hnggang ngaun dpa ako nkka uwi,nag ssabi ako dati n uuwi ako pro ayw ako pauwiin ngaun lagi akong pinagagalitan simula ng ipakita ko sa kanila Yong about sa endimnity sbi ng amo ko wla dw syang pera d dw sya mg bbigay kc nong kinuha dw nya ako s embassy sbi doon sahod lng dw ang ibbigay saakin,sbi ko din sa knya n bigyan ako ng vacation pay pro ayw din mg bigay ngaun pinag ppilitan ko na uuwi ako sbi nya Kong uuwi dw ako ng pinas ako dw dpat ang bbili sa ticket ko kc d dw sya bbili.sir pa help nmn po nttakot po ako d2 bka pag initan ako ng mga amo ko\n",
      "hingi sana tulong mka uwi pinas subrang tgal kuna amo hnggang ngaun dpa nkka uwi nag ssabi dati uuwi pro ayw pauwiin ngaun lagi akong pinagagalitan simula ipakita yong endimnity sbi amo wla dw syang pera dw sya mg bbigay kc nong kinuha dw nya embassy sbi sahod lng dw ibbigay saakin sbi knya bigyan vacation pay pro ayw mg bigay ngaun pinag ppilitan uuwi sbi nya uuwi dw pinas dw dpat bbili ticket kc dw sya bbili help nmn nttakot bka pag initan amo kosir bong hingi sana tulong mka uwi pinas subrang tgal kuna amo hnggang ngaun dpa nkka uwi nag ssabi dati uuwi pro ayw pauwiin ngaun lagi akong pinagagalitan simula ipakita yong endimnity sbi amo wla dw syang pera dw sya mg bbigay kc nong kinuha dw nya embassy sbi sahod lng dw ibbigay saakin sbi knya bigyan vacation pay pro ayw mg bigay ngaun pinag ppilitan uuwi sbi nya uuwi dw pinas dw dpat bbili ticket kc dw sya bbili help nmn nttakot bka pag initan amo kosir bong hingi sana tulong mka uwi pinas subrang tgal kuna amo hnggang ngaun dpa nkka uwi nag ssabi dati uuwi pro ayw pauwiin ngaun lagi akong pinagagalitan simula ipakita yong endimnity sbi amo wla dw syang pera dw sya mg bbigay kc nong kinuha dw nya embassy sbi sahod lng dw ibbigay saakin sbi knya bigyan vacation pay pro ayw mg bigay ngaun pinag ppilitan uuwi sbi nya uuwi dw pinas dw dpat bbili ticket kc dw sya bbili help nmn nttakot bka pag initan amo kosir bong hingi sana tulong mka uwi pinas subrang tgal kuna amo hnggang ngaun dpa nkka uwi nag ssabi dati uuwi pro ayw pauwiin ngaun lagi akong pinagagalitan simula ipakita yong endimnity sbi amo wla dw syang pera dw sya mg bbigay kc nong kinuha dw nya embassy sbi sahod lng dw ibbigay saakin sbi knya bigyan vacation pay pro ayw mg bigay ngaun pinag ppilitan uuwi sbi nya uuwi dw pinas dw dpat bbili ticket kc dw sya bbili help nmn nttakot bka pag initan amo\n"
     ]
    }
   ],
   "source": [
    "test_sentence = all_df[all_df['clean_text_word_count'] >= 346]['text'].values[0]\n",
    "print(test_sentence)\n",
    "print(clean_sentence(test_sentence))"
   ]
  },
  {
   "cell_type": "code",
   "execution_count": 163,
   "id": "436b0959",
   "metadata": {
    "ExecuteTime": {
     "end_time": "2022-09-24T09:10:20.567028Z",
     "start_time": "2022-09-24T09:10:20.553537Z"
    }
   },
   "outputs": [
    {
     "name": "stdout",
     "output_type": "stream",
     "text": [
      "pa aksyunan naman po yung dole akap region tapos na po yung pangako nila na first week ng september ano na po next na reason nila\n",
      "aksyunan dole akap region tapos pangako first week september next reason\n"
     ]
    }
   ],
   "source": [
    "test_sentence = 'pa aksyunan naman po yung dole akap region tapos na po yung pangako nila na first week ng september ano na po next na reason nila'\n",
    "print(test_sentence)\n",
    "print(clean_sentence(test_sentence))"
   ]
  },
  {
   "cell_type": "code",
   "execution_count": null,
   "id": "59fa036b",
   "metadata": {},
   "outputs": [],
   "source": []
  },
  {
   "cell_type": "code",
   "execution_count": null,
   "id": "91d87dd6",
   "metadata": {},
   "outputs": [],
   "source": []
  },
  {
   "cell_type": "code",
   "execution_count": 107,
   "id": "2949e5e7",
   "metadata": {
    "ExecuteTime": {
     "end_time": "2022-09-23T17:13:06.452019Z",
     "start_time": "2022-09-23T17:13:06.437875Z"
    }
   },
   "outputs": [
    {
     "data": {
      "text/plain": [
       "0"
      ]
     },
     "execution_count": 107,
     "metadata": {},
     "output_type": "execute_result"
    }
   ],
   "source": [
    "len(all_df[all_df['clean_text_word_count']<=5])"
   ]
  },
  {
   "cell_type": "code",
   "execution_count": 108,
   "id": "59988d9f",
   "metadata": {
    "ExecuteTime": {
     "end_time": "2022-09-23T17:13:06.664824Z",
     "start_time": "2022-09-23T17:13:06.647542Z"
    }
   },
   "outputs": [
    {
     "data": {
      "text/plain": [
       "16472"
      ]
     },
     "execution_count": 108,
     "metadata": {},
     "output_type": "execute_result"
    }
   ],
   "source": [
    "# remove comments fewer than 6 words\n",
    "all_df = all_df[all_df['clean_text_word_count'] >= 6].reset_index(drop=True)\n",
    "len(all_df)"
   ]
  },
  {
   "cell_type": "code",
   "execution_count": 109,
   "id": "291365c0",
   "metadata": {
    "ExecuteTime": {
     "end_time": "2022-09-23T17:13:06.899833Z",
     "start_time": "2022-09-23T17:13:06.887261Z"
    }
   },
   "outputs": [],
   "source": [
    "#all_df[all_df['clean_text_word_count']<=5].to_csv('output/test_short_comments.csv')"
   ]
  },
  {
   "cell_type": "code",
   "execution_count": 164,
   "id": "ecf0824a",
   "metadata": {
    "ExecuteTime": {
     "end_time": "2022-09-24T09:10:34.402706Z",
     "start_time": "2022-09-24T09:10:34.380957Z"
    }
   },
   "outputs": [
    {
     "data": {
      "text/plain": [
       "count    16472.000000\n",
       "mean        14.132710\n",
       "std         11.494345\n",
       "min          1.000000\n",
       "25%          7.000000\n",
       "50%         11.000000\n",
       "75%         18.000000\n",
       "max        346.000000\n",
       "Name: clean_text_word_count, dtype: float64"
      ]
     },
     "execution_count": 164,
     "metadata": {},
     "output_type": "execute_result"
    }
   ],
   "source": [
    "all_df['clean_text_word_count'].describe()"
   ]
  },
  {
   "cell_type": "markdown",
   "id": "0fee0f24",
   "metadata": {},
   "source": [
    "## Word Cloud"
   ]
  },
  {
   "cell_type": "code",
   "execution_count": 111,
   "id": "6297d612",
   "metadata": {
    "ExecuteTime": {
     "end_time": "2022-09-23T17:13:08.713527Z",
     "start_time": "2022-09-23T17:13:07.939918Z"
    }
   },
   "outputs": [
    {
     "data": {
      "image/png": "[encoded data removed]",
      "text/plain": [
       "<PIL.Image.Image image mode=RGB size=400x200 at 0x15F5BC520>"
      ]
     },
     "execution_count": 111,
     "metadata": {},
     "output_type": "execute_result"
    }
   ],
   "source": [
    "# Import the wordcloud library\n",
    "from wordcloud import WordCloud\n",
    "# Join the different processed titles together.\n",
    "long_string = ','.join(list(all_df['clean_text'].values))\n",
    "# Create a WordCloud object\n",
    "wordcloud = WordCloud(background_color=\"white\", max_words=5000, contour_width=3, contour_color='steelblue')\n",
    "# Generate a word cloud\n",
    "wordcloud.generate(long_string)\n",
    "# Visualize the word cloud\n",
    "wordcloud.to_image()"
   ]
  },
  {
   "cell_type": "code",
   "execution_count": null,
   "id": "cc7df800",
   "metadata": {},
   "outputs": [],
   "source": []
  },
  {
   "cell_type": "markdown",
   "id": "2d287deb",
   "metadata": {},
   "source": [
    "## Topic identification"
   ]
  },
  {
   "cell_type": "code",
   "execution_count": null,
   "id": "f7e1f7df",
   "metadata": {
    "ExecuteTime": {
     "end_time": "2022-09-23T12:14:17.375499Z",
     "start_time": "2022-09-23T12:14:17.148976Z"
    }
   },
   "outputs": [],
   "source": [
    "rta_tfidfs = vectorizer.fit_transform(all_df['clean_text'].to_list())"
   ]
  },
  {
   "cell_type": "code",
   "execution_count": null,
   "id": "7dcd18ac",
   "metadata": {
    "ExecuteTime": {
     "end_time": "2022-09-23T12:14:17.848584Z",
     "start_time": "2022-09-23T12:14:17.838079Z"
    }
   },
   "outputs": [],
   "source": [
    "rta_tfidfs.shape"
   ]
  },
  {
   "cell_type": "code",
   "execution_count": null,
   "id": "f5ca69ce",
   "metadata": {
    "ExecuteTime": {
     "end_time": "2022-09-23T16:33:27.537844Z",
     "start_time": "2022-09-23T16:33:23.613453Z"
    }
   },
   "outputs": [],
   "source": [
    "df_tf_idf = pd.DataFrame(\n",
    "    data=rta_tfidfs.todense().round(2),\n",
    "    columns=vectorizer.get_feature_names_out()\n",
    ")"
   ]
  },
  {
   "cell_type": "code",
   "execution_count": null,
   "id": "392ffa2b",
   "metadata": {
    "ExecuteTime": {
     "end_time": "2022-09-23T16:34:39.498792Z",
     "start_time": "2022-09-23T16:34:39.481511Z"
    }
   },
   "outputs": [],
   "source": [
    "df_tf_idf.iloc[0]"
   ]
  },
  {
   "cell_type": "code",
   "execution_count": null,
   "id": "0f252d28",
   "metadata": {
    "ExecuteTime": {
     "end_time": "2022-09-23T12:14:19.606542Z",
     "start_time": "2022-09-23T12:14:19.428293Z"
    }
   },
   "outputs": [],
   "source": [
    "sns.distplot(vectorizer.idf_)"
   ]
  },
  {
   "cell_type": "code",
   "execution_count": null,
   "id": "b0e87875",
   "metadata": {
    "ExecuteTime": {
     "end_time": "2022-09-23T12:12:47.601545Z",
     "start_time": "2022-09-23T12:12:47.476854Z"
    }
   },
   "outputs": [],
   "source": [
    "words = np.array(vectorizer.get_feature_names())"
   ]
  },
  {
   "cell_type": "code",
   "execution_count": null,
   "id": "8ee61aed",
   "metadata": {
    "ExecuteTime": {
     "end_time": "2022-09-23T12:14:39.823464Z",
     "start_time": "2022-09-23T12:14:38.628488Z"
    }
   },
   "outputs": [],
   "source": [
    "for i in range(len(df)):\n",
    "    print('\\n', all_df['comment_id'].iloc[i])\n",
    "    rta_words = words[rta_tfidfs[i].nonzero()[1]]\n",
    "    idf_values = rta_tfidfs[i][rta_tfidfs[i].todense() > 0]\n",
    "    # convert idf_values to array type from `matrix`\n",
    "    idf_values = np.array(idf_values).reshape(-1)\n",
    "\n",
    "    word_tfidfs = sorted(zip(rta_words, idf_values), key=lambda x: x[1], reverse=True)\n",
    "    print('\\n top words:')\n",
    "    pprint(word_tfidfs[:10])\n",
    "    print('\\n bottom words:')\n",
    "    pprint(word_tfidfs[-10:])"
   ]
  },
  {
   "cell_type": "code",
   "execution_count": null,
   "id": "24e7101e",
   "metadata": {
    "ExecuteTime": {
     "end_time": "2022-09-23T12:15:30.818116Z",
     "start_time": "2022-09-23T12:15:30.792615Z"
    }
   },
   "outputs": [],
   "source": [
    "vectorizer.stop_words_"
   ]
  },
  {
   "cell_type": "code",
   "execution_count": null,
   "id": "e7d8ef67",
   "metadata": {
    "ExecuteTime": {
     "end_time": "2022-09-23T12:15:50.624804Z",
     "start_time": "2022-09-23T12:15:50.563710Z"
    }
   },
   "outputs": [],
   "source": [
    "sorted(zip(words, vectorizer.idf_), key=lambda x: x[1], reverse=True)"
   ]
  },
  {
   "cell_type": "code",
   "execution_count": null,
   "id": "442225d8",
   "metadata": {},
   "outputs": [],
   "source": []
  },
  {
   "cell_type": "code",
   "execution_count": null,
   "id": "5c95dcdb",
   "metadata": {
    "ExecuteTime": {
     "end_time": "2022-09-21T01:07:35.312762Z",
     "start_time": "2022-09-21T01:07:35.309993Z"
    }
   },
   "outputs": [],
   "source": [
    "\n",
    "    \n",
    "def sentence_to_n_grams(sentence, n=5):\n",
    "    \"\"\"\n",
    "    To-do: give a minimum N and maximum N\n",
    "    \"\"\"\n",
    "    sentence = clean_sentence(sentence)\n",
    "    tokens = sentence.split()\n",
    "\n",
    "    if len(tokens) < n:\n",
    "        return None\n",
    "\n",
    "    grams = []\n",
    "    for i in range(len(tokens)):\n",
    "        if i + n > len(tokens):\n",
    "            break\n",
    "        grams.append(' '.join(tokens[i: i + n]))\n",
    "    return grams\n",
    "\n",
    "\n",
    "def flat_list(lists_of_ngrams):\n",
    "    flat = []\n",
    "    for list_of_ngram in lists_of_ngrams:\n",
    "        flat.extend(list_of_ngram)\n",
    "    return flat\n"
   ]
  },
  {
   "cell_type": "code",
   "execution_count": null,
   "id": "33f9b376",
   "metadata": {
    "ExecuteTime": {
     "end_time": "2022-09-21T01:12:51.496275Z",
     "start_time": "2022-09-21T01:12:51.490885Z"
    }
   },
   "outputs": [],
   "source": [
    "clean_sentence(all_df['text'].values[13])"
   ]
  },
  {
   "cell_type": "code",
   "execution_count": null,
   "id": "dd5691d4",
   "metadata": {
    "ExecuteTime": {
     "end_time": "2022-09-21T01:15:43.282609Z",
     "start_time": "2022-09-21T01:15:43.277121Z"
    }
   },
   "outputs": [],
   "source": [
    "sentence_to_n_grams(all_df['text'].values[13])"
   ]
  },
  {
   "cell_type": "code",
   "execution_count": null,
   "id": "2c8a1090",
   "metadata": {},
   "outputs": [],
   "source": []
  }
 ],
 "metadata": {
  "kernelspec": {
   "display_name": "Python 3 (ipykernel)",
   "language": "python",
   "name": "python3"
  },
  "language_info": {
   "codemirror_mode": {
    "name": "ipython",
    "version": 3
   },
   "file_extension": ".py",
   "mimetype": "text/x-python",
   "name": "python",
   "nbconvert_exporter": "python",
   "pygments_lexer": "ipython3",
   "version": "3.9.12"
  }
 },
 "nbformat": 4,
 "nbformat_minor": 5
}

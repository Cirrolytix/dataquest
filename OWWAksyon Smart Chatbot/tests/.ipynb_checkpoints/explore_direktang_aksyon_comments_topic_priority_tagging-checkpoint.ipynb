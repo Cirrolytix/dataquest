{
 "cells": [
  {
   "cell_type": "code",
   "execution_count": 2,
   "id": "851cc907",
   "metadata": {
    "ExecuteTime": {
     "end_time": "2022-09-27T14:47:16.461055Z",
     "start_time": "2022-09-27T14:47:16.452288Z"
    }
   },
   "outputs": [],
   "source": [
    "import sys\n",
    "sys.path.append(\"..\")"
   ]
  },
  {
   "cell_type": "code",
   "execution_count": 23,
   "id": "57d621a6",
   "metadata": {
    "ExecuteTime": {
     "end_time": "2022-09-27T16:21:01.693606Z",
     "start_time": "2022-09-27T16:21:01.432085Z"
    },
    "scrolled": true
   },
   "outputs": [],
   "source": [
    "import numpy as np\n",
    "import pandas as pd\n",
    "\n",
    "import matplotlib.pyplot as plt\n",
    "import seaborn as sns\n",
    "\n",
    "from re import sub\n",
    "from pprint import pprint\n",
    "from sklearn.feature_extraction.text import TfidfVectorizer\n",
    "\n",
    "from nltk.corpus import stopwords\n",
    "from nltk import ngrams\n",
    "\n",
    "from src.utils.clean_comments import CommentCleaner\n",
    "from src.utils.guess_gender import GenderGuesser\n",
    "\n",
    "import gspread as gs\n",
    "import os"
   ]
  },
  {
   "cell_type": "code",
   "execution_count": 4,
   "id": "fa59aca0",
   "metadata": {
    "ExecuteTime": {
     "end_time": "2022-09-27T14:47:17.536824Z",
     "start_time": "2022-09-27T14:47:17.481187Z"
    }
   },
   "outputs": [],
   "source": [
    "file_dir = '../data/comments/'\n",
    "df_list = []\n",
    "for fn in [tf for tf in os.listdir(file_dir) if ('.csv' in tf) & (~tf.endswith('_.csv'))]:\n",
    "    df = pd.read_csv(file_dir+fn)\n",
    "    df['date_aired'] = pd.to_datetime(fn.split('_')[-1].split('.')[0]).strftime('%Y-%m-%d')\n",
    "    df_list.append(df[['date_aired','sender_name','text']])"
   ]
  },
  {
   "cell_type": "code",
   "execution_count": 5,
   "id": "66a4a0f6",
   "metadata": {
    "ExecuteTime": {
     "end_time": "2022-09-27T14:47:17.669524Z",
     "start_time": "2022-09-27T14:47:17.538127Z"
    }
   },
   "outputs": [
    {
     "data": {
      "text/html": [
       "<div>\n",
       "<style scoped>\n",
       "    .dataframe tbody tr th:only-of-type {\n",
       "        vertical-align: middle;\n",
       "    }\n",
       "\n",
       "    .dataframe tbody tr th {\n",
       "        vertical-align: top;\n",
       "    }\n",
       "\n",
       "    .dataframe thead th {\n",
       "        text-align: right;\n",
       "    }\n",
       "</style>\n",
       "<table border=\"1\" class=\"dataframe\">\n",
       "  <thead>\n",
       "    <tr style=\"text-align: right;\">\n",
       "      <th></th>\n",
       "      <th>comment_id</th>\n",
       "      <th>date_aired</th>\n",
       "      <th>sender_name</th>\n",
       "      <th>text</th>\n",
       "    </tr>\n",
       "  </thead>\n",
       "  <tbody>\n",
       "    <tr>\n",
       "      <th>0</th>\n",
       "      <td>202207070061</td>\n",
       "      <td>2022-07-07</td>\n",
       "      <td>John Godfrey</td>\n",
       "      <td>Palala lamang po sa mga ofws sa ksa wag mameke...</td>\n",
       "    </tr>\n",
       "    <tr>\n",
       "      <th>1</th>\n",
       "      <td>202207070062</td>\n",
       "      <td>2022-07-07</td>\n",
       "      <td>Rowena Ascrate</td>\n",
       "      <td>Hello,watching po from uae</td>\n",
       "    </tr>\n",
       "    <tr>\n",
       "      <th>2</th>\n",
       "      <td>202207070063</td>\n",
       "      <td>2022-07-07</td>\n",
       "      <td>Zhai Vhie Gimoro Francisco</td>\n",
       "      <td>Help nyo po aq sir arnel</td>\n",
       "    </tr>\n",
       "    <tr>\n",
       "      <th>3</th>\n",
       "      <td>202207070064</td>\n",
       "      <td>2022-07-07</td>\n",
       "      <td>Cbbc Fort Bonifacio SharjahOutreach</td>\n",
       "      <td>Good evening po Sirs and Mam</td>\n",
       "    </tr>\n",
       "    <tr>\n",
       "      <th>4</th>\n",
       "      <td>202207070065</td>\n",
       "      <td>2022-07-07</td>\n",
       "      <td>Agripina Esmajer</td>\n",
       "      <td>Hi Sir Arnel good evening Po!watching from San...</td>\n",
       "    </tr>\n",
       "    <tr>\n",
       "      <th>...</th>\n",
       "      <td>...</td>\n",
       "      <td>...</td>\n",
       "      <td>...</td>\n",
       "      <td>...</td>\n",
       "    </tr>\n",
       "    <tr>\n",
       "      <th>26214</th>\n",
       "      <td>202207211605</td>\n",
       "      <td>2022-07-21</td>\n",
       "      <td>Sarupac Jessa</td>\n",
       "      <td>Magandang araw po saan po pwede lumapit kung m...</td>\n",
       "    </tr>\n",
       "    <tr>\n",
       "      <th>26215</th>\n",
       "      <td>202207211606</td>\n",
       "      <td>2022-07-21</td>\n",
       "      <td>Sarupac Jessa</td>\n",
       "      <td>Magandang araw po saan po pwede lumapit kung m...</td>\n",
       "    </tr>\n",
       "    <tr>\n",
       "      <th>26216</th>\n",
       "      <td>202207211607</td>\n",
       "      <td>2022-07-21</td>\n",
       "      <td>Muslimah Balik Islam</td>\n",
       "      <td>From U.A.E pano po mag aply s owwa scholarship</td>\n",
       "    </tr>\n",
       "    <tr>\n",
       "      <th>26217</th>\n",
       "      <td>202207211608</td>\n",
       "      <td>2022-07-21</td>\n",
       "      <td>Lina Gabis</td>\n",
       "      <td>Sir tanong lang nagrenew kasi kami ng mga kasa...</td>\n",
       "    </tr>\n",
       "    <tr>\n",
       "      <th>26218</th>\n",
       "      <td>202207211609</td>\n",
       "      <td>2022-07-21</td>\n",
       "      <td>Muslimah Balik Islam</td>\n",
       "      <td>From U.a.e po pano po mag aply sa owwa scholar...</td>\n",
       "    </tr>\n",
       "  </tbody>\n",
       "</table>\n",
       "<p>26219 rows × 4 columns</p>\n",
       "</div>"
      ],
      "text/plain": [
       "         comment_id  date_aired                          sender_name  \\\n",
       "0      202207070061  2022-07-07                         John Godfrey   \n",
       "1      202207070062  2022-07-07                       Rowena Ascrate   \n",
       "2      202207070063  2022-07-07           Zhai Vhie Gimoro Francisco   \n",
       "3      202207070064  2022-07-07  Cbbc Fort Bonifacio SharjahOutreach   \n",
       "4      202207070065  2022-07-07                     Agripina Esmajer   \n",
       "...             ...         ...                                  ...   \n",
       "26214  202207211605  2022-07-21                        Sarupac Jessa   \n",
       "26215  202207211606  2022-07-21                        Sarupac Jessa   \n",
       "26216  202207211607  2022-07-21                 Muslimah Balik Islam   \n",
       "26217  202207211608  2022-07-21                           Lina Gabis   \n",
       "26218  202207211609  2022-07-21                 Muslimah Balik Islam   \n",
       "\n",
       "                                                    text  \n",
       "0      Palala lamang po sa mga ofws sa ksa wag mameke...  \n",
       "1                             Hello,watching po from uae  \n",
       "2                               Help nyo po aq sir arnel  \n",
       "3                           Good evening po Sirs and Mam  \n",
       "4      Hi Sir Arnel good evening Po!watching from San...  \n",
       "...                                                  ...  \n",
       "26214  Magandang araw po saan po pwede lumapit kung m...  \n",
       "26215  Magandang araw po saan po pwede lumapit kung m...  \n",
       "26216     From U.A.E pano po mag aply s owwa scholarship  \n",
       "26217  Sir tanong lang nagrenew kasi kami ng mga kasa...  \n",
       "26218  From U.a.e po pano po mag aply sa owwa scholar...  \n",
       "\n",
       "[26219 rows x 4 columns]"
      ]
     },
     "execution_count": 5,
     "metadata": {},
     "output_type": "execute_result"
    }
   ],
   "source": [
    "all_df = pd.concat(df_list).reset_index().rename(columns={'index':'comment_id'})\n",
    "all_df['comment_id'] = all_df['comment_id']+61\n",
    "all_df['comment_id']= all_df.apply(lambda x: \\\n",
    "                                   x['date_aired'].replace('-','')+str(x['comment_id']).rjust(4, '0'), axis=1)\n",
    "all_df"
   ]
  },
  {
   "cell_type": "code",
   "execution_count": 6,
   "id": "db1de843",
   "metadata": {
    "ExecuteTime": {
     "end_time": "2022-09-27T14:47:17.674603Z",
     "start_time": "2022-09-27T14:47:17.670252Z"
    }
   },
   "outputs": [],
   "source": [
    "# drop null rows\n",
    "all_df = all_df[~all_df['text'].isna()].reset_index(drop=True)"
   ]
  },
  {
   "cell_type": "markdown",
   "id": "5af38b0f",
   "metadata": {},
   "source": [
    "### Clean comments"
   ]
  },
  {
   "cell_type": "code",
   "execution_count": 7,
   "id": "69ab81a2",
   "metadata": {
    "ExecuteTime": {
     "end_time": "2022-09-27T14:47:17.680019Z",
     "start_time": "2022-09-27T14:47:17.675365Z"
    }
   },
   "outputs": [
    {
     "data": {
      "text/plain": [
       "31"
      ]
     },
     "execution_count": 7,
     "metadata": {},
     "output_type": "execute_result"
    }
   ],
   "source": [
    "cleaner = CommentCleaner()\n",
    "len(cleaner.get_padwords())"
   ]
  },
  {
   "cell_type": "code",
   "execution_count": 8,
   "id": "0b663031",
   "metadata": {
    "ExecuteTime": {
     "end_time": "2022-09-27T14:47:42.405925Z",
     "start_time": "2022-09-27T14:47:17.681109Z"
    }
   },
   "outputs": [],
   "source": [
    "all_df['clean_text'] = all_df['text'].apply(lambda x: cleaner.clean_comment(x))\n",
    "all_df['clean_text_word_count'] = all_df['clean_text'].apply(lambda x: len(x.split(' ')))"
   ]
  },
  {
   "cell_type": "code",
   "execution_count": 9,
   "id": "00a06cee",
   "metadata": {
    "ExecuteTime": {
     "end_time": "2022-09-27T14:47:42.425102Z",
     "start_time": "2022-09-27T14:47:42.406734Z"
    }
   },
   "outputs": [],
   "source": [
    "all_df['text_word_count'] = all_df['text'].apply(lambda x: len(x.split(' ')))"
   ]
  },
  {
   "cell_type": "code",
   "execution_count": 10,
   "id": "59988d9f",
   "metadata": {
    "ExecuteTime": {
     "end_time": "2022-09-27T14:47:42.431924Z",
     "start_time": "2022-09-27T14:47:42.426202Z"
    }
   },
   "outputs": [
    {
     "data": {
      "text/plain": [
       "19032"
      ]
     },
     "execution_count": 10,
     "metadata": {},
     "output_type": "execute_result"
    }
   ],
   "source": [
    "# remove comments fewer than 6 words\n",
    "all_df = all_df[all_df['text_word_count'] >= 6].reset_index(drop=True)\n",
    "len(all_df)"
   ]
  },
  {
   "cell_type": "code",
   "execution_count": 11,
   "id": "6de1e528",
   "metadata": {
    "ExecuteTime": {
     "end_time": "2022-09-27T14:47:42.437570Z",
     "start_time": "2022-09-27T14:47:42.433700Z"
    }
   },
   "outputs": [
    {
     "data": {
      "text/plain": [
       "17536"
      ]
     },
     "execution_count": 11,
     "metadata": {},
     "output_type": "execute_result"
    }
   ],
   "source": [
    "# remove comments empty text after cleaning\n",
    "all_df = all_df[all_df['clean_text_word_count'] >= 2].reset_index(drop=True)\n",
    "len(all_df)"
   ]
  },
  {
   "cell_type": "code",
   "execution_count": 12,
   "id": "ecf0824a",
   "metadata": {
    "ExecuteTime": {
     "end_time": "2022-09-27T14:47:42.442217Z",
     "start_time": "2022-09-27T14:47:42.438429Z"
    }
   },
   "outputs": [
    {
     "data": {
      "text/plain": [
       "count    17536.000000\n",
       "mean         9.062044\n",
       "std          8.038674\n",
       "min          2.000000\n",
       "25%          4.000000\n",
       "50%          7.000000\n",
       "75%         11.000000\n",
       "max        207.000000\n",
       "Name: clean_text_word_count, dtype: float64"
      ]
     },
     "execution_count": 12,
     "metadata": {},
     "output_type": "execute_result"
    }
   ],
   "source": [
    "all_df['clean_text_word_count'].describe()"
   ]
  },
  {
   "cell_type": "markdown",
   "id": "0fee0f24",
   "metadata": {},
   "source": [
    "### Guess gender of comment sender"
   ]
  },
  {
   "cell_type": "code",
   "execution_count": 13,
   "id": "37dda443",
   "metadata": {
    "ExecuteTime": {
     "end_time": "2022-09-27T14:47:42.449010Z",
     "start_time": "2022-09-27T14:47:42.445542Z"
    }
   },
   "outputs": [],
   "source": [
    "gg = GenderGuesser()"
   ]
  },
  {
   "cell_type": "code",
   "execution_count": 17,
   "id": "ef6c2bf6",
   "metadata": {
    "ExecuteTime": {
     "end_time": "2022-09-27T14:51:20.270461Z",
     "start_time": "2022-09-27T14:51:08.364925Z"
    }
   },
   "outputs": [],
   "source": [
    "#func_result = [(x,gg.guess_gender(x)) for x in all_df['sender_name'].values[0:100]]"
   ]
  },
  {
   "cell_type": "code",
   "execution_count": 19,
   "id": "89f48f6e",
   "metadata": {
    "ExecuteTime": {
     "end_time": "2022-09-27T15:27:49.642241Z",
     "start_time": "2022-09-27T14:52:33.675682Z"
    }
   },
   "outputs": [
    {
     "data": {
      "text/plain": [
       "feminine            8573\n",
       "unknown             5402\n",
       "masculine           2523\n",
       "androgynous          456\n",
       "mostly_feminine      317\n",
       "mostly_masculine     265\n",
       "Name: gender, dtype: int64"
      ]
     },
     "execution_count": 19,
     "metadata": {},
     "output_type": "execute_result"
    }
   ],
   "source": [
    "all_df['gender'] = all_df['sender_name'].apply(lambda x: gg.guess_gender(x))\n",
    "all_df['gender'].value_counts()"
   ]
  },
  {
   "cell_type": "code",
   "execution_count": 20,
   "id": "a22454d9",
   "metadata": {
    "ExecuteTime": {
     "end_time": "2022-09-27T16:03:31.063952Z",
     "start_time": "2022-09-27T16:03:31.040206Z"
    }
   },
   "outputs": [
    {
     "data": {
      "text/html": [
       "<div>\n",
       "<style scoped>\n",
       "    .dataframe tbody tr th:only-of-type {\n",
       "        vertical-align: middle;\n",
       "    }\n",
       "\n",
       "    .dataframe tbody tr th {\n",
       "        vertical-align: top;\n",
       "    }\n",
       "\n",
       "    .dataframe thead th {\n",
       "        text-align: right;\n",
       "    }\n",
       "</style>\n",
       "<table border=\"1\" class=\"dataframe\">\n",
       "  <thead>\n",
       "    <tr style=\"text-align: right;\">\n",
       "      <th></th>\n",
       "      <th>comment_id</th>\n",
       "      <th>date_aired</th>\n",
       "      <th>sender_name</th>\n",
       "      <th>text</th>\n",
       "      <th>clean_text</th>\n",
       "      <th>clean_text_word_count</th>\n",
       "      <th>text_word_count</th>\n",
       "      <th>gender</th>\n",
       "    </tr>\n",
       "  </thead>\n",
       "  <tbody>\n",
       "    <tr>\n",
       "      <th>0</th>\n",
       "      <td>202207070061</td>\n",
       "      <td>2022-07-07</td>\n",
       "      <td>John Godfrey</td>\n",
       "      <td>Palala lamang po sa mga ofws sa ksa wag mameke...</td>\n",
       "      <td>palala ofws ksa wag mameke dokyumento nahuli n...</td>\n",
       "      <td>8</td>\n",
       "      <td>17</td>\n",
       "      <td>masculine</td>\n",
       "    </tr>\n",
       "    <tr>\n",
       "      <th>1</th>\n",
       "      <td>202207070065</td>\n",
       "      <td>2022-07-07</td>\n",
       "      <td>Agripina Esmajer</td>\n",
       "      <td>Hi Sir Arnel good evening Po!watching from San...</td>\n",
       "      <td>joaquin iloilo yrs dole akap financial assista...</td>\n",
       "      <td>8</td>\n",
       "      <td>22</td>\n",
       "      <td>feminine</td>\n",
       "    </tr>\n",
       "    <tr>\n",
       "      <th>2</th>\n",
       "      <td>202207070066</td>\n",
       "      <td>2022-07-07</td>\n",
       "      <td>Merybeth Sumagpao</td>\n",
       "      <td>Hello sir and ma'am Sana matulungan nyo nman a...</td>\n",
       "      <td>matulungan 14year abroad pandemic hindi balik ...</td>\n",
       "      <td>12</td>\n",
       "      <td>32</td>\n",
       "      <td>feminine</td>\n",
       "    </tr>\n",
       "    <tr>\n",
       "      <th>3</th>\n",
       "      <td>202207070067</td>\n",
       "      <td>2022-07-07</td>\n",
       "      <td>Airam Ocab Aziter</td>\n",
       "      <td>Sir arnel and all the staff, Good evening po! ...</td>\n",
       "      <td>staff ofw kuwait years member owwa lockdown 20...</td>\n",
       "      <td>13</td>\n",
       "      <td>37</td>\n",
       "      <td>feminine</td>\n",
       "    </tr>\n",
       "    <tr>\n",
       "      <th>4</th>\n",
       "      <td>202207070068</td>\n",
       "      <td>2022-07-07</td>\n",
       "      <td>Karen May Mendiola</td>\n",
       "      <td>Paano Kong Hindi Naman distress gusto na lng t...</td>\n",
       "      <td>hindi distress gusto 22yrs lebanon active owwa...</td>\n",
       "      <td>12</td>\n",
       "      <td>35</td>\n",
       "      <td>feminine</td>\n",
       "    </tr>\n",
       "    <tr>\n",
       "      <th>...</th>\n",
       "      <td>...</td>\n",
       "      <td>...</td>\n",
       "      <td>...</td>\n",
       "      <td>...</td>\n",
       "      <td>...</td>\n",
       "      <td>...</td>\n",
       "      <td>...</td>\n",
       "      <td>...</td>\n",
       "    </tr>\n",
       "    <tr>\n",
       "      <th>17531</th>\n",
       "      <td>202207211605</td>\n",
       "      <td>2022-07-21</td>\n",
       "      <td>Sarupac Jessa</td>\n",
       "      <td>Magandang araw po saan po pwede lumapit kung m...</td>\n",
       "      <td>araw lumapit repatriation reuest agency oman h...</td>\n",
       "      <td>19</td>\n",
       "      <td>57</td>\n",
       "      <td>unknown</td>\n",
       "    </tr>\n",
       "    <tr>\n",
       "      <th>17532</th>\n",
       "      <td>202207211606</td>\n",
       "      <td>2022-07-21</td>\n",
       "      <td>Sarupac Jessa</td>\n",
       "      <td>Magandang araw po saan po pwede lumapit kung m...</td>\n",
       "      <td>araw lumapit repatriation reuest agency oman h...</td>\n",
       "      <td>21</td>\n",
       "      <td>51</td>\n",
       "      <td>unknown</td>\n",
       "    </tr>\n",
       "    <tr>\n",
       "      <th>17533</th>\n",
       "      <td>202207211607</td>\n",
       "      <td>2022-07-21</td>\n",
       "      <td>Muslimah Balik Islam</td>\n",
       "      <td>From U.A.E pano po mag aply s owwa scholarship</td>\n",
       "      <td>aply owwa scholarship</td>\n",
       "      <td>3</td>\n",
       "      <td>9</td>\n",
       "      <td>feminine</td>\n",
       "    </tr>\n",
       "    <tr>\n",
       "      <th>17534</th>\n",
       "      <td>202207211608</td>\n",
       "      <td>2022-07-21</td>\n",
       "      <td>Lina Gabis</td>\n",
       "      <td>Sir tanong lang nagrenew kasi kami ng mga kasa...</td>\n",
       "      <td>tanong nagrenew kasama polo owwa araw bago pap...</td>\n",
       "      <td>12</td>\n",
       "      <td>27</td>\n",
       "      <td>feminine</td>\n",
       "    </tr>\n",
       "    <tr>\n",
       "      <th>17535</th>\n",
       "      <td>202207211609</td>\n",
       "      <td>2022-07-21</td>\n",
       "      <td>Muslimah Balik Islam</td>\n",
       "      <td>From U.a.e po pano po mag aply sa owwa scholar...</td>\n",
       "      <td>aply owwa scholarship</td>\n",
       "      <td>3</td>\n",
       "      <td>10</td>\n",
       "      <td>feminine</td>\n",
       "    </tr>\n",
       "  </tbody>\n",
       "</table>\n",
       "<p>17536 rows × 8 columns</p>\n",
       "</div>"
      ],
      "text/plain": [
       "         comment_id  date_aired           sender_name  \\\n",
       "0      202207070061  2022-07-07          John Godfrey   \n",
       "1      202207070065  2022-07-07      Agripina Esmajer   \n",
       "2      202207070066  2022-07-07     Merybeth Sumagpao   \n",
       "3      202207070067  2022-07-07     Airam Ocab Aziter   \n",
       "4      202207070068  2022-07-07    Karen May Mendiola   \n",
       "...             ...         ...                   ...   \n",
       "17531  202207211605  2022-07-21         Sarupac Jessa   \n",
       "17532  202207211606  2022-07-21         Sarupac Jessa   \n",
       "17533  202207211607  2022-07-21  Muslimah Balik Islam   \n",
       "17534  202207211608  2022-07-21            Lina Gabis   \n",
       "17535  202207211609  2022-07-21  Muslimah Balik Islam   \n",
       "\n",
       "                                                    text  \\\n",
       "0      Palala lamang po sa mga ofws sa ksa wag mameke...   \n",
       "1      Hi Sir Arnel good evening Po!watching from San...   \n",
       "2      Hello sir and ma'am Sana matulungan nyo nman a...   \n",
       "3      Sir arnel and all the staff, Good evening po! ...   \n",
       "4      Paano Kong Hindi Naman distress gusto na lng t...   \n",
       "...                                                  ...   \n",
       "17531  Magandang araw po saan po pwede lumapit kung m...   \n",
       "17532  Magandang araw po saan po pwede lumapit kung m...   \n",
       "17533     From U.A.E pano po mag aply s owwa scholarship   \n",
       "17534  Sir tanong lang nagrenew kasi kami ng mga kasa...   \n",
       "17535  From U.a.e po pano po mag aply sa owwa scholar...   \n",
       "\n",
       "                                              clean_text  \\\n",
       "0      palala ofws ksa wag mameke dokyumento nahuli n...   \n",
       "1      joaquin iloilo yrs dole akap financial assista...   \n",
       "2      matulungan 14year abroad pandemic hindi balik ...   \n",
       "3      staff ofw kuwait years member owwa lockdown 20...   \n",
       "4      hindi distress gusto 22yrs lebanon active owwa...   \n",
       "...                                                  ...   \n",
       "17531  araw lumapit repatriation reuest agency oman h...   \n",
       "17532  araw lumapit repatriation reuest agency oman h...   \n",
       "17533                              aply owwa scholarship   \n",
       "17534  tanong nagrenew kasama polo owwa araw bago pap...   \n",
       "17535                              aply owwa scholarship   \n",
       "\n",
       "       clean_text_word_count  text_word_count     gender  \n",
       "0                          8               17  masculine  \n",
       "1                          8               22   feminine  \n",
       "2                         12               32   feminine  \n",
       "3                         13               37   feminine  \n",
       "4                         12               35   feminine  \n",
       "...                      ...              ...        ...  \n",
       "17531                     19               57    unknown  \n",
       "17532                     21               51    unknown  \n",
       "17533                      3                9   feminine  \n",
       "17534                     12               27   feminine  \n",
       "17535                      3               10   feminine  \n",
       "\n",
       "[17536 rows x 8 columns]"
      ]
     },
     "execution_count": 20,
     "metadata": {},
     "output_type": "execute_result"
    }
   ],
   "source": [
    "all_df"
   ]
  },
  {
   "cell_type": "code",
   "execution_count": 21,
   "id": "da1ef93b",
   "metadata": {
    "ExecuteTime": {
     "end_time": "2022-09-27T16:03:44.997548Z",
     "start_time": "2022-09-27T16:03:44.965816Z"
    }
   },
   "outputs": [],
   "source": [
    "all_df['gender'].to_csv('../output/all_comments.csv', index=False )"
   ]
  },
  {
   "cell_type": "markdown",
   "id": "8ac682be",
   "metadata": {
    "ExecuteTime": {
     "start_time": "2022-09-27T14:41:39.705Z"
    }
   },
   "source": [
    "### Detect topic per comment using previous results"
   ]
  },
  {
   "cell_type": "code",
   "execution_count": 24,
   "id": "449b9b41",
   "metadata": {
    "ExecuteTime": {
     "end_time": "2022-09-27T16:21:33.557254Z",
     "start_time": "2022-09-27T16:21:33.542136Z"
    }
   },
   "outputs": [],
   "source": [
    "gc = gs.service_account(filename='../creds/service_account.json')"
   ]
  },
  {
   "cell_type": "code",
   "execution_count": 25,
   "id": "37a16eb3",
   "metadata": {
    "ExecuteTime": {
     "end_time": "2022-09-27T16:22:22.987039Z",
     "start_time": "2022-09-27T16:22:22.175950Z"
    }
   },
   "outputs": [],
   "source": [
    "sheets_url = \"https://docs.google.com/spreadsheets/d/1nksszctHCK_Q9NiMNuVwkCPLmu4TsciV7fg6zTSmIsg\"\n",
    "sh = gc.open_by_url(sheets_url)\n",
    "ws = sh.worksheet('Table')\n",
    "df = pd.DataFrame(ws.get_all_records())\n",
    "df.head()"
   ]
  },
  {
   "cell_type": "code",
   "execution_count": 26,
   "id": "65bb460a",
   "metadata": {
    "ExecuteTime": {
     "end_time": "2022-09-27T16:22:25.609810Z",
     "start_time": "2022-09-27T16:22:25.599718Z"
    }
   },
   "outputs": [
    {
     "data": {
      "text/plain": [
       "<Spreadsheet 'Keyword Service Prioritization  Matrix' id:1nksszctHCK_Q9NiMNuVwkCPLmu4TsciV7fg6zTSmIsg>"
      ]
     },
     "execution_count": 26,
     "metadata": {},
     "output_type": "execute_result"
    }
   ],
   "source": []
  },
  {
   "cell_type": "code",
   "execution_count": null,
   "id": "a032770b",
   "metadata": {},
   "outputs": [],
   "source": []
  }
 ],
 "metadata": {
  "kernelspec": {
   "display_name": "Python 3 (ipykernel)",
   "language": "python",
   "name": "python3"
  },
  "language_info": {
   "codemirror_mode": {
    "name": "ipython",
    "version": 3
   },
   "file_extension": ".py",
   "mimetype": "text/x-python",
   "name": "python",
   "nbconvert_exporter": "python",
   "pygments_lexer": "ipython3",
   "version": "3.9.12"
  }
 },
 "nbformat": 4,
 "nbformat_minor": 5
}

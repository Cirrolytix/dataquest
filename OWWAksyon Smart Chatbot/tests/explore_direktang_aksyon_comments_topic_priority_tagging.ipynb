{
 "cells": [
  {
   "cell_type": "code",
   "execution_count": 1,
   "id": "851cc907",
   "metadata": {
    "ExecuteTime": {
     "end_time": "2022-09-27T18:33:05.145421Z",
     "start_time": "2022-09-27T18:33:05.139226Z"
    }
   },
   "outputs": [],
   "source": [
    "import sys\n",
    "sys.path.append(\"..\")"
   ]
  },
  {
   "cell_type": "code",
   "execution_count": 2,
   "id": "57d621a6",
   "metadata": {
    "ExecuteTime": {
     "end_time": "2022-09-27T18:33:06.333347Z",
     "start_time": "2022-09-27T18:33:05.150761Z"
    },
    "scrolled": true
   },
   "outputs": [],
   "source": [
    "import numpy as np\n",
    "import pandas as pd\n",
    "\n",
    "from re import sub\n",
    "from pprint import pprint\n",
    "from sklearn.feature_extraction.text import TfidfVectorizer\n",
    "\n",
    "from nltk.corpus import stopwords\n",
    "from nltk import ngrams\n",
    "\n",
    "from src.utils.tag_topic import TopicPriorityTag\n",
    "from src.utils.clean_comments import CommentCleaner\n",
    "\n",
    "import gspread as gs\n",
    "import os"
   ]
  },
  {
   "cell_type": "code",
   "execution_count": 3,
   "id": "da1ef93b",
   "metadata": {
    "ExecuteTime": {
     "end_time": "2022-09-27T18:33:06.381722Z",
     "start_time": "2022-09-27T18:33:06.334029Z"
    }
   },
   "outputs": [
    {
     "data": {
      "text/html": [
       "<div>\n",
       "<style scoped>\n",
       "    .dataframe tbody tr th:only-of-type {\n",
       "        vertical-align: middle;\n",
       "    }\n",
       "\n",
       "    .dataframe tbody tr th {\n",
       "        vertical-align: top;\n",
       "    }\n",
       "\n",
       "    .dataframe thead th {\n",
       "        text-align: right;\n",
       "    }\n",
       "</style>\n",
       "<table border=\"1\" class=\"dataframe\">\n",
       "  <thead>\n",
       "    <tr style=\"text-align: right;\">\n",
       "      <th></th>\n",
       "      <th>comment_id</th>\n",
       "      <th>date_aired</th>\n",
       "      <th>sender_name</th>\n",
       "      <th>text</th>\n",
       "      <th>clean_text</th>\n",
       "      <th>clean_text_word_count</th>\n",
       "      <th>text_word_count</th>\n",
       "      <th>gender</th>\n",
       "    </tr>\n",
       "  </thead>\n",
       "  <tbody>\n",
       "    <tr>\n",
       "      <th>0</th>\n",
       "      <td>202207070061</td>\n",
       "      <td>2022-07-07</td>\n",
       "      <td>John ***********</td>\n",
       "      <td>Palala lamang po sa mga ofws sa ksa wag mameke...</td>\n",
       "      <td>palala ofws ksa wag mameke dokyumento nahuli n...</td>\n",
       "      <td>8</td>\n",
       "      <td>17</td>\n",
       "      <td>masculine</td>\n",
       "    </tr>\n",
       "    <tr>\n",
       "      <th>1</th>\n",
       "      <td>202207070065</td>\n",
       "      <td>2022-07-07</td>\n",
       "      <td>Agripina ***********</td>\n",
       "      <td>Hi Sir Arnel good evening Po!watching from San...</td>\n",
       "      <td>joaquin iloilo yrs dole akap financial assista...</td>\n",
       "      <td>8</td>\n",
       "      <td>22</td>\n",
       "      <td>feminine</td>\n",
       "    </tr>\n",
       "    <tr>\n",
       "      <th>2</th>\n",
       "      <td>202207070066</td>\n",
       "      <td>2022-07-07</td>\n",
       "      <td>Merybeth ***********</td>\n",
       "      <td>Hello sir and ma'am Sana matulungan nyo nman a...</td>\n",
       "      <td>matulungan 14year abroad pandemic hindi balik ...</td>\n",
       "      <td>12</td>\n",
       "      <td>32</td>\n",
       "      <td>feminine</td>\n",
       "    </tr>\n",
       "    <tr>\n",
       "      <th>3</th>\n",
       "      <td>202207070067</td>\n",
       "      <td>2022-07-07</td>\n",
       "      <td>Airam ***********</td>\n",
       "      <td>Sir arnel and all the staff, Good evening po! ...</td>\n",
       "      <td>staff ofw kuwait years member owwa lockdown 20...</td>\n",
       "      <td>13</td>\n",
       "      <td>37</td>\n",
       "      <td>feminine</td>\n",
       "    </tr>\n",
       "    <tr>\n",
       "      <th>4</th>\n",
       "      <td>202207070068</td>\n",
       "      <td>2022-07-07</td>\n",
       "      <td>Karen ***********</td>\n",
       "      <td>Paano Kong Hindi Naman distress gusto na lng t...</td>\n",
       "      <td>hindi distress gusto 22yrs lebanon active owwa...</td>\n",
       "      <td>12</td>\n",
       "      <td>35</td>\n",
       "      <td>feminine</td>\n",
       "    </tr>\n",
       "  </tbody>\n",
       "</table>\n",
       "</div>"
      ],
      "text/plain": [
       "     comment_id  date_aired           sender_name  \\\n",
       "0  202207070061  2022-07-07      John ***********   \n",
       "1  202207070065  2022-07-07  Agripina ***********   \n",
       "2  202207070066  2022-07-07  Merybeth ***********   \n",
       "3  202207070067  2022-07-07     Airam ***********   \n",
       "4  202207070068  2022-07-07     Karen ***********   \n",
       "\n",
       "                                                text  \\\n",
       "0  Palala lamang po sa mga ofws sa ksa wag mameke...   \n",
       "1  Hi Sir Arnel good evening Po!watching from San...   \n",
       "2  Hello sir and ma'am Sana matulungan nyo nman a...   \n",
       "3  Sir arnel and all the staff, Good evening po! ...   \n",
       "4  Paano Kong Hindi Naman distress gusto na lng t...   \n",
       "\n",
       "                                          clean_text  clean_text_word_count  \\\n",
       "0  palala ofws ksa wag mameke dokyumento nahuli n...                      8   \n",
       "1  joaquin iloilo yrs dole akap financial assista...                      8   \n",
       "2  matulungan 14year abroad pandemic hindi balik ...                     12   \n",
       "3  staff ofw kuwait years member owwa lockdown 20...                     13   \n",
       "4  hindi distress gusto 22yrs lebanon active owwa...                     12   \n",
       "\n",
       "   text_word_count     gender  \n",
       "0               17  masculine  \n",
       "1               22   feminine  \n",
       "2               32   feminine  \n",
       "3               37   feminine  \n",
       "4               35   feminine  "
      ]
     },
     "execution_count": 3,
     "metadata": {},
     "output_type": "execute_result"
    }
   ],
   "source": [
    "df = pd.read_csv('../output/all_comments.csv')\n",
    "df.head()"
   ]
  },
  {
   "cell_type": "markdown",
   "id": "8ac682be",
   "metadata": {
    "ExecuteTime": {
     "start_time": "2022-09-27T14:41:39.705Z"
    }
   },
   "source": [
    "### Detect topic per comment using previous results"
   ]
  },
  {
   "cell_type": "code",
   "execution_count": 11,
   "id": "173598e5",
   "metadata": {
    "ExecuteTime": {
     "end_time": "2022-09-27T18:33:08.998812Z",
     "start_time": "2022-09-27T18:33:07.739208Z"
    }
   },
   "outputs": [],
   "source": [
    "tagger = TopicPriorityTag()"
   ]
  },
  {
   "cell_type": "code",
   "execution_count": 13,
   "id": "90edf261",
   "metadata": {
    "ExecuteTime": {
     "end_time": "2022-09-27T18:33:12.599953Z",
     "start_time": "2022-09-27T18:33:12.579312Z"
    }
   },
   "outputs": [
    {
     "data": {
      "text/plain": [
       "['Repatriation']"
      ]
     },
     "execution_count": 13,
     "metadata": {},
     "output_type": "execute_result"
    }
   ],
   "source": [
    "#test on longest string\n",
    "field_length = df['clean_text'].map(len)\n",
    "test = df['clean_text'].iloc[1]#loc[field_length.argmax()]\n",
    "#test = 'Sir gusto po sana namin maka avail ng balik Pinas trabho kaso po wla po certification letter sa company ng mister ko na nagppatunay na hindi po sya nkabalik sa work nya dahil sa covid..paano po pwede gawin sir salamat po.kc parang malabo makakuha kasi dito na sya sa Pinas.salamat po'\n",
    "tagger.tag_topic_category(test)"
   ]
  },
  {
   "cell_type": "code",
   "execution_count": 14,
   "id": "2cb51590",
   "metadata": {
    "ExecuteTime": {
     "end_time": "2022-09-27T18:34:02.028036Z",
     "start_time": "2022-09-27T18:33:48.253545Z"
    }
   },
   "outputs": [
    {
     "data": {
      "text/html": [
       "<div>\n",
       "<style scoped>\n",
       "    .dataframe tbody tr th:only-of-type {\n",
       "        vertical-align: middle;\n",
       "    }\n",
       "\n",
       "    .dataframe tbody tr th {\n",
       "        vertical-align: top;\n",
       "    }\n",
       "\n",
       "    .dataframe thead th {\n",
       "        text-align: right;\n",
       "    }\n",
       "</style>\n",
       "<table border=\"1\" class=\"dataframe\">\n",
       "  <thead>\n",
       "    <tr style=\"text-align: right;\">\n",
       "      <th></th>\n",
       "      <th>comment_id</th>\n",
       "      <th>date_aired</th>\n",
       "      <th>sender_name</th>\n",
       "      <th>text</th>\n",
       "      <th>clean_text</th>\n",
       "      <th>clean_text_word_count</th>\n",
       "      <th>text_word_count</th>\n",
       "      <th>gender</th>\n",
       "      <th>topic_category</th>\n",
       "      <th>priority</th>\n",
       "    </tr>\n",
       "  </thead>\n",
       "  <tbody>\n",
       "    <tr>\n",
       "      <th>0</th>\n",
       "      <td>202207070061</td>\n",
       "      <td>2022-07-07</td>\n",
       "      <td>John ***********</td>\n",
       "      <td>Palala lamang po sa mga ofws sa ksa wag mameke...</td>\n",
       "      <td>palala ofws ksa wag mameke dokyumento nahuli n...</td>\n",
       "      <td>8</td>\n",
       "      <td>17</td>\n",
       "      <td>masculine</td>\n",
       "      <td>[]</td>\n",
       "      <td>0</td>\n",
       "    </tr>\n",
       "    <tr>\n",
       "      <th>1</th>\n",
       "      <td>202207070065</td>\n",
       "      <td>2022-07-07</td>\n",
       "      <td>Agripina ***********</td>\n",
       "      <td>Hi Sir Arnel good evening Po!watching from San...</td>\n",
       "      <td>joaquin iloilo yrs dole akap financial assista...</td>\n",
       "      <td>8</td>\n",
       "      <td>22</td>\n",
       "      <td>feminine</td>\n",
       "      <td>[Repatriation]</td>\n",
       "      <td>2</td>\n",
       "    </tr>\n",
       "    <tr>\n",
       "      <th>2</th>\n",
       "      <td>202207070066</td>\n",
       "      <td>2022-07-07</td>\n",
       "      <td>Merybeth ***********</td>\n",
       "      <td>Hello sir and ma'am Sana matulungan nyo nman a...</td>\n",
       "      <td>matulungan 14year abroad pandemic hindi balik ...</td>\n",
       "      <td>12</td>\n",
       "      <td>32</td>\n",
       "      <td>feminine</td>\n",
       "      <td>[Calamity, Disability and Death Assistance, Me...</td>\n",
       "      <td>3</td>\n",
       "    </tr>\n",
       "    <tr>\n",
       "      <th>3</th>\n",
       "      <td>202207070067</td>\n",
       "      <td>2022-07-07</td>\n",
       "      <td>Airam ***********</td>\n",
       "      <td>Sir arnel and all the staff, Good evening po! ...</td>\n",
       "      <td>staff ofw kuwait years member owwa lockdown 20...</td>\n",
       "      <td>13</td>\n",
       "      <td>37</td>\n",
       "      <td>feminine</td>\n",
       "      <td>[Calamity, Disability and Death Assistance, Me...</td>\n",
       "      <td>3</td>\n",
       "    </tr>\n",
       "    <tr>\n",
       "      <th>4</th>\n",
       "      <td>202207070068</td>\n",
       "      <td>2022-07-07</td>\n",
       "      <td>Karen ***********</td>\n",
       "      <td>Paano Kong Hindi Naman distress gusto na lng t...</td>\n",
       "      <td>hindi distress gusto 22yrs lebanon active owwa...</td>\n",
       "      <td>12</td>\n",
       "      <td>35</td>\n",
       "      <td>feminine</td>\n",
       "      <td>[Membership, Certifications and Online Services]</td>\n",
       "      <td>1</td>\n",
       "    </tr>\n",
       "    <tr>\n",
       "      <th>...</th>\n",
       "      <td>...</td>\n",
       "      <td>...</td>\n",
       "      <td>...</td>\n",
       "      <td>...</td>\n",
       "      <td>...</td>\n",
       "      <td>...</td>\n",
       "      <td>...</td>\n",
       "      <td>...</td>\n",
       "      <td>...</td>\n",
       "      <td>...</td>\n",
       "    </tr>\n",
       "    <tr>\n",
       "      <th>17531</th>\n",
       "      <td>202207211605</td>\n",
       "      <td>2022-07-21</td>\n",
       "      <td>Sarupac ***********</td>\n",
       "      <td>Magandang araw po saan po pwede lumapit kung m...</td>\n",
       "      <td>araw lumapit repatriation reuest agency oman h...</td>\n",
       "      <td>19</td>\n",
       "      <td>57</td>\n",
       "      <td>unknown</td>\n",
       "      <td>[Livelihood Assistance, Repatriation]</td>\n",
       "      <td>2</td>\n",
       "    </tr>\n",
       "    <tr>\n",
       "      <th>17532</th>\n",
       "      <td>202207211606</td>\n",
       "      <td>2022-07-21</td>\n",
       "      <td>Sarupac ***********</td>\n",
       "      <td>Magandang araw po saan po pwede lumapit kung m...</td>\n",
       "      <td>araw lumapit repatriation reuest agency oman h...</td>\n",
       "      <td>21</td>\n",
       "      <td>51</td>\n",
       "      <td>unknown</td>\n",
       "      <td>[Livelihood Assistance, Repatriation]</td>\n",
       "      <td>2</td>\n",
       "    </tr>\n",
       "    <tr>\n",
       "      <th>17533</th>\n",
       "      <td>202207211607</td>\n",
       "      <td>2022-07-21</td>\n",
       "      <td>Muslimah ***********</td>\n",
       "      <td>From U.A.E pano po mag aply s owwa scholarship</td>\n",
       "      <td>aply owwa scholarship</td>\n",
       "      <td>3</td>\n",
       "      <td>9</td>\n",
       "      <td>feminine</td>\n",
       "      <td>[Scholarship]</td>\n",
       "      <td>2</td>\n",
       "    </tr>\n",
       "    <tr>\n",
       "      <th>17534</th>\n",
       "      <td>202207211608</td>\n",
       "      <td>2022-07-21</td>\n",
       "      <td>Lina ***********</td>\n",
       "      <td>Sir tanong lang nagrenew kasi kami ng mga kasa...</td>\n",
       "      <td>tanong nagrenew kasama polo owwa araw bago pap...</td>\n",
       "      <td>12</td>\n",
       "      <td>27</td>\n",
       "      <td>feminine</td>\n",
       "      <td>[]</td>\n",
       "      <td>0</td>\n",
       "    </tr>\n",
       "    <tr>\n",
       "      <th>17535</th>\n",
       "      <td>202207211609</td>\n",
       "      <td>2022-07-21</td>\n",
       "      <td>Muslimah ***********</td>\n",
       "      <td>From U.a.e po pano po mag aply sa owwa scholar...</td>\n",
       "      <td>aply owwa scholarship</td>\n",
       "      <td>3</td>\n",
       "      <td>10</td>\n",
       "      <td>feminine</td>\n",
       "      <td>[Scholarship]</td>\n",
       "      <td>2</td>\n",
       "    </tr>\n",
       "  </tbody>\n",
       "</table>\n",
       "<p>17536 rows × 10 columns</p>\n",
       "</div>"
      ],
      "text/plain": [
       "         comment_id  date_aired           sender_name  \\\n",
       "0      202207070061  2022-07-07      John ***********   \n",
       "1      202207070065  2022-07-07  Agripina ***********   \n",
       "2      202207070066  2022-07-07  Merybeth ***********   \n",
       "3      202207070067  2022-07-07     Airam ***********   \n",
       "4      202207070068  2022-07-07     Karen ***********   \n",
       "...             ...         ...                   ...   \n",
       "17531  202207211605  2022-07-21   Sarupac ***********   \n",
       "17532  202207211606  2022-07-21   Sarupac ***********   \n",
       "17533  202207211607  2022-07-21  Muslimah ***********   \n",
       "17534  202207211608  2022-07-21      Lina ***********   \n",
       "17535  202207211609  2022-07-21  Muslimah ***********   \n",
       "\n",
       "                                                    text  \\\n",
       "0      Palala lamang po sa mga ofws sa ksa wag mameke...   \n",
       "1      Hi Sir Arnel good evening Po!watching from San...   \n",
       "2      Hello sir and ma'am Sana matulungan nyo nman a...   \n",
       "3      Sir arnel and all the staff, Good evening po! ...   \n",
       "4      Paano Kong Hindi Naman distress gusto na lng t...   \n",
       "...                                                  ...   \n",
       "17531  Magandang araw po saan po pwede lumapit kung m...   \n",
       "17532  Magandang araw po saan po pwede lumapit kung m...   \n",
       "17533     From U.A.E pano po mag aply s owwa scholarship   \n",
       "17534  Sir tanong lang nagrenew kasi kami ng mga kasa...   \n",
       "17535  From U.a.e po pano po mag aply sa owwa scholar...   \n",
       "\n",
       "                                              clean_text  \\\n",
       "0      palala ofws ksa wag mameke dokyumento nahuli n...   \n",
       "1      joaquin iloilo yrs dole akap financial assista...   \n",
       "2      matulungan 14year abroad pandemic hindi balik ...   \n",
       "3      staff ofw kuwait years member owwa lockdown 20...   \n",
       "4      hindi distress gusto 22yrs lebanon active owwa...   \n",
       "...                                                  ...   \n",
       "17531  araw lumapit repatriation reuest agency oman h...   \n",
       "17532  araw lumapit repatriation reuest agency oman h...   \n",
       "17533                              aply owwa scholarship   \n",
       "17534  tanong nagrenew kasama polo owwa araw bago pap...   \n",
       "17535                              aply owwa scholarship   \n",
       "\n",
       "       clean_text_word_count  text_word_count     gender  \\\n",
       "0                          8               17  masculine   \n",
       "1                          8               22   feminine   \n",
       "2                         12               32   feminine   \n",
       "3                         13               37   feminine   \n",
       "4                         12               35   feminine   \n",
       "...                      ...              ...        ...   \n",
       "17531                     19               57    unknown   \n",
       "17532                     21               51    unknown   \n",
       "17533                      3                9   feminine   \n",
       "17534                     12               27   feminine   \n",
       "17535                      3               10   feminine   \n",
       "\n",
       "                                          topic_category  priority  \n",
       "0                                                     []         0  \n",
       "1                                         [Repatriation]         2  \n",
       "2      [Calamity, Disability and Death Assistance, Me...         3  \n",
       "3      [Calamity, Disability and Death Assistance, Me...         3  \n",
       "4       [Membership, Certifications and Online Services]         1  \n",
       "...                                                  ...       ...  \n",
       "17531              [Livelihood Assistance, Repatriation]         2  \n",
       "17532              [Livelihood Assistance, Repatriation]         2  \n",
       "17533                                      [Scholarship]         2  \n",
       "17534                                                 []         0  \n",
       "17535                                      [Scholarship]         2  \n",
       "\n",
       "[17536 rows x 10 columns]"
      ]
     },
     "execution_count": 14,
     "metadata": {},
     "output_type": "execute_result"
    }
   ],
   "source": [
    "df['topic_category'] = df['clean_text'].apply(lambda x: tagger.tag_topic_category(x))\n",
    "df['priority']= df['topic_category'].apply(lambda x: tagger.tag_topic_priority(x))\n",
    "#df['topic_category'] = df['topic_category'].apply(lambda x: '; '.join(x))\n",
    "df"
   ]
  },
  {
   "cell_type": "code",
   "execution_count": 23,
   "id": "3fed8abd",
   "metadata": {
    "ExecuteTime": {
     "end_time": "2022-09-28T05:49:06.499606Z",
     "start_time": "2022-09-28T05:49:06.480899Z"
    }
   },
   "outputs": [
    {
     "data": {
      "text/plain": [
       "feminine            0.488880\n",
       "unknown             0.308052\n",
       "masculine           0.143875\n",
       "androgynous         0.026004\n",
       "mostly_feminine     0.018077\n",
       "mostly_masculine    0.015112\n",
       "Name: gender, dtype: float64"
      ]
     },
     "execution_count": 23,
     "metadata": {},
     "output_type": "execute_result"
    }
   ],
   "source": [
    "df['gender'].value_counts(normalize=True)"
   ]
  },
  {
   "cell_type": "code",
   "execution_count": 20,
   "id": "ca8214c2",
   "metadata": {
    "ExecuteTime": {
     "end_time": "2022-09-28T05:27:25.803011Z",
     "start_time": "2022-09-28T05:27:25.781244Z"
    }
   },
   "outputs": [
    {
     "data": {
      "text/plain": [
       "8596"
      ]
     },
     "execution_count": 20,
     "metadata": {},
     "output_type": "execute_result"
    }
   ],
   "source": [
    "len(df[df['topic_category'].map(len)>0])"
   ]
  },
  {
   "cell_type": "code",
   "execution_count": 209,
   "id": "0c8c20bf",
   "metadata": {
    "ExecuteTime": {
     "end_time": "2022-09-27T17:59:26.674095Z",
     "start_time": "2022-09-27T17:59:26.573586Z"
    }
   },
   "outputs": [],
   "source": [
    "df.to_csv('../output/all_comments_topic_tagged.csv')"
   ]
  },
  {
   "cell_type": "markdown",
   "id": "0fd910de",
   "metadata": {
    "ExecuteTime": {
     "end_time": "2022-09-27T18:02:44.135794Z",
     "start_time": "2022-09-27T18:02:44.125097Z"
    }
   },
   "source": [
    "### Count topic category per guessed gender"
   ]
  },
  {
   "cell_type": "code",
   "execution_count": 15,
   "id": "a7b42d35",
   "metadata": {
    "ExecuteTime": {
     "end_time": "2022-09-27T18:35:27.949682Z",
     "start_time": "2022-09-27T18:35:27.912218Z"
    }
   },
   "outputs": [
    {
     "data": {
      "text/html": [
       "<div>\n",
       "<style scoped>\n",
       "    .dataframe tbody tr th:only-of-type {\n",
       "        vertical-align: middle;\n",
       "    }\n",
       "\n",
       "    .dataframe tbody tr th {\n",
       "        vertical-align: top;\n",
       "    }\n",
       "\n",
       "    .dataframe thead th {\n",
       "        text-align: right;\n",
       "    }\n",
       "</style>\n",
       "<table border=\"1\" class=\"dataframe\">\n",
       "  <thead>\n",
       "    <tr style=\"text-align: right;\">\n",
       "      <th></th>\n",
       "      <th>gender</th>\n",
       "      <th>topic_category</th>\n",
       "    </tr>\n",
       "  </thead>\n",
       "  <tbody>\n",
       "    <tr>\n",
       "      <th>1</th>\n",
       "      <td>feminine</td>\n",
       "      <td>Repatriation</td>\n",
       "    </tr>\n",
       "    <tr>\n",
       "      <th>2</th>\n",
       "      <td>feminine</td>\n",
       "      <td>Calamity, Disability and Death Assistance</td>\n",
       "    </tr>\n",
       "    <tr>\n",
       "      <th>2</th>\n",
       "      <td>feminine</td>\n",
       "      <td>Membership, Certifications and Online Services</td>\n",
       "    </tr>\n",
       "    <tr>\n",
       "      <th>2</th>\n",
       "      <td>feminine</td>\n",
       "      <td>Repatriation</td>\n",
       "    </tr>\n",
       "    <tr>\n",
       "      <th>3</th>\n",
       "      <td>feminine</td>\n",
       "      <td>Calamity, Disability and Death Assistance</td>\n",
       "    </tr>\n",
       "    <tr>\n",
       "      <th>...</th>\n",
       "      <td>...</td>\n",
       "      <td>...</td>\n",
       "    </tr>\n",
       "    <tr>\n",
       "      <th>17531</th>\n",
       "      <td>unknown</td>\n",
       "      <td>Repatriation</td>\n",
       "    </tr>\n",
       "    <tr>\n",
       "      <th>17532</th>\n",
       "      <td>unknown</td>\n",
       "      <td>Livelihood Assistance</td>\n",
       "    </tr>\n",
       "    <tr>\n",
       "      <th>17532</th>\n",
       "      <td>unknown</td>\n",
       "      <td>Repatriation</td>\n",
       "    </tr>\n",
       "    <tr>\n",
       "      <th>17533</th>\n",
       "      <td>feminine</td>\n",
       "      <td>Scholarship</td>\n",
       "    </tr>\n",
       "    <tr>\n",
       "      <th>17535</th>\n",
       "      <td>feminine</td>\n",
       "      <td>Scholarship</td>\n",
       "    </tr>\n",
       "  </tbody>\n",
       "</table>\n",
       "<p>10570 rows × 2 columns</p>\n",
       "</div>"
      ],
      "text/plain": [
       "         gender                                  topic_category\n",
       "1      feminine                                    Repatriation\n",
       "2      feminine       Calamity, Disability and Death Assistance\n",
       "2      feminine  Membership, Certifications and Online Services\n",
       "2      feminine                                    Repatriation\n",
       "3      feminine       Calamity, Disability and Death Assistance\n",
       "...         ...                                             ...\n",
       "17531   unknown                                    Repatriation\n",
       "17532   unknown                           Livelihood Assistance\n",
       "17532   unknown                                    Repatriation\n",
       "17533  feminine                                     Scholarship\n",
       "17535  feminine                                     Scholarship\n",
       "\n",
       "[10570 rows x 2 columns]"
      ]
     },
     "execution_count": 15,
     "metadata": {},
     "output_type": "execute_result"
    }
   ],
   "source": [
    "gender_df = df[df['topic_category'].map(len)>0][['gender','topic_category']].copy()\n",
    "gender_df = gender_df.explode('topic_category')\n",
    "gender_df['gender'] = gender_df['gender'].apply(lambda x: sub('mostly_','',x))\n",
    "gender_df"
   ]
  },
  {
   "cell_type": "code",
   "execution_count": 16,
   "id": "98b8748f",
   "metadata": {
    "ExecuteTime": {
     "end_time": "2022-09-27T18:35:29.435514Z",
     "start_time": "2022-09-27T18:35:29.413161Z"
    }
   },
   "outputs": [
    {
     "data": {
      "text/html": [
       "<div>\n",
       "<style scoped>\n",
       "    .dataframe tbody tr th:only-of-type {\n",
       "        vertical-align: middle;\n",
       "    }\n",
       "\n",
       "    .dataframe tbody tr th {\n",
       "        vertical-align: top;\n",
       "    }\n",
       "\n",
       "    .dataframe thead th {\n",
       "        text-align: right;\n",
       "    }\n",
       "</style>\n",
       "<table border=\"1\" class=\"dataframe\">\n",
       "  <thead>\n",
       "    <tr style=\"text-align: right;\">\n",
       "      <th>gender</th>\n",
       "      <th>androgynous</th>\n",
       "      <th>feminine</th>\n",
       "      <th>masculine</th>\n",
       "      <th>unknown</th>\n",
       "    </tr>\n",
       "    <tr>\n",
       "      <th>topic_category</th>\n",
       "      <th></th>\n",
       "      <th></th>\n",
       "      <th></th>\n",
       "      <th></th>\n",
       "    </tr>\n",
       "  </thead>\n",
       "  <tbody>\n",
       "    <tr>\n",
       "      <th>Calamity, Disability and Death Assistance</th>\n",
       "      <td>19</td>\n",
       "      <td>339</td>\n",
       "      <td>94</td>\n",
       "      <td>220</td>\n",
       "    </tr>\n",
       "    <tr>\n",
       "      <th>Detention, Abuse and Harassment</th>\n",
       "      <td>1</td>\n",
       "      <td>20</td>\n",
       "      <td>4</td>\n",
       "      <td>28</td>\n",
       "    </tr>\n",
       "    <tr>\n",
       "      <th>Health</th>\n",
       "      <td>14</td>\n",
       "      <td>276</td>\n",
       "      <td>103</td>\n",
       "      <td>142</td>\n",
       "    </tr>\n",
       "    <tr>\n",
       "      <th>Livelihood Assistance</th>\n",
       "      <td>6</td>\n",
       "      <td>264</td>\n",
       "      <td>122</td>\n",
       "      <td>187</td>\n",
       "    </tr>\n",
       "    <tr>\n",
       "      <th>Membership, Certifications and Online Services</th>\n",
       "      <td>43</td>\n",
       "      <td>827</td>\n",
       "      <td>204</td>\n",
       "      <td>528</td>\n",
       "    </tr>\n",
       "    <tr>\n",
       "      <th>Reintegration</th>\n",
       "      <td>4</td>\n",
       "      <td>182</td>\n",
       "      <td>72</td>\n",
       "      <td>135</td>\n",
       "    </tr>\n",
       "    <tr>\n",
       "      <th>Repatriation</th>\n",
       "      <td>110</td>\n",
       "      <td>2065</td>\n",
       "      <td>752</td>\n",
       "      <td>1346</td>\n",
       "    </tr>\n",
       "    <tr>\n",
       "      <th>Scholarship</th>\n",
       "      <td>84</td>\n",
       "      <td>1287</td>\n",
       "      <td>304</td>\n",
       "      <td>701</td>\n",
       "    </tr>\n",
       "    <tr>\n",
       "      <th>Training</th>\n",
       "      <td>3</td>\n",
       "      <td>35</td>\n",
       "      <td>22</td>\n",
       "      <td>27</td>\n",
       "    </tr>\n",
       "  </tbody>\n",
       "</table>\n",
       "</div>"
      ],
      "text/plain": [
       "gender                                          androgynous  feminine  \\\n",
       "topic_category                                                          \n",
       "Calamity, Disability and Death Assistance                19       339   \n",
       "Detention, Abuse and Harassment                           1        20   \n",
       "Health                                                   14       276   \n",
       "Livelihood Assistance                                     6       264   \n",
       "Membership, Certifications and Online Services           43       827   \n",
       "Reintegration                                             4       182   \n",
       "Repatriation                                            110      2065   \n",
       "Scholarship                                              84      1287   \n",
       "Training                                                  3        35   \n",
       "\n",
       "gender                                          masculine  unknown  \n",
       "topic_category                                                      \n",
       "Calamity, Disability and Death Assistance              94      220  \n",
       "Detention, Abuse and Harassment                         4       28  \n",
       "Health                                                103      142  \n",
       "Livelihood Assistance                                 122      187  \n",
       "Membership, Certifications and Online Services        204      528  \n",
       "Reintegration                                          72      135  \n",
       "Repatriation                                          752     1346  \n",
       "Scholarship                                           304      701  \n",
       "Training                                               22       27  "
      ]
     },
     "execution_count": 16,
     "metadata": {},
     "output_type": "execute_result"
    }
   ],
   "source": [
    "pgdf = gender_df.groupby(['topic_category','gender']).size().to_frame('count').reset_index()\n",
    "pgdf = pgdf.pivot(index='topic_category',columns='gender', values='count')\n",
    "pgdf"
   ]
  },
  {
   "cell_type": "code",
   "execution_count": 21,
   "id": "7d308573",
   "metadata": {
    "ExecuteTime": {
     "end_time": "2022-09-28T05:45:41.390235Z",
     "start_time": "2022-09-28T05:45:41.373447Z"
    }
   },
   "outputs": [],
   "source": [
    "pgdf.to_csv('../output/topic_category_per_gender.csv')"
   ]
  },
  {
   "cell_type": "code",
   "execution_count": null,
   "id": "63e5fb46",
   "metadata": {},
   "outputs": [],
   "source": []
  }
 ],
 "metadata": {
  "kernelspec": {
   "display_name": "Python 3 (ipykernel)",
   "language": "python",
   "name": "python3"
  },
  "language_info": {
   "codemirror_mode": {
    "name": "ipython",
    "version": 3
   },
   "file_extension": ".py",
   "mimetype": "text/x-python",
   "name": "python",
   "nbconvert_exporter": "python",
   "pygments_lexer": "ipython3",
   "version": "3.9.12"
  }
 },
 "nbformat": 4,
 "nbformat_minor": 5
}

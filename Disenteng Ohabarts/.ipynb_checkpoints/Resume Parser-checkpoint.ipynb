{
 "cells": [
  {
   "cell_type": "code",
   "execution_count": 187,
   "id": "3c6f680c",
   "metadata": {},
   "outputs": [],
   "source": [
    "from resume_parser import resumeparse\n",
    "import pandas as pd"
   ]
  },
  {
   "cell_type": "code",
   "execution_count": 207,
   "id": "d17fb209",
   "metadata": {},
   "outputs": [
    {
     "name": "stderr",
     "output_type": "stream",
     "text": [
      "2022-09-28 16:01:47,869 [MainThread  ] [ERROR]  Unable to run java; is it installed?\n",
      "ERROR:tika.tika:Unable to run java; is it installed?\n",
      "2022-09-28 16:01:47,871 [MainThread  ] [ERROR]  Failed to receive startup confirmation from startServer.\n",
      "ERROR:tika.tika:Failed to receive startup confirmation from startServer.\n",
      "ERROR:root:Error in tika installation:: Unable to start Tika server.\n",
      "ERROR:root:--------------------------\n",
      "ERROR:root:Install java for better result \n"
     ]
    }
   ],
   "source": [
    "data = resumeparse.read_file(\"DeGuzman_Karl_CV.pdf\")"
   ]
  },
  {
   "cell_type": "code",
   "execution_count": 208,
   "id": "ad4a2e26",
   "metadata": {},
   "outputs": [],
   "source": [
    "skills = data['skills'].copy()"
   ]
  },
  {
   "cell_type": "code",
   "execution_count": 210,
   "id": "9b5ea4e9",
   "metadata": {},
   "outputs": [],
   "source": [
    "for i in range(len(skills)):\n",
    "    skills[i] = skills[i].lower()\n",
    "    skills[i] = skills[i].strip()\n",
    "    skills[i] = skills[i].replace(\":\", '')"
   ]
  },
  {
   "cell_type": "code",
   "execution_count": null,
   "id": "38c0661a",
   "metadata": {},
   "outputs": [],
   "source": []
  },
  {
   "cell_type": "code",
   "execution_count": 191,
   "id": "42eaaf0e",
   "metadata": {},
   "outputs": [],
   "source": [
    "quality = 0\n",
    "operations = 0\n",
    "supplychain = 0\n",
    "project = 0\n",
    "data = 0\n",
    "healthcare = 0"
   ]
  },
  {
   "cell_type": "code",
   "execution_count": 197,
   "id": "2b0fd81e",
   "metadata": {},
   "outputs": [],
   "source": [
    "terms = {'Quality/Six Sigma':['black belt','capability analysis','control charts','doe','dmaic','fishbone',\n",
    "                              'gage r&r', 'green belt','ishikawa','iso','kaizen','kpi','lean','metrics',\n",
    "                              'pdsa','performance improvement','process improvement','quality',\n",
    "                              'quality circles','quality tools','root cause','six sigma',\n",
    "                              'stability analysis','statistical analysis','tqm'],      \n",
    "        'Operations management':['automation','bottleneck','constraints','cycle time','efficiency','fmea',\n",
    "                                 'machinery','maintenance','manufacture','line balancing','oee','operations',\n",
    "                                 'operations research','optimization','overall equipment effectiveness',\n",
    "                                 'pfmea','process','process mapping','production','resources','safety',\n",
    "                                 'stoppage','value stream mapping','utilization'],\n",
    "        'Supply chain':['abc analysis','apics','customer','customs','delivery','distribution','eoq','epq',\n",
    "                        'fleet','forecast','inventory','logistic','materials','outsourcing','procurement',\n",
    "                        'reorder point','rout','safety stock','scheduling','shipping','stock','suppliers',\n",
    "                        'third party logistics','transport','transportation','traffic','supply chain',\n",
    "                        'vendor','warehouse','wip','work in progress'],\n",
    "        'Project management':['administration','agile','budget','cost','direction','feasibility analysis',\n",
    "                              'finance','kanban','leader','leadership','management','milestones','planning',\n",
    "                              'pmi','pmp','problem','project','risk','schedule','scrum','stakeholders'],\n",
    "        'Data analytics':['analytics','api','aws','big data','busines intelligence','clustering','code',\n",
    "                          'coding','data','database','data mining','data science','deep learning','hadoop',\n",
    "                          'hypothesis test','iot','internet','machine learning','modeling','nosql','nlp',\n",
    "                          'predictive','programming','python','r','sql','tableau','text mining',\n",
    "                          'visualuzation'],\n",
    "        'Healthcare':['adverse events','care','clinic','cphq','ergonomics','healthcare',\n",
    "                      'health care','health','hospital','human factors','medical','near misses',\n",
    "                      'patient','reporting system']}"
   ]
  },
  {
   "cell_type": "code",
   "execution_count": 193,
   "id": "77c50739",
   "metadata": {},
   "outputs": [],
   "source": [
    "scores = []\n",
    "\n",
    "# Obtain the scores for each area\n",
    "for area in terms.keys():\n",
    "        \n",
    "    if area == 'Quality/Six Sigma':\n",
    "        for word in terms[area]:\n",
    "            for skill in skills:\n",
    "                if skill in word:\n",
    "                    quality +=1\n",
    "        scores.append(quality)\n",
    "        \n",
    "    elif area == 'Operations management':\n",
    "        for word in terms[area]:\n",
    "            for skill in skills:\n",
    "                if skill in word:\n",
    "                    operations +=1\n",
    "        scores.append(operations)\n",
    "        \n",
    "    elif area == 'Supply chain':\n",
    "        for word in terms[area]:\n",
    "            for skill in skills:\n",
    "                if skill in word:\n",
    "                    supplychain +=1\n",
    "        scores.append(supplychain)\n",
    "        \n",
    "    elif area == 'Project management':\n",
    "        for word in terms[area]:\n",
    "            for skill in skills:\n",
    "                if skill in word:\n",
    "                    project +=1\n",
    "        scores.append(project)\n",
    "        \n",
    "    elif area == 'Data analytics':\n",
    "        for word in terms[area]:\n",
    "            for skill in skills:\n",
    "                if skill in word:\n",
    "                    data+=1\n",
    "        scores.append(data)\n",
    "        \n",
    "    else:\n",
    "        for word in terms[area]:\n",
    "            for skill in skills:\n",
    "                if skill in word:\n",
    "                    healthcare +=1\n",
    "        scores.append(healthcare)"
   ]
  },
  {
   "cell_type": "code",
   "execution_count": 194,
   "id": "b4c2c215",
   "metadata": {},
   "outputs": [
    {
     "data": {
      "text/html": [
       "<div>\n",
       "<style scoped>\n",
       "    .dataframe tbody tr th:only-of-type {\n",
       "        vertical-align: middle;\n",
       "    }\n",
       "\n",
       "    .dataframe tbody tr th {\n",
       "        vertical-align: top;\n",
       "    }\n",
       "\n",
       "    .dataframe thead th {\n",
       "        text-align: right;\n",
       "    }\n",
       "</style>\n",
       "<table border=\"1\" class=\"dataframe\">\n",
       "  <thead>\n",
       "    <tr style=\"text-align: right;\">\n",
       "      <th></th>\n",
       "      <th>score</th>\n",
       "    </tr>\n",
       "  </thead>\n",
       "  <tbody>\n",
       "    <tr>\n",
       "      <th>Supply chain</th>\n",
       "      <td>31</td>\n",
       "    </tr>\n",
       "    <tr>\n",
       "      <th>Data analytics</th>\n",
       "      <td>30</td>\n",
       "    </tr>\n",
       "    <tr>\n",
       "      <th>Quality/Six Sigma</th>\n",
       "      <td>25</td>\n",
       "    </tr>\n",
       "    <tr>\n",
       "      <th>Operations management</th>\n",
       "      <td>24</td>\n",
       "    </tr>\n",
       "    <tr>\n",
       "      <th>Project management</th>\n",
       "      <td>21</td>\n",
       "    </tr>\n",
       "    <tr>\n",
       "      <th>Healthcare</th>\n",
       "      <td>14</td>\n",
       "    </tr>\n",
       "  </tbody>\n",
       "</table>\n",
       "</div>"
      ],
      "text/plain": [
       "                       score\n",
       "Supply chain              31\n",
       "Data analytics            30\n",
       "Quality/Six Sigma         25\n",
       "Operations management     24\n",
       "Project management        21\n",
       "Healthcare                14"
      ]
     },
     "execution_count": 194,
     "metadata": {},
     "output_type": "execute_result"
    }
   ],
   "source": [
    "summary = pd.DataFrame(scores,index=terms.keys(),columns=['score']).sort_values(by='score',ascending=False)\n",
    "summary"
   ]
  },
  {
   "cell_type": "code",
   "execution_count": 172,
   "id": "1ff2b7a6",
   "metadata": {},
   "outputs": [
    {
     "name": "stdout",
     "output_type": "stream",
     "text": [
      "30\n"
     ]
    }
   ],
   "source": [
    "data=0\n",
    "for word in terms['Data analytics']:\n",
    "    for i in skills:\n",
    "        if word in skills:\n",
    "            data +=1\n",
    "print(data)"
   ]
  },
  {
   "cell_type": "code",
   "execution_count": 204,
   "id": "5817d216",
   "metadata": {},
   "outputs": [],
   "source": [
    "data=0\n",
    "for word in terms['Data analytics']:\n",
    "    for skill in skills:\n",
    "        if skill == word:\n",
    "            data+=1"
   ]
  },
  {
   "cell_type": "code",
   "execution_count": 206,
   "id": "dcaa26c4",
   "metadata": {},
   "outputs": [
    {
     "data": {
      "text/plain": [
       "[' python',\n",
       " ' c++',\n",
       " ' c#',\n",
       " ' dart',\n",
       " 'data science cleaning',\n",
       " ' wrangling',\n",
       " ' visualization',\n",
       " ' interpretation',\n",
       " ' statistics',\n",
       " ' excel',\n",
       " ' git',\n",
       " ' machine learning',\n",
       " '',\n",
       " 'deep learning',\n",
       " ' tensorflow',\n",
       " ' model deployment',\n",
       " 'web development html',\n",
       " ' css',\n",
       " ' javascript',\n",
       " ' bootstrap',\n",
       " ' python django',\n",
       " ' google firebase',\n",
       " 'mobile app development flutter',\n",
       " 'organizations',\n",
       " 'analytics association of the philippines',\n",
       " ' member',\n",
       " ' 2021',\n",
       " 'institute of computer engineers of the philippine student edition – ncr chapter',\n",
       " 'mechatronics and robotics society of the philippines',\n",
       " ' board member']"
      ]
     },
     "execution_count": 206,
     "metadata": {},
     "output_type": "execute_result"
    }
   ],
   "source": [
    "skills"
   ]
  },
  {
   "cell_type": "code",
   "execution_count": null,
   "id": "4aa2990f",
   "metadata": {},
   "outputs": [],
   "source": []
  }
 ],
 "metadata": {
  "kernelspec": {
   "display_name": "Python 3 (ipykernel)",
   "language": "python",
   "name": "python3"
  },
  "language_info": {
   "codemirror_mode": {
    "name": "ipython",
    "version": 3
   },
   "file_extension": ".py",
   "mimetype": "text/x-python",
   "name": "python",
   "nbconvert_exporter": "python",
   "pygments_lexer": "ipython3",
   "version": "3.9.0"
  }
 },
 "nbformat": 4,
 "nbformat_minor": 5
}
